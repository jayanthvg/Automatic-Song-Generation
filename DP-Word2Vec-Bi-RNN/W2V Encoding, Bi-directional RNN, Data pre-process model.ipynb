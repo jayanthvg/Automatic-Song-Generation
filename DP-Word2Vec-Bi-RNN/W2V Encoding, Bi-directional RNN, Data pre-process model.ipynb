{
 "cells": [
  {
   "cell_type": "markdown",
   "metadata": {
    "colab_type": "text",
    "id": "eSe5R3Xr7FBS"
   },
   "source": [
    "# ***W2V Encoding, Bi-directional RNN model on pre-processed dataset***"
   ]
  },
  {
   "cell_type": "markdown",
   "metadata": {
    "colab_type": "text",
    "id": "pw314RVS5-o1"
   },
   "source": [
    "**Contents**\n",
    "\n",
    "1.   Mounting Drive\n",
    "2.   Importing Libraries\n",
    "3.   Loading Dataset\n",
    "4.   Data pre-processing\n",
    "4.   Tokenization\n",
    "5.   Creating features and labels for model building\n",
    "6.   Creating Embedding matrix (word2vec)\n",
    "7.   Splitting dataset as Train, Validation sets\n",
    "8.   Model Building\n",
    "9.   Generating new songs\n",
    "10.  BLEU scores for each model\n",
    "11.  Plots for BLEU scores\n",
    "\n"
   ]
  },
  {
   "cell_type": "markdown",
   "metadata": {
    "colab_type": "text",
    "id": "nb45YCxjchHp"
   },
   "source": [
    "**Mounting Drive**"
   ]
  },
  {
   "cell_type": "code",
   "execution_count": 19,
   "metadata": {
    "colab": {
     "base_uri": "https://localhost:8080/",
     "height": 34
    },
    "colab_type": "code",
    "id": "Ea_0VDdVciZh",
    "outputId": "b3a72f12-646d-4e40-e6df-6f7daccccdef"
   },
   "outputs": [
    {
     "name": "stdout",
     "output_type": "stream",
     "text": [
      "Drive already mounted at /content/drive; to attempt to forcibly remount, call drive.mount(\"/content/drive\", force_remount=True).\n"
     ]
    }
   ],
   "source": [
    "from google.colab import drive\n",
    "drive.mount('/content/drive')"
   ]
  },
  {
   "cell_type": "markdown",
   "metadata": {
    "colab_type": "text",
    "id": "CzVq1_Ewby3B"
   },
   "source": [
    "**Importing Libraries**"
   ]
  },
  {
   "cell_type": "code",
   "execution_count": 20,
   "metadata": {
    "colab": {},
    "colab_type": "code",
    "id": "N6ngcMw2bU2a"
   },
   "outputs": [],
   "source": [
    "import numpy as np\n",
    "import pandas as pd\n",
    "import string\n",
    "from time import time\n",
    "import time\n",
    "import random\n",
    "from statistics import median\n",
    "from sklearn.model_selection import train_test_split\n",
    "import keras\n",
    "from keras.preprocessing.text import Tokenizer\n",
    "from keras.models import Sequential\n",
    "from keras.layers import LSTM, SimpleRNN, Bidirectional, Dense, Dropout, Masking, Embedding\n",
    "from keras.optimizers import Adam\n",
    "from keras.callbacks import ModelCheckpoint, Callback\n",
    "from keras.models import load_model\n",
    "from nltk.translate.bleu_score import corpus_bleu"
   ]
  },
  {
   "cell_type": "markdown",
   "metadata": {
    "colab_type": "text",
    "id": "qe3GmHVcusav"
   },
   "source": [
    "**Loading Ed-Sheeran songs dataset**"
   ]
  },
  {
   "cell_type": "code",
   "execution_count": 21,
   "metadata": {
    "colab": {
     "base_uri": "https://localhost:8080/",
     "height": 204
    },
    "colab_type": "code",
    "id": "P9zgKGIIcLVx",
    "outputId": "dacdec8a-f1ac-4935-bbc3-f14b845b0cc3"
   },
   "outputs": [
    {
     "data": {
      "text/html": [
       "<div>\n",
       "<style scoped>\n",
       "    .dataframe tbody tr th:only-of-type {\n",
       "        vertical-align: middle;\n",
       "    }\n",
       "\n",
       "    .dataframe tbody tr th {\n",
       "        vertical-align: top;\n",
       "    }\n",
       "\n",
       "    .dataframe thead th {\n",
       "        text-align: right;\n",
       "    }\n",
       "</style>\n",
       "<table border=\"1\" class=\"dataframe\">\n",
       "  <thead>\n",
       "    <tr style=\"text-align: right;\">\n",
       "      <th></th>\n",
       "      <th>Lyrics</th>\n",
       "    </tr>\n",
       "  </thead>\n",
       "  <tbody>\n",
       "    <tr>\n",
       "      <th>0</th>\n",
       "      <td>Hey, hey, hey, hey, Hey, hey, hey, hey, Hey, ...</td>\n",
       "    </tr>\n",
       "    <tr>\n",
       "      <th>1</th>\n",
       "      <td>The club isn't the best place to find a lover...</td>\n",
       "    </tr>\n",
       "    <tr>\n",
       "      <th>2</th>\n",
       "      <td>I found a love for me, Darling, just dive rig...</td>\n",
       "    </tr>\n",
       "    <tr>\n",
       "      <th>3</th>\n",
       "      <td>Loving can hurt, Loving can hurt sometimes, B...</td>\n",
       "    </tr>\n",
       "    <tr>\n",
       "      <th>4</th>\n",
       "      <td>When your legs don't work like they used to b...</td>\n",
       "    </tr>\n",
       "  </tbody>\n",
       "</table>\n",
       "</div>"
      ],
      "text/plain": [
       "                                              Lyrics\n",
       "0   Hey, hey, hey, hey, Hey, hey, hey, hey, Hey, ...\n",
       "1   The club isn't the best place to find a lover...\n",
       "2   I found a love for me, Darling, just dive rig...\n",
       "3   Loving can hurt, Loving can hurt sometimes, B...\n",
       "4   When your legs don't work like they used to b..."
      ]
     },
     "execution_count": 21,
     "metadata": {
      "tags": []
     },
     "output_type": "execute_result"
    }
   ],
   "source": [
    "data = pd.read_csv('/content/drive/My Drive/Colab Notebooks/ed_sheeran.csv',header=None,names=['Title','Link','Lyrics'])\n",
    "\n",
    "#Removing rows which have empty lyrics\n",
    "data = data[data['Lyrics'].notna()].reset_index(drop=True)\n",
    "\n",
    "#Removing Duplicate rows and unneccessary columns\n",
    "data = pd.DataFrame(data['Lyrics'].unique(),columns=['Lyrics'])\n",
    "\n",
    "data.head(5)"
   ]
  },
  {
   "cell_type": "markdown",
   "metadata": {
    "colab_type": "text",
    "id": "4EA6rj88ATYI"
   },
   "source": [
    "**Data pre-processing**"
   ]
  },
  {
   "cell_type": "code",
   "execution_count": 22,
   "metadata": {
    "colab": {},
    "colab_type": "code",
    "id": "u5DUaJJ0ASml"
   },
   "outputs": [],
   "source": [
    "#converting all characters to lowercase\n",
    "data['Lyrics'] = data['Lyrics'].apply(lambda x: str(x).lower())\n",
    "#removing special characters / punctuation\n",
    "data['Lyrics'] = data['Lyrics'].apply(lambda x : ''.join([y if y not in ['.','\"',':','[',']','-','(',')'] else '' for y in x]))\n",
    "#retained few punctuations with padding space\n",
    "data['Lyrics'] = data['Lyrics'].apply(lambda x : ''.join([y if y not in [',','!','?'] else ' '+y for y in x]))\n",
    "#stripping the spaces at the ends of string\n",
    "data['Lyrics'] = data['Lyrics'].apply(lambda x: x.strip())"
   ]
  },
  {
   "cell_type": "code",
   "execution_count": 23,
   "metadata": {
    "colab": {},
    "colab_type": "code",
    "id": "PE-FUB3Ic-L6"
   },
   "outputs": [],
   "source": [
    "#Creating list of all songs\n",
    "lyrics = list(data['Lyrics'].apply(str))"
   ]
  },
  {
   "cell_type": "markdown",
   "metadata": {
    "colab_type": "text",
    "id": "-nUWT3FLvK7r"
   },
   "source": [
    "**Median length of song**"
   ]
  },
  {
   "cell_type": "code",
   "execution_count": 24,
   "metadata": {
    "colab": {
     "base_uri": "https://localhost:8080/",
     "height": 34
    },
    "colab_type": "code",
    "id": "sChNnotwScJa",
    "outputId": "a4c7d4a0-6574-40be-dbc8-09269ef1f2dd"
   },
   "outputs": [
    {
     "data": {
      "text/plain": [
       "400"
      ]
     },
     "execution_count": 24,
     "metadata": {
      "tags": []
     },
     "output_type": "execute_result"
    }
   ],
   "source": [
    "lyric_length = round(median([len(lyrics[x].split()) for x in range(len(lyrics))])/100)*100\n",
    "lyric_length"
   ]
  },
  {
   "cell_type": "markdown",
   "metadata": {
    "colab_type": "text",
    "id": "TCcFQvuEwGgU"
   },
   "source": [
    "**Character level tokenization of songs**"
   ]
  },
  {
   "cell_type": "code",
   "execution_count": 25,
   "metadata": {
    "colab": {},
    "colab_type": "code",
    "id": "R3zAxSdmeX1q"
   },
   "outputs": [],
   "source": [
    "tokenizer = Tokenizer(lower = False, split=' ',filters='')\n",
    "tokenizer.fit_on_texts(lyrics)"
   ]
  },
  {
   "cell_type": "code",
   "execution_count": 26,
   "metadata": {
    "colab": {},
    "colab_type": "code",
    "id": "-DWLI4mJe_C6"
   },
   "outputs": [],
   "source": [
    "#Converting each song into list of tokens\n",
    "sequences = tokenizer.texts_to_sequences(lyrics)"
   ]
  },
  {
   "cell_type": "code",
   "execution_count": 27,
   "metadata": {
    "colab": {
     "base_uri": "https://localhost:8080/",
     "height": 52
    },
    "colab_type": "code",
    "id": "PNd2W2lFwuzx",
    "outputId": "4984f593-6954-4c33-c096-010aa4d6afd2"
   },
   "outputs": [
    {
     "data": {
      "application/vnd.google.colaboratory.intrinsic+json": {
       "type": "string"
      },
      "text/plain": [
       "\"the club isn't the best place to find a lover , so the bar is where i go , me and my friends at the table doing shots , drinking fast , and then we talk slow and you come over and start up a conversation with just me , and trust me , i'll give it a chance now , take my hand , stop , put van the man \""
      ]
     },
     "execution_count": 27,
     "metadata": {
      "tags": []
     },
     "output_type": "execute_result"
    }
   ],
   "source": [
    "lyrics[1][:300]"
   ]
  },
  {
   "cell_type": "code",
   "execution_count": 28,
   "metadata": {
    "colab": {
     "base_uri": "https://localhost:8080/",
     "height": 54
    },
    "colab_type": "code",
    "id": "FIJAKdxuhO4x",
    "outputId": "187ac6d0-6e8f-427f-8e0e-cd0f33e55fd7"
   },
   "outputs": [
    {
     "name": "stdout",
     "output_type": "stream",
     "text": [
      "[4, 527, 721, 4, 528, 211, 8, 153, 9, 175, 1, 28, 4, 485, 34, 97, 2, 52, 1, 7, 5, 6, 133, 80, 4, 986, 388, 825, 1, 417, 339, 1, 5, 72, 24, 271, 486, 5, 3, 45, 106, 5, 256, 39, 9, 1262, 21, 30, 7, 1, 5, 418, 7, 1, 32, 68, 11, 9, 633, 27, 1, 56, 6, 161, 1, 199, 1, 166, 987, 4, 70, 14, 4, 988, 1, 5, 72, 24, 256, 8, 302, 1, 5, 27, 16, 243, 29, 167, 1, 3, 23, 2, 78, 13, 12, 1, 13, 12, 50, 989, 26, 990, 29, 7, 1, 45, 14, 27, 1, 340, 6, 228, 1, 2, 303, 18, 826, 1, 22, 98, 7, 73, 341, 1, 338, 51, 271, 90, 236, 1, 487, 14, 6, 991, 5, 166, 15, 134, 14, 7, 1, 45, 14, 27, 1, 340, 6, 228, 1, 45, 1, 45, 14, 27, 1, 340, 6, 228, 16, 10, 12, 21, 4, 291, 17, 3, 1, 24, 634, 5, 635, 29, 9, 636, 55, 1, 389, 6, 75, 34, 186, 90, 1, 16, 10, 12, 21, 13, 134, 1, 145, 102, 3, 94, 10, 6, 292, 1, 5, 27, 6, 322, 637, 488, 29, 3, 1, 117, 114, 390, 190, 342, 124, 25, 1, 16, 10, 12, 21, 13, 134, 1, 391, 1, 25, 1, 16, 10, 12, 21, 13, 134, 1, 391, 1, 25, 1, 16, 10, 12, 21, 13, 134, 1, 391, 1, 25, 1, 16, 10, 12, 21, 13, 134, 1, 117, 114, 390, 190, 342, 124, 1, 16, 10, 12, 21, 4, 291, 17, 3, 57, 392, 10, 24, 58, 4, 827, 992, 1, 116, 194, 42, 14, 110, 449, 828, 1, 19, 3, 5, 7, 41, 1752, 1, 28, 52, 1753, 1, 304, 39]\n"
     ]
    }
   ],
   "source": [
    "print(sequences[1][:300])"
   ]
  },
  {
   "cell_type": "code",
   "execution_count": 29,
   "metadata": {
    "colab": {
     "base_uri": "https://localhost:8080/",
     "height": 34
    },
    "colab_type": "code",
    "id": "A1Zcm2sBhtM-",
    "outputId": "a14d45e0-429b-4bb6-fa6b-c3df23fc7d1b"
   },
   "outputs": [
    {
     "data": {
      "text/plain": [
       "3106"
      ]
     },
     "execution_count": 29,
     "metadata": {
      "tags": []
     },
     "output_type": "execute_result"
    }
   ],
   "source": [
    "#Dictionary of unique tokens\n",
    "idx_word = tokenizer.index_word\n",
    "len(idx_word)"
   ]
  },
  {
   "cell_type": "markdown",
   "metadata": {
    "colab_type": "text",
    "id": "rYwv39KtjrY-"
   },
   "source": [
    "**Creating Features and Labels for Model building**"
   ]
  },
  {
   "cell_type": "code",
   "execution_count": 30,
   "metadata": {
    "colab": {},
    "colab_type": "code",
    "id": "V6cDZ8cOjRUv"
   },
   "outputs": [],
   "source": [
    "features = []\n",
    "labels = []\n",
    "\n",
    "training_length = 50\n",
    "\n",
    "# Iterate through teach tokenized song\n",
    "for seq in sequences:\n",
    "\n",
    "    # Create multiple training examples from each sequence\n",
    "    for i in range(training_length, len(seq)):\n",
    "        \n",
    "        # Extract the features and label\n",
    "        extract = seq[i - training_length:i + 1]\n",
    "\n",
    "        # Set the features and label\n",
    "        features.append(extract[:-1])\n",
    "        labels.append(extract[-1])\n",
    "        \n",
    "features = np.array(features)"
   ]
  },
  {
   "cell_type": "code",
   "execution_count": 31,
   "metadata": {
    "colab": {
     "base_uri": "https://localhost:8080/",
     "height": 136
    },
    "colab_type": "code",
    "id": "KDmURr-0knIv",
    "outputId": "08090967-4571-4564-d301-6e2940073782"
   },
   "outputs": [
    {
     "data": {
      "text/plain": [
       "array([[ 101,    1,  101, ...,   90,  982,  416],\n",
       "       [   1,  101,    1, ...,  982,  416,   26],\n",
       "       [ 101,    1,  101, ...,  416,   26,   37],\n",
       "       ...,\n",
       "       [1320,   40,   30, ...,   57,  185,    1],\n",
       "       [  40,   30,   15, ...,  185,    1,    4],\n",
       "       [  30,   15,   95, ...,    1,    4, 1743]])"
      ]
     },
     "execution_count": 31,
     "metadata": {
      "tags": []
     },
     "output_type": "execute_result"
    }
   ],
   "source": [
    "features"
   ]
  },
  {
   "cell_type": "code",
   "execution_count": 32,
   "metadata": {
    "colab": {
     "base_uri": "https://localhost:8080/",
     "height": 34
    },
    "colab_type": "code",
    "id": "9Vq9jU2XkwiO",
    "outputId": "1be05c7a-7f61-4704-ab55-3d2b30a57a13"
   },
   "outputs": [
    {
     "data": {
      "text/plain": [
       "(38469, 3107)"
      ]
     },
     "execution_count": 32,
     "metadata": {
      "tags": []
     },
     "output_type": "execute_result"
    }
   ],
   "source": [
    "# Unique words in vocabulary\n",
    "num_words = len(idx_word)+1\n",
    "\n",
    "# Empty array to hold labels\n",
    "label_array = np.zeros((len(features),num_words))\n",
    "\n",
    "# One-hot encoding for labels\n",
    "for example_index, word_index in enumerate(labels):\n",
    "    label_array[example_index, word_index]=1\n",
    "\n",
    "label_array.shape"
   ]
  },
  {
   "cell_type": "markdown",
   "metadata": {
    "colab_type": "text",
    "id": "M63hBMhYa1rY"
   },
   "source": [
    "**Embedding Matrix**"
   ]
  },
  {
   "cell_type": "code",
   "execution_count": 33,
   "metadata": {
    "colab": {},
    "colab_type": "code",
    "id": "4KxUaebga7Vh"
   },
   "outputs": [],
   "source": [
    "# Initialising the dictionary \n",
    "w2v_embeddings={}\n",
    "# Opening the complete file\n",
    "file=open(\"/content/drive/My Drive/Colab Notebooks/enwiki_20180420_100d.txt\")\n",
    "# Looping through every line in the file and updating the word into the dictionary\n",
    "for line in file:\n",
    "    # Since the file is space separated, we will split it and the first item is the word\n",
    "    tokens= line.split(\" \")\n",
    "    word = tokens[0]\n",
    "    # All the items from second to the end of the line are embeddings \n",
    "    vec = tokens[1:]\n",
    "    # Updating the glove embeddings and converting to correct data type\n",
    "    w2v_embeddings[word]=np.asarray(vec, dtype='float32')\n",
    "#Adding zerovec, this will be come to use later\n",
    "w2v_embeddings[\"zerovec\"] = np.zeros(100)\n",
    "file.close()"
   ]
  },
  {
   "cell_type": "code",
   "execution_count": 34,
   "metadata": {
    "colab": {
     "base_uri": "https://localhost:8080/",
     "height": 272
    },
    "colab_type": "code",
    "id": "HaWQ3DdHa8IR",
    "outputId": "d883a072-481d-480f-936d-8b59bab49c0e"
   },
   "outputs": [
    {
     "data": {
      "text/plain": [
       "array([-0.5392,  0.6581,  0.1873, -0.377 , -0.2093,  0.5639,  0.5874,\n",
       "       -0.5608, -0.0843,  0.087 ,  0.4183,  0.1611,  0.8312, -0.2553,\n",
       "        0.1997,  0.1788,  0.3463, -0.3514,  0.2126, -0.3039,  0.4119,\n",
       "        0.4452, -0.3175,  0.2872, -0.3185, -0.0542,  0.2387, -0.0416,\n",
       "        0.4242,  0.1515,  0.3031, -0.1427,  0.0529,  0.3593,  0.1947,\n",
       "        0.1145, -0.0547, -0.0492,  0.3303,  0.0286,  0.7404,  0.3242,\n",
       "       -0.7234,  0.3137, -0.9041, -0.1265, -0.024 ,  0.4161, -0.5419,\n",
       "       -0.7813, -0.3793, -0.4226,  0.0089,  0.304 , -0.2691,  0.3956,\n",
       "        0.1595,  0.5351, -0.27  , -0.2483,  0.263 ,  0.1065, -0.3241,\n",
       "        0.0955,  0.6927, -0.3099, -0.1259, -0.2606,  0.1047, -0.3659,\n",
       "        0.1906,  0.1555, -0.4701,  0.1379, -0.1907, -0.1609, -0.1784,\n",
       "       -0.3865, -0.5276,  0.463 ,  0.1257, -0.0372,  0.0177, -0.1889,\n",
       "        0.1784,  0.6499,  0.3664,  0.1514,  0.5435, -0.6227, -0.3577,\n",
       "       -0.1453, -0.2505, -0.1718, -0.4144, -0.562 , -0.6918,  0.5318,\n",
       "       -0.2968,  0.0485], dtype=float32)"
      ]
     },
     "execution_count": 34,
     "metadata": {
      "tags": []
     },
     "output_type": "execute_result"
    }
   ],
   "source": [
    "w2v_embeddings['spanish']"
   ]
  },
  {
   "cell_type": "code",
   "execution_count": 35,
   "metadata": {
    "colab": {
     "base_uri": "https://localhost:8080/",
     "height": 34
    },
    "colab_type": "code",
    "id": "cArp4KvEa7TB",
    "outputId": "655c05c5-3055-479f-d6f0-386dd70cf37f"
   },
   "outputs": [
    {
     "name": "stdout",
     "output_type": "stream",
     "text": [
      "(3107, 100)\n"
     ]
    }
   ],
   "source": [
    "# Initialising the matrix with zeroes\n",
    "embedding_matrix = np.zeros((num_words, 100))\n",
    "\n",
    "# Looping throuhg the vocabulary dictionary\n",
    "for word, i in tokenizer.word_index.items():\n",
    "    # update the matrix\n",
    "    embedding_vector = w2v_embeddings.get(word)\n",
    "    if embedding_vector is not None:\n",
    "        embedding_matrix[i] = embedding_vector\n",
    "\n",
    "print(embedding_matrix.shape)"
   ]
  },
  {
   "cell_type": "markdown",
   "metadata": {
    "colab_type": "text",
    "id": "_RwpdBctyztk"
   },
   "source": [
    "**Splitting dataset into Train and Validation datasets**"
   ]
  },
  {
   "cell_type": "code",
   "execution_count": 36,
   "metadata": {
    "colab": {},
    "colab_type": "code",
    "id": "z0mxILdvCS-0"
   },
   "outputs": [],
   "source": [
    "X_train, X_test, y_train, y_test = train_test_split(features, label_array, test_size=0.2, random_state=0)"
   ]
  },
  {
   "cell_type": "code",
   "execution_count": 37,
   "metadata": {
    "colab": {},
    "colab_type": "code",
    "id": "GzP-dT7LCTJI"
   },
   "outputs": [],
   "source": [
    "#Function for creating network structure, training the model\n",
    "def model_build (lr_value,bs_value,results):\n",
    "\n",
    "    model = Sequential()\n",
    "    # Embedding layer\n",
    "    model.add(\n",
    "        Embedding(input_dim=num_words,\n",
    "              input_length = training_length,\n",
    "              output_dim=100,\n",
    "              weights=[embedding_matrix],\n",
    "              trainable=True))\n",
    "\n",
    "    # Masking layer for pre-trained embeddings\n",
    "    model.add(Masking(mask_value=0.0))\n",
    "\n",
    "    # Recurrent layer\n",
    "    model.add(Bidirectional(SimpleRNN(64, return_sequences=False, \n",
    "               dropout=0.1, recurrent_dropout=0.1)))\n",
    "\n",
    "    # Fully connected layer\n",
    "    model.add(Dense(64, activation='relu'))\n",
    "\n",
    "    # Dropout for regularization\n",
    "    model.add(Dropout(0.1))\n",
    "\n",
    "    # Output layer\n",
    "    model.add(Dense(num_words, activation='softmax'))\n",
    "\n",
    "    # Compile the model\n",
    "    model.compile(\n",
    "        optimizer=Adam(lr=lr_value), loss='categorical_crossentropy', metrics=['accuracy'])\n",
    "    \n",
    "    #Setting path for storing weights for exery 5 epochs\n",
    "    filepath=\"/content/drive/My Drive/Colab Notebooks/dp-word2v-Bi-RNN-weights-{}-{}\".format(lr_value,bs_value)\n",
    "    filepath=filepath+\"-{epoch:02d}.hdf5\"\n",
    "    checkpoint = ModelCheckpoint(filepath, verbose=1, period=5, save_best_only=False)\n",
    "    \n",
    "    #Calling function for saving epoch times\n",
    "    time_callback = TimeHistory()\n",
    "\n",
    "    print(\"\\n----------BUILDING MODEL with lr-{} and bs-{}----------\\n\".format(lr_value,bs_value))\n",
    "    \n",
    "    #Building the model\n",
    "    model.fit(X_train, y_train,\n",
    "              batch_size=bs_value,\n",
    "              epochs=30,\n",
    "              verbose=0,\n",
    "              validation_data=(X_test, y_test),\n",
    "              callbacks=[checkpoint, time_callback])\n",
    "    \n",
    "    #time for epochs\n",
    "    times = time_callback.times\n",
    "    times = Cumulative(times)\n",
    "    times = [round(times[x]/60,2) for x in range(len(times)) if (x+1)%5==0]\n",
    "    for t,k in zip([5,10,15,20,25,30],[0,1,2,3,4,5]):\n",
    "        results.loc[len(results)] = [lr_value,bs_value,t,times[k]]"
   ]
  },
  {
   "cell_type": "code",
   "execution_count": 38,
   "metadata": {
    "colab": {},
    "colab_type": "code",
    "id": "f2JJ099JKtvB"
   },
   "outputs": [],
   "source": [
    "#Class for storing time for epochs\n",
    "class TimeHistory(keras.callbacks.Callback):\n",
    "    def on_train_begin(self, logs={}):\n",
    "        self.times = []\n",
    "\n",
    "    def on_epoch_begin(self, batch, logs={}):\n",
    "        self.epoch_time_start = time.time()\n",
    "\n",
    "    def on_epoch_end(self, batch, logs={}):\n",
    "        self.times.append(time.time() - self.epoch_time_start)"
   ]
  },
  {
   "cell_type": "code",
   "execution_count": 39,
   "metadata": {
    "colab": {},
    "colab_type": "code",
    "id": "D_MR0lIKK3gO"
   },
   "outputs": [],
   "source": [
    "#Function for converting list to cumulative sum of list\n",
    "def Cumulative(lists):  \n",
    "    cu_list = []\n",
    "    length = len(lists)  \n",
    "    cu_list = [sum(lists[0:x:1]) for x in range(0, length+1)]  \n",
    "    return cu_list[1:]"
   ]
  },
  {
   "cell_type": "code",
   "execution_count": 40,
   "metadata": {
    "colab": {
     "base_uri": "https://localhost:8080/",
     "height": 1000
    },
    "colab_type": "code",
    "id": "b69t3Ez7OG7Z",
    "outputId": "3a5d7607-5f79-4b91-c1bc-3ddbdd0cda7d"
   },
   "outputs": [
    {
     "name": "stdout",
     "output_type": "stream",
     "text": [
      "WARNING:tensorflow:`period` argument is deprecated. Please use `save_freq` to specify the frequency in number of batches seen.\n",
      "\n",
      "----------BUILDING MODEL with lr-0.01 and bs-128----------\n",
      "\n",
      "\n",
      "Epoch 00005: saving model to /content/drive/My Drive/Colab Notebooks/dp-word2v-Bi-RNN-weights-0.01-128-05.hdf5\n",
      "\n",
      "Epoch 00010: saving model to /content/drive/My Drive/Colab Notebooks/dp-word2v-Bi-RNN-weights-0.01-128-10.hdf5\n",
      "\n",
      "Epoch 00015: saving model to /content/drive/My Drive/Colab Notebooks/dp-word2v-Bi-RNN-weights-0.01-128-15.hdf5\n",
      "\n",
      "Epoch 00020: saving model to /content/drive/My Drive/Colab Notebooks/dp-word2v-Bi-RNN-weights-0.01-128-20.hdf5\n",
      "\n",
      "Epoch 00025: saving model to /content/drive/My Drive/Colab Notebooks/dp-word2v-Bi-RNN-weights-0.01-128-25.hdf5\n",
      "\n",
      "Epoch 00030: saving model to /content/drive/My Drive/Colab Notebooks/dp-word2v-Bi-RNN-weights-0.01-128-30.hdf5\n",
      "WARNING:tensorflow:`period` argument is deprecated. Please use `save_freq` to specify the frequency in number of batches seen.\n",
      "\n",
      "----------BUILDING MODEL with lr-0.01 and bs-256----------\n",
      "\n",
      "\n",
      "Epoch 00005: saving model to /content/drive/My Drive/Colab Notebooks/dp-word2v-Bi-RNN-weights-0.01-256-05.hdf5\n",
      "\n",
      "Epoch 00010: saving model to /content/drive/My Drive/Colab Notebooks/dp-word2v-Bi-RNN-weights-0.01-256-10.hdf5\n",
      "\n",
      "Epoch 00015: saving model to /content/drive/My Drive/Colab Notebooks/dp-word2v-Bi-RNN-weights-0.01-256-15.hdf5\n",
      "\n",
      "Epoch 00020: saving model to /content/drive/My Drive/Colab Notebooks/dp-word2v-Bi-RNN-weights-0.01-256-20.hdf5\n",
      "\n",
      "Epoch 00025: saving model to /content/drive/My Drive/Colab Notebooks/dp-word2v-Bi-RNN-weights-0.01-256-25.hdf5\n",
      "\n",
      "Epoch 00030: saving model to /content/drive/My Drive/Colab Notebooks/dp-word2v-Bi-RNN-weights-0.01-256-30.hdf5\n",
      "WARNING:tensorflow:`period` argument is deprecated. Please use `save_freq` to specify the frequency in number of batches seen.\n",
      "\n",
      "----------BUILDING MODEL with lr-0.001 and bs-128----------\n",
      "\n",
      "\n",
      "Epoch 00005: saving model to /content/drive/My Drive/Colab Notebooks/dp-word2v-Bi-RNN-weights-0.001-128-05.hdf5\n",
      "\n",
      "Epoch 00010: saving model to /content/drive/My Drive/Colab Notebooks/dp-word2v-Bi-RNN-weights-0.001-128-10.hdf5\n",
      "\n",
      "Epoch 00015: saving model to /content/drive/My Drive/Colab Notebooks/dp-word2v-Bi-RNN-weights-0.001-128-15.hdf5\n",
      "\n",
      "Epoch 00020: saving model to /content/drive/My Drive/Colab Notebooks/dp-word2v-Bi-RNN-weights-0.001-128-20.hdf5\n",
      "\n",
      "Epoch 00025: saving model to /content/drive/My Drive/Colab Notebooks/dp-word2v-Bi-RNN-weights-0.001-128-25.hdf5\n",
      "\n",
      "Epoch 00030: saving model to /content/drive/My Drive/Colab Notebooks/dp-word2v-Bi-RNN-weights-0.001-128-30.hdf5\n",
      "WARNING:tensorflow:`period` argument is deprecated. Please use `save_freq` to specify the frequency in number of batches seen.\n",
      "\n",
      "----------BUILDING MODEL with lr-0.0001 and bs-128----------\n",
      "\n",
      "\n",
      "Epoch 00005: saving model to /content/drive/My Drive/Colab Notebooks/dp-word2v-Bi-RNN-weights-0.0001-128-05.hdf5\n",
      "\n",
      "Epoch 00010: saving model to /content/drive/My Drive/Colab Notebooks/dp-word2v-Bi-RNN-weights-0.0001-128-10.hdf5\n",
      "\n",
      "Epoch 00015: saving model to /content/drive/My Drive/Colab Notebooks/dp-word2v-Bi-RNN-weights-0.0001-128-15.hdf5\n",
      "\n",
      "Epoch 00020: saving model to /content/drive/My Drive/Colab Notebooks/dp-word2v-Bi-RNN-weights-0.0001-128-20.hdf5\n",
      "\n",
      "Epoch 00025: saving model to /content/drive/My Drive/Colab Notebooks/dp-word2v-Bi-RNN-weights-0.0001-128-25.hdf5\n",
      "\n",
      "Epoch 00030: saving model to /content/drive/My Drive/Colab Notebooks/dp-word2v-Bi-RNN-weights-0.0001-128-30.hdf5\n"
     ]
    }
   ],
   "source": [
    "#Storing the model results in 'results' dataframe\n",
    "results = pd.DataFrame(columns = [\"learning_rate\",\"batch_size\",\"epochs\",\"time\"])\n",
    "\n",
    "#Various hyper parameter combinations for learning rate and batch_size\n",
    "for a,b in zip([0.01,0.01,0.001,0.0001],[128,256,128,128]):\n",
    "    model_build(a,b,results)\n",
    "\n",
    "#Saving the file_name of intermediate model weights files\n",
    "results['file_name']=results.apply(lambda row : \"dp-word2v-Bi-RNN-weights-{}-{}-{:02d}.hdf5\".format(row.learning_rate, int(row.batch_size), int(row.epochs)), axis=1)"
   ]
  },
  {
   "cell_type": "code",
   "execution_count": 41,
   "metadata": {
    "colab": {
     "base_uri": "https://localhost:8080/",
     "height": 793
    },
    "colab_type": "code",
    "id": "LQUA0PoUOmbC",
    "outputId": "bd0da06d-5317-4acb-b9a9-a380eb49e67a"
   },
   "outputs": [
    {
     "data": {
      "text/html": [
       "<div>\n",
       "<style scoped>\n",
       "    .dataframe tbody tr th:only-of-type {\n",
       "        vertical-align: middle;\n",
       "    }\n",
       "\n",
       "    .dataframe tbody tr th {\n",
       "        vertical-align: top;\n",
       "    }\n",
       "\n",
       "    .dataframe thead th {\n",
       "        text-align: right;\n",
       "    }\n",
       "</style>\n",
       "<table border=\"1\" class=\"dataframe\">\n",
       "  <thead>\n",
       "    <tr style=\"text-align: right;\">\n",
       "      <th></th>\n",
       "      <th>learning_rate</th>\n",
       "      <th>batch_size</th>\n",
       "      <th>epochs</th>\n",
       "      <th>time</th>\n",
       "      <th>file_name</th>\n",
       "    </tr>\n",
       "  </thead>\n",
       "  <tbody>\n",
       "    <tr>\n",
       "      <th>0</th>\n",
       "      <td>0.0100</td>\n",
       "      <td>128.0</td>\n",
       "      <td>5.0</td>\n",
       "      <td>2.70</td>\n",
       "      <td>dp-word2v-Bi-RNN-weights-0.01-128-05.hdf5</td>\n",
       "    </tr>\n",
       "    <tr>\n",
       "      <th>1</th>\n",
       "      <td>0.0100</td>\n",
       "      <td>128.0</td>\n",
       "      <td>10.0</td>\n",
       "      <td>5.36</td>\n",
       "      <td>dp-word2v-Bi-RNN-weights-0.01-128-10.hdf5</td>\n",
       "    </tr>\n",
       "    <tr>\n",
       "      <th>2</th>\n",
       "      <td>0.0100</td>\n",
       "      <td>128.0</td>\n",
       "      <td>15.0</td>\n",
       "      <td>8.09</td>\n",
       "      <td>dp-word2v-Bi-RNN-weights-0.01-128-15.hdf5</td>\n",
       "    </tr>\n",
       "    <tr>\n",
       "      <th>3</th>\n",
       "      <td>0.0100</td>\n",
       "      <td>128.0</td>\n",
       "      <td>20.0</td>\n",
       "      <td>10.71</td>\n",
       "      <td>dp-word2v-Bi-RNN-weights-0.01-128-20.hdf5</td>\n",
       "    </tr>\n",
       "    <tr>\n",
       "      <th>4</th>\n",
       "      <td>0.0100</td>\n",
       "      <td>128.0</td>\n",
       "      <td>25.0</td>\n",
       "      <td>13.21</td>\n",
       "      <td>dp-word2v-Bi-RNN-weights-0.01-128-25.hdf5</td>\n",
       "    </tr>\n",
       "    <tr>\n",
       "      <th>5</th>\n",
       "      <td>0.0100</td>\n",
       "      <td>128.0</td>\n",
       "      <td>30.0</td>\n",
       "      <td>15.88</td>\n",
       "      <td>dp-word2v-Bi-RNN-weights-0.01-128-30.hdf5</td>\n",
       "    </tr>\n",
       "    <tr>\n",
       "      <th>6</th>\n",
       "      <td>0.0100</td>\n",
       "      <td>256.0</td>\n",
       "      <td>5.0</td>\n",
       "      <td>2.49</td>\n",
       "      <td>dp-word2v-Bi-RNN-weights-0.01-256-05.hdf5</td>\n",
       "    </tr>\n",
       "    <tr>\n",
       "      <th>7</th>\n",
       "      <td>0.0100</td>\n",
       "      <td>256.0</td>\n",
       "      <td>10.0</td>\n",
       "      <td>4.89</td>\n",
       "      <td>dp-word2v-Bi-RNN-weights-0.01-256-10.hdf5</td>\n",
       "    </tr>\n",
       "    <tr>\n",
       "      <th>8</th>\n",
       "      <td>0.0100</td>\n",
       "      <td>256.0</td>\n",
       "      <td>15.0</td>\n",
       "      <td>7.28</td>\n",
       "      <td>dp-word2v-Bi-RNN-weights-0.01-256-15.hdf5</td>\n",
       "    </tr>\n",
       "    <tr>\n",
       "      <th>9</th>\n",
       "      <td>0.0100</td>\n",
       "      <td>256.0</td>\n",
       "      <td>20.0</td>\n",
       "      <td>9.63</td>\n",
       "      <td>dp-word2v-Bi-RNN-weights-0.01-256-20.hdf5</td>\n",
       "    </tr>\n",
       "    <tr>\n",
       "      <th>10</th>\n",
       "      <td>0.0100</td>\n",
       "      <td>256.0</td>\n",
       "      <td>25.0</td>\n",
       "      <td>11.96</td>\n",
       "      <td>dp-word2v-Bi-RNN-weights-0.01-256-25.hdf5</td>\n",
       "    </tr>\n",
       "    <tr>\n",
       "      <th>11</th>\n",
       "      <td>0.0100</td>\n",
       "      <td>256.0</td>\n",
       "      <td>30.0</td>\n",
       "      <td>14.31</td>\n",
       "      <td>dp-word2v-Bi-RNN-weights-0.01-256-30.hdf5</td>\n",
       "    </tr>\n",
       "    <tr>\n",
       "      <th>12</th>\n",
       "      <td>0.0010</td>\n",
       "      <td>128.0</td>\n",
       "      <td>5.0</td>\n",
       "      <td>2.73</td>\n",
       "      <td>dp-word2v-Bi-RNN-weights-0.001-128-05.hdf5</td>\n",
       "    </tr>\n",
       "    <tr>\n",
       "      <th>13</th>\n",
       "      <td>0.0010</td>\n",
       "      <td>128.0</td>\n",
       "      <td>10.0</td>\n",
       "      <td>5.36</td>\n",
       "      <td>dp-word2v-Bi-RNN-weights-0.001-128-10.hdf5</td>\n",
       "    </tr>\n",
       "    <tr>\n",
       "      <th>14</th>\n",
       "      <td>0.0010</td>\n",
       "      <td>128.0</td>\n",
       "      <td>15.0</td>\n",
       "      <td>8.08</td>\n",
       "      <td>dp-word2v-Bi-RNN-weights-0.001-128-15.hdf5</td>\n",
       "    </tr>\n",
       "    <tr>\n",
       "      <th>15</th>\n",
       "      <td>0.0010</td>\n",
       "      <td>128.0</td>\n",
       "      <td>20.0</td>\n",
       "      <td>10.73</td>\n",
       "      <td>dp-word2v-Bi-RNN-weights-0.001-128-20.hdf5</td>\n",
       "    </tr>\n",
       "    <tr>\n",
       "      <th>16</th>\n",
       "      <td>0.0010</td>\n",
       "      <td>128.0</td>\n",
       "      <td>25.0</td>\n",
       "      <td>13.40</td>\n",
       "      <td>dp-word2v-Bi-RNN-weights-0.001-128-25.hdf5</td>\n",
       "    </tr>\n",
       "    <tr>\n",
       "      <th>17</th>\n",
       "      <td>0.0010</td>\n",
       "      <td>128.0</td>\n",
       "      <td>30.0</td>\n",
       "      <td>16.06</td>\n",
       "      <td>dp-word2v-Bi-RNN-weights-0.001-128-30.hdf5</td>\n",
       "    </tr>\n",
       "    <tr>\n",
       "      <th>18</th>\n",
       "      <td>0.0001</td>\n",
       "      <td>128.0</td>\n",
       "      <td>5.0</td>\n",
       "      <td>2.81</td>\n",
       "      <td>dp-word2v-Bi-RNN-weights-0.0001-128-05.hdf5</td>\n",
       "    </tr>\n",
       "    <tr>\n",
       "      <th>19</th>\n",
       "      <td>0.0001</td>\n",
       "      <td>128.0</td>\n",
       "      <td>10.0</td>\n",
       "      <td>5.49</td>\n",
       "      <td>dp-word2v-Bi-RNN-weights-0.0001-128-10.hdf5</td>\n",
       "    </tr>\n",
       "    <tr>\n",
       "      <th>20</th>\n",
       "      <td>0.0001</td>\n",
       "      <td>128.0</td>\n",
       "      <td>15.0</td>\n",
       "      <td>8.21</td>\n",
       "      <td>dp-word2v-Bi-RNN-weights-0.0001-128-15.hdf5</td>\n",
       "    </tr>\n",
       "    <tr>\n",
       "      <th>21</th>\n",
       "      <td>0.0001</td>\n",
       "      <td>128.0</td>\n",
       "      <td>20.0</td>\n",
       "      <td>10.93</td>\n",
       "      <td>dp-word2v-Bi-RNN-weights-0.0001-128-20.hdf5</td>\n",
       "    </tr>\n",
       "    <tr>\n",
       "      <th>22</th>\n",
       "      <td>0.0001</td>\n",
       "      <td>128.0</td>\n",
       "      <td>25.0</td>\n",
       "      <td>13.65</td>\n",
       "      <td>dp-word2v-Bi-RNN-weights-0.0001-128-25.hdf5</td>\n",
       "    </tr>\n",
       "    <tr>\n",
       "      <th>23</th>\n",
       "      <td>0.0001</td>\n",
       "      <td>128.0</td>\n",
       "      <td>30.0</td>\n",
       "      <td>16.35</td>\n",
       "      <td>dp-word2v-Bi-RNN-weights-0.0001-128-30.hdf5</td>\n",
       "    </tr>\n",
       "  </tbody>\n",
       "</table>\n",
       "</div>"
      ],
      "text/plain": [
       "    learning_rate  ...                                    file_name\n",
       "0          0.0100  ...    dp-word2v-Bi-RNN-weights-0.01-128-05.hdf5\n",
       "1          0.0100  ...    dp-word2v-Bi-RNN-weights-0.01-128-10.hdf5\n",
       "2          0.0100  ...    dp-word2v-Bi-RNN-weights-0.01-128-15.hdf5\n",
       "3          0.0100  ...    dp-word2v-Bi-RNN-weights-0.01-128-20.hdf5\n",
       "4          0.0100  ...    dp-word2v-Bi-RNN-weights-0.01-128-25.hdf5\n",
       "5          0.0100  ...    dp-word2v-Bi-RNN-weights-0.01-128-30.hdf5\n",
       "6          0.0100  ...    dp-word2v-Bi-RNN-weights-0.01-256-05.hdf5\n",
       "7          0.0100  ...    dp-word2v-Bi-RNN-weights-0.01-256-10.hdf5\n",
       "8          0.0100  ...    dp-word2v-Bi-RNN-weights-0.01-256-15.hdf5\n",
       "9          0.0100  ...    dp-word2v-Bi-RNN-weights-0.01-256-20.hdf5\n",
       "10         0.0100  ...    dp-word2v-Bi-RNN-weights-0.01-256-25.hdf5\n",
       "11         0.0100  ...    dp-word2v-Bi-RNN-weights-0.01-256-30.hdf5\n",
       "12         0.0010  ...   dp-word2v-Bi-RNN-weights-0.001-128-05.hdf5\n",
       "13         0.0010  ...   dp-word2v-Bi-RNN-weights-0.001-128-10.hdf5\n",
       "14         0.0010  ...   dp-word2v-Bi-RNN-weights-0.001-128-15.hdf5\n",
       "15         0.0010  ...   dp-word2v-Bi-RNN-weights-0.001-128-20.hdf5\n",
       "16         0.0010  ...   dp-word2v-Bi-RNN-weights-0.001-128-25.hdf5\n",
       "17         0.0010  ...   dp-word2v-Bi-RNN-weights-0.001-128-30.hdf5\n",
       "18         0.0001  ...  dp-word2v-Bi-RNN-weights-0.0001-128-05.hdf5\n",
       "19         0.0001  ...  dp-word2v-Bi-RNN-weights-0.0001-128-10.hdf5\n",
       "20         0.0001  ...  dp-word2v-Bi-RNN-weights-0.0001-128-15.hdf5\n",
       "21         0.0001  ...  dp-word2v-Bi-RNN-weights-0.0001-128-20.hdf5\n",
       "22         0.0001  ...  dp-word2v-Bi-RNN-weights-0.0001-128-25.hdf5\n",
       "23         0.0001  ...  dp-word2v-Bi-RNN-weights-0.0001-128-30.hdf5\n",
       "\n",
       "[24 rows x 5 columns]"
      ]
     },
     "execution_count": 41,
     "metadata": {
      "tags": []
     },
     "output_type": "execute_result"
    }
   ],
   "source": [
    "results"
   ]
  },
  {
   "cell_type": "markdown",
   "metadata": {
    "colab_type": "text",
    "id": "h3HwdoXE1f9l"
   },
   "source": [
    "**Generating a song for all the models created for various hyper parameters**"
   ]
  },
  {
   "cell_type": "code",
   "execution_count": 42,
   "metadata": {
    "colab": {},
    "colab_type": "code",
    "id": "7qk1kGKTPrx7"
   },
   "outputs": [],
   "source": [
    "#Function to generate new song using new model\n",
    "def generate(model):\n",
    "    combined_lyrics = ' '.join(lyrics)\n",
    "    random.seed(1)\n",
    "    start_index=random.randint(0,len(combined_lyrics.split())-training_length-1)\n",
    "    sent=combined_lyrics.split()[start_index:start_index+training_length]\n",
    "    generated = ' '.join(sent)\n",
    "    for i in range(lyric_length):\n",
    "        x_sample=generated.split()[i:i+training_length]\n",
    "        x=np.zeros((1,training_length))\n",
    "        for j in range(training_length):\n",
    "            x[0,j]=list(idx_word.values()).index(x_sample[j])+1\n",
    "        probs=model.predict(x)\n",
    "        probs=np.reshape(probs,probs.shape[1])\n",
    "        np.random.seed(0)\n",
    "        #Picking a word based on probability distribution\n",
    "        ix=np.random.choice(range(num_words),p=probs.ravel())\n",
    "        generated= generated + ' ' + idx_word[ix]\n",
    "    return(generated)"
   ]
  },
  {
   "cell_type": "code",
   "execution_count": 43,
   "metadata": {
    "colab": {},
    "colab_type": "code",
    "id": "kOuvAL8APsBy"
   },
   "outputs": [],
   "source": [
    "#Creating a new column in results dataframe with the generated song\n",
    "results['generated'] = results.apply(lambda row : generate(load_model('/content/drive/My Drive/Colab Notebooks/' + row.file_name)), axis=1)"
   ]
  },
  {
   "cell_type": "code",
   "execution_count": 60,
   "metadata": {
    "colab": {
     "base_uri": "https://localhost:8080/",
     "height": 239
    },
    "colab_type": "code",
    "id": "bA7AWvEInRBz",
    "outputId": "9de614bc-a21c-4077-91dd-5489772c92bb"
   },
   "outputs": [
    {
     "data": {
      "application/vnd.google.colaboratory.intrinsic+json": {
       "type": "string"
      },
      "text/plain": [
       "\"a front yard , we got questions we should not ask , but how would you feel , if i told you i loved you , it's just something that i want to do , i'll be taking my time , spending my life , falling deeper in love with your body to take up on love you like me i want to let you see it like a kid and every day baby that they should have come 'cause inside and i'll i'll just told me that i'm never felt this line one with your own but we got that we're guess if you said my broken be all that i'm i'm it's we make it back to another look into a fuss i told me that i'm your lead and maybe you said that see my hand and take it back i'll if i'm i'm that that's would just keep it could back don't on one all we got a melody like i'll what if it kicks in the great i'll , i'll make it rain , , , in house of mine on my room and never saw her let me we're said if that should give me the really got to keep it kids but i've i'll it hurt that thinking 'bout go oh oh she knows me with me and never sleep the papers sleep on our hearts were around on a memories of your dad to go , now not do we take with me i want to take a firefly time to find to find it but she knows but if you maybe it kicks in and just told me to two got a firefly pain how if you still found me ? be like your bed to told me that be ye ye , , you got me and oh my little bird my little bird and this shit into a second mary jane you look perfect from gold are this time to say it just keep it inside me the word and be again i say just go that make it rain oh i'm i'm you lay it all on me be down and just find your father will die and say that with my father when we were what we could get red and get there and ever still ? see your loving arms to never break on the role the pocket of a piano add a firefly loose tonight i'll tell me that it before it go but never felt this line in we got like a piano fire stain is all of a pipe that cold as a raised a kid and we're ever keep it deep but\""
      ]
     },
     "execution_count": 60,
     "metadata": {
      "tags": []
     },
     "output_type": "execute_result"
    }
   ],
   "source": [
    "results['generated'][9]"
   ]
  },
  {
   "cell_type": "markdown",
   "metadata": {
    "colab_type": "text",
    "id": "eICUgeEB2sFy"
   },
   "source": [
    "**BLEU score using Validation data as ground truth for 1,2,3,4 grams**"
   ]
  },
  {
   "cell_type": "code",
   "execution_count": 45,
   "metadata": {
    "colab": {},
    "colab_type": "code",
    "id": "80y35NlNU8GY"
   },
   "outputs": [],
   "source": [
    "#Creating list of reference sequences\n",
    "reference=[]\n",
    "for a in range(X_test.shape[0]):\n",
    "    ref=[]\n",
    "    for b in range(X_test.shape[1]):\n",
    "        ref.append(idx_word[X_test[a][b]])\n",
    "    reference.append(ref)"
   ]
  },
  {
   "cell_type": "code",
   "execution_count": 46,
   "metadata": {
    "colab": {
     "base_uri": "https://localhost:8080/",
     "height": 867
    },
    "colab_type": "code",
    "id": "3xzLGafJX_He",
    "outputId": "89b1527b-becf-4490-a108-057f4f6c7ead"
   },
   "outputs": [
    {
     "data": {
      "text/plain": [
       "['more',\n",
       " 'than',\n",
       " 'anyone',\n",
       " 'else',\n",
       " ',',\n",
       " 'if',\n",
       " 'you',\n",
       " \"don't\",\n",
       " ',',\n",
       " \"i'll\",\n",
       " 'tell',\n",
       " 'her',\n",
       " 'myself',\n",
       " ',',\n",
       " \"she's\",\n",
       " 'like',\n",
       " 'the',\n",
       " 'fast',\n",
       " 'food',\n",
       " ',',\n",
       " \"i'll\",\n",
       " 'regret',\n",
       " 'it',\n",
       " 'after',\n",
       " ',',\n",
       " 'and',\n",
       " 'i',\n",
       " 'needed',\n",
       " 'money',\n",
       " ',',\n",
       " 'but',\n",
       " \"i'm\",\n",
       " 'too',\n",
       " 'shy',\n",
       " 'to',\n",
       " 'ask',\n",
       " 'her',\n",
       " ',',\n",
       " 'but',\n",
       " 'she',\n",
       " 'buys',\n",
       " 'me',\n",
       " 'chips',\n",
       " 'and',\n",
       " 'cheese',\n",
       " ',',\n",
       " 'so',\n",
       " 'i',\n",
       " 'tell',\n",
       " 'her']"
      ]
     },
     "execution_count": 46,
     "metadata": {
      "tags": []
     },
     "output_type": "execute_result"
    }
   ],
   "source": [
    "reference[0]"
   ]
  },
  {
   "cell_type": "code",
   "execution_count": 47,
   "metadata": {
    "colab": {},
    "colab_type": "code",
    "id": "xjDDXgWDjm_R"
   },
   "outputs": [],
   "source": [
    "#Function to find BLEU score\n",
    "def bleu_score(generated,gram):\n",
    "    references = [reference]\n",
    "    candidates = [generated.split()]\n",
    "    t = [0,0,0,0]\n",
    "    t[gram-1]=1\n",
    "    score = corpus_bleu(references, candidates, weights=tuple(t))\n",
    "    return score"
   ]
  },
  {
   "cell_type": "code",
   "execution_count": 48,
   "metadata": {
    "colab": {},
    "colab_type": "code",
    "id": "RMw4JjB6jOrQ"
   },
   "outputs": [],
   "source": [
    "#Creating new columns for BLUE score for 1,2,3,4 grams\n",
    "results['blue-1']=results['generated'].apply(lambda x: bleu_score(x,1))\n",
    "results['blue-2']=results['generated'].apply(lambda x: bleu_score(x,2))\n",
    "results['blue-3']=results['generated'].apply(lambda x: bleu_score(x,3))\n",
    "results['blue-4']=results['generated'].apply(lambda x: bleu_score(x,4))"
   ]
  },
  {
   "cell_type": "code",
   "execution_count": 49,
   "metadata": {
    "colab": {
     "base_uri": "https://localhost:8080/",
     "height": 1000
    },
    "colab_type": "code",
    "id": "WXqVTnpHlvsW",
    "outputId": "70d68183-1c86-4d3e-82f1-afa8797d5498"
   },
   "outputs": [
    {
     "data": {
      "text/html": [
       "<div>\n",
       "<style scoped>\n",
       "    .dataframe tbody tr th:only-of-type {\n",
       "        vertical-align: middle;\n",
       "    }\n",
       "\n",
       "    .dataframe tbody tr th {\n",
       "        vertical-align: top;\n",
       "    }\n",
       "\n",
       "    .dataframe thead th {\n",
       "        text-align: right;\n",
       "    }\n",
       "</style>\n",
       "<table border=\"1\" class=\"dataframe\">\n",
       "  <thead>\n",
       "    <tr style=\"text-align: right;\">\n",
       "      <th></th>\n",
       "      <th>learning_rate</th>\n",
       "      <th>batch_size</th>\n",
       "      <th>epochs</th>\n",
       "      <th>time</th>\n",
       "      <th>file_name</th>\n",
       "      <th>generated</th>\n",
       "      <th>blue-1</th>\n",
       "      <th>blue-2</th>\n",
       "      <th>blue-3</th>\n",
       "      <th>blue-4</th>\n",
       "    </tr>\n",
       "  </thead>\n",
       "  <tbody>\n",
       "    <tr>\n",
       "      <th>0</th>\n",
       "      <td>0.0100</td>\n",
       "      <td>128.0</td>\n",
       "      <td>5.0</td>\n",
       "      <td>2.70</td>\n",
       "      <td>dp-word2v-Bi-RNN-weights-0.01-128-05.hdf5</td>\n",
       "      <td>a front yard , we got questions we should not ...</td>\n",
       "      <td>0.428889</td>\n",
       "      <td>0.340757</td>\n",
       "      <td>0.165179</td>\n",
       "      <td>0.120805</td>\n",
       "    </tr>\n",
       "    <tr>\n",
       "      <th>1</th>\n",
       "      <td>0.0100</td>\n",
       "      <td>128.0</td>\n",
       "      <td>10.0</td>\n",
       "      <td>5.36</td>\n",
       "      <td>dp-word2v-Bi-RNN-weights-0.01-128-10.hdf5</td>\n",
       "      <td>a front yard , we got questions we should not ...</td>\n",
       "      <td>0.173333</td>\n",
       "      <td>0.153675</td>\n",
       "      <td>0.145089</td>\n",
       "      <td>0.129754</td>\n",
       "    </tr>\n",
       "    <tr>\n",
       "      <th>2</th>\n",
       "      <td>0.0100</td>\n",
       "      <td>128.0</td>\n",
       "      <td>15.0</td>\n",
       "      <td>8.09</td>\n",
       "      <td>dp-word2v-Bi-RNN-weights-0.01-128-15.hdf5</td>\n",
       "      <td>a front yard , we got questions we should not ...</td>\n",
       "      <td>0.624444</td>\n",
       "      <td>0.398664</td>\n",
       "      <td>0.194196</td>\n",
       "      <td>0.136465</td>\n",
       "    </tr>\n",
       "    <tr>\n",
       "      <th>3</th>\n",
       "      <td>0.0100</td>\n",
       "      <td>128.0</td>\n",
       "      <td>20.0</td>\n",
       "      <td>10.71</td>\n",
       "      <td>dp-word2v-Bi-RNN-weights-0.01-128-20.hdf5</td>\n",
       "      <td>a front yard , we got questions we should not ...</td>\n",
       "      <td>0.837778</td>\n",
       "      <td>0.523385</td>\n",
       "      <td>0.165179</td>\n",
       "      <td>0.116331</td>\n",
       "    </tr>\n",
       "    <tr>\n",
       "      <th>4</th>\n",
       "      <td>0.0100</td>\n",
       "      <td>128.0</td>\n",
       "      <td>25.0</td>\n",
       "      <td>13.21</td>\n",
       "      <td>dp-word2v-Bi-RNN-weights-0.01-128-25.hdf5</td>\n",
       "      <td>a front yard , we got questions we should not ...</td>\n",
       "      <td>0.708889</td>\n",
       "      <td>0.467706</td>\n",
       "      <td>0.180804</td>\n",
       "      <td>0.125280</td>\n",
       "    </tr>\n",
       "    <tr>\n",
       "      <th>5</th>\n",
       "      <td>0.0100</td>\n",
       "      <td>128.0</td>\n",
       "      <td>30.0</td>\n",
       "      <td>15.88</td>\n",
       "      <td>dp-word2v-Bi-RNN-weights-0.01-128-30.hdf5</td>\n",
       "      <td>a front yard , we got questions we should not ...</td>\n",
       "      <td>0.760000</td>\n",
       "      <td>0.538976</td>\n",
       "      <td>0.220982</td>\n",
       "      <td>0.131991</td>\n",
       "    </tr>\n",
       "    <tr>\n",
       "      <th>6</th>\n",
       "      <td>0.0100</td>\n",
       "      <td>256.0</td>\n",
       "      <td>5.0</td>\n",
       "      <td>2.49</td>\n",
       "      <td>dp-word2v-Bi-RNN-weights-0.01-256-05.hdf5</td>\n",
       "      <td>a front yard , we got questions we should not ...</td>\n",
       "      <td>0.326667</td>\n",
       "      <td>0.211581</td>\n",
       "      <td>0.125000</td>\n",
       "      <td>0.105145</td>\n",
       "    </tr>\n",
       "    <tr>\n",
       "      <th>7</th>\n",
       "      <td>0.0100</td>\n",
       "      <td>256.0</td>\n",
       "      <td>10.0</td>\n",
       "      <td>4.89</td>\n",
       "      <td>dp-word2v-Bi-RNN-weights-0.01-256-10.hdf5</td>\n",
       "      <td>a front yard , we got questions we should not ...</td>\n",
       "      <td>0.653333</td>\n",
       "      <td>0.423163</td>\n",
       "      <td>0.165179</td>\n",
       "      <td>0.116331</td>\n",
       "    </tr>\n",
       "    <tr>\n",
       "      <th>8</th>\n",
       "      <td>0.0100</td>\n",
       "      <td>256.0</td>\n",
       "      <td>15.0</td>\n",
       "      <td>7.28</td>\n",
       "      <td>dp-word2v-Bi-RNN-weights-0.01-256-15.hdf5</td>\n",
       "      <td>a front yard , we got questions we should not ...</td>\n",
       "      <td>0.788889</td>\n",
       "      <td>0.547884</td>\n",
       "      <td>0.209821</td>\n",
       "      <td>0.116331</td>\n",
       "    </tr>\n",
       "    <tr>\n",
       "      <th>9</th>\n",
       "      <td>0.0100</td>\n",
       "      <td>256.0</td>\n",
       "      <td>20.0</td>\n",
       "      <td>9.63</td>\n",
       "      <td>dp-word2v-Bi-RNN-weights-0.01-256-20.hdf5</td>\n",
       "      <td>a front yard , we got questions we should not ...</td>\n",
       "      <td>0.833333</td>\n",
       "      <td>0.677060</td>\n",
       "      <td>0.243304</td>\n",
       "      <td>0.138702</td>\n",
       "    </tr>\n",
       "    <tr>\n",
       "      <th>10</th>\n",
       "      <td>0.0100</td>\n",
       "      <td>256.0</td>\n",
       "      <td>25.0</td>\n",
       "      <td>11.96</td>\n",
       "      <td>dp-word2v-Bi-RNN-weights-0.01-256-25.hdf5</td>\n",
       "      <td>a front yard , we got questions we should not ...</td>\n",
       "      <td>0.864444</td>\n",
       "      <td>0.608018</td>\n",
       "      <td>0.218750</td>\n",
       "      <td>0.125280</td>\n",
       "    </tr>\n",
       "    <tr>\n",
       "      <th>11</th>\n",
       "      <td>0.0100</td>\n",
       "      <td>256.0</td>\n",
       "      <td>30.0</td>\n",
       "      <td>14.31</td>\n",
       "      <td>dp-word2v-Bi-RNN-weights-0.01-256-30.hdf5</td>\n",
       "      <td>a front yard , we got questions we should not ...</td>\n",
       "      <td>0.815556</td>\n",
       "      <td>0.612472</td>\n",
       "      <td>0.225446</td>\n",
       "      <td>0.129754</td>\n",
       "    </tr>\n",
       "    <tr>\n",
       "      <th>12</th>\n",
       "      <td>0.0010</td>\n",
       "      <td>128.0</td>\n",
       "      <td>5.0</td>\n",
       "      <td>2.73</td>\n",
       "      <td>dp-word2v-Bi-RNN-weights-0.001-128-05.hdf5</td>\n",
       "      <td>a front yard , we got questions we should not ...</td>\n",
       "      <td>0.820000</td>\n",
       "      <td>0.458797</td>\n",
       "      <td>0.162946</td>\n",
       "      <td>0.111857</td>\n",
       "    </tr>\n",
       "    <tr>\n",
       "      <th>13</th>\n",
       "      <td>0.0010</td>\n",
       "      <td>128.0</td>\n",
       "      <td>10.0</td>\n",
       "      <td>5.36</td>\n",
       "      <td>dp-word2v-Bi-RNN-weights-0.001-128-10.hdf5</td>\n",
       "      <td>a front yard , we got questions we should not ...</td>\n",
       "      <td>0.873333</td>\n",
       "      <td>0.594655</td>\n",
       "      <td>0.218750</td>\n",
       "      <td>0.116331</td>\n",
       "    </tr>\n",
       "    <tr>\n",
       "      <th>14</th>\n",
       "      <td>0.0010</td>\n",
       "      <td>128.0</td>\n",
       "      <td>15.0</td>\n",
       "      <td>8.08</td>\n",
       "      <td>dp-word2v-Bi-RNN-weights-0.001-128-15.hdf5</td>\n",
       "      <td>a front yard , we got questions we should not ...</td>\n",
       "      <td>0.862222</td>\n",
       "      <td>0.663697</td>\n",
       "      <td>0.274554</td>\n",
       "      <td>0.158837</td>\n",
       "    </tr>\n",
       "    <tr>\n",
       "      <th>15</th>\n",
       "      <td>0.0010</td>\n",
       "      <td>128.0</td>\n",
       "      <td>20.0</td>\n",
       "      <td>10.73</td>\n",
       "      <td>dp-word2v-Bi-RNN-weights-0.001-128-20.hdf5</td>\n",
       "      <td>a front yard , we got questions we should not ...</td>\n",
       "      <td>0.642222</td>\n",
       "      <td>0.538976</td>\n",
       "      <td>0.285714</td>\n",
       "      <td>0.183445</td>\n",
       "    </tr>\n",
       "    <tr>\n",
       "      <th>16</th>\n",
       "      <td>0.0010</td>\n",
       "      <td>128.0</td>\n",
       "      <td>25.0</td>\n",
       "      <td>13.40</td>\n",
       "      <td>dp-word2v-Bi-RNN-weights-0.001-128-25.hdf5</td>\n",
       "      <td>a front yard , we got questions we should not ...</td>\n",
       "      <td>0.293333</td>\n",
       "      <td>0.267261</td>\n",
       "      <td>0.196429</td>\n",
       "      <td>0.158837</td>\n",
       "    </tr>\n",
       "    <tr>\n",
       "      <th>17</th>\n",
       "      <td>0.0010</td>\n",
       "      <td>128.0</td>\n",
       "      <td>30.0</td>\n",
       "      <td>16.06</td>\n",
       "      <td>dp-word2v-Bi-RNN-weights-0.001-128-30.hdf5</td>\n",
       "      <td>a front yard , we got questions we should not ...</td>\n",
       "      <td>0.624444</td>\n",
       "      <td>0.592428</td>\n",
       "      <td>0.368304</td>\n",
       "      <td>0.230425</td>\n",
       "    </tr>\n",
       "    <tr>\n",
       "      <th>18</th>\n",
       "      <td>0.0001</td>\n",
       "      <td>128.0</td>\n",
       "      <td>5.0</td>\n",
       "      <td>2.81</td>\n",
       "      <td>dp-word2v-Bi-RNN-weights-0.0001-128-05.hdf5</td>\n",
       "      <td>a front yard , we got questions we should not ...</td>\n",
       "      <td>0.686667</td>\n",
       "      <td>0.220490</td>\n",
       "      <td>0.109375</td>\n",
       "      <td>0.105145</td>\n",
       "    </tr>\n",
       "    <tr>\n",
       "      <th>19</th>\n",
       "      <td>0.0001</td>\n",
       "      <td>128.0</td>\n",
       "      <td>10.0</td>\n",
       "      <td>5.49</td>\n",
       "      <td>dp-word2v-Bi-RNN-weights-0.0001-128-10.hdf5</td>\n",
       "      <td>a front yard , we got questions we should not ...</td>\n",
       "      <td>0.833333</td>\n",
       "      <td>0.273942</td>\n",
       "      <td>0.109375</td>\n",
       "      <td>0.105145</td>\n",
       "    </tr>\n",
       "    <tr>\n",
       "      <th>20</th>\n",
       "      <td>0.0001</td>\n",
       "      <td>128.0</td>\n",
       "      <td>15.0</td>\n",
       "      <td>8.21</td>\n",
       "      <td>dp-word2v-Bi-RNN-weights-0.0001-128-15.hdf5</td>\n",
       "      <td>a front yard , we got questions we should not ...</td>\n",
       "      <td>0.824444</td>\n",
       "      <td>0.376392</td>\n",
       "      <td>0.116071</td>\n",
       "      <td>0.105145</td>\n",
       "    </tr>\n",
       "    <tr>\n",
       "      <th>21</th>\n",
       "      <td>0.0001</td>\n",
       "      <td>128.0</td>\n",
       "      <td>20.0</td>\n",
       "      <td>10.93</td>\n",
       "      <td>dp-word2v-Bi-RNN-weights-0.0001-128-20.hdf5</td>\n",
       "      <td>a front yard , we got questions we should not ...</td>\n",
       "      <td>0.233333</td>\n",
       "      <td>0.164811</td>\n",
       "      <td>0.111607</td>\n",
       "      <td>0.105145</td>\n",
       "    </tr>\n",
       "    <tr>\n",
       "      <th>22</th>\n",
       "      <td>0.0001</td>\n",
       "      <td>128.0</td>\n",
       "      <td>25.0</td>\n",
       "      <td>13.65</td>\n",
       "      <td>dp-word2v-Bi-RNN-weights-0.0001-128-25.hdf5</td>\n",
       "      <td>a front yard , we got questions we should not ...</td>\n",
       "      <td>0.453333</td>\n",
       "      <td>0.256125</td>\n",
       "      <td>0.118304</td>\n",
       "      <td>0.105145</td>\n",
       "    </tr>\n",
       "    <tr>\n",
       "      <th>23</th>\n",
       "      <td>0.0001</td>\n",
       "      <td>128.0</td>\n",
       "      <td>30.0</td>\n",
       "      <td>16.35</td>\n",
       "      <td>dp-word2v-Bi-RNN-weights-0.0001-128-30.hdf5</td>\n",
       "      <td>a front yard , we got questions we should not ...</td>\n",
       "      <td>0.422222</td>\n",
       "      <td>0.260579</td>\n",
       "      <td>0.111607</td>\n",
       "      <td>0.105145</td>\n",
       "    </tr>\n",
       "  </tbody>\n",
       "</table>\n",
       "</div>"
      ],
      "text/plain": [
       "    learning_rate  batch_size  epochs  ...    blue-2    blue-3    blue-4\n",
       "0          0.0100       128.0     5.0  ...  0.340757  0.165179  0.120805\n",
       "1          0.0100       128.0    10.0  ...  0.153675  0.145089  0.129754\n",
       "2          0.0100       128.0    15.0  ...  0.398664  0.194196  0.136465\n",
       "3          0.0100       128.0    20.0  ...  0.523385  0.165179  0.116331\n",
       "4          0.0100       128.0    25.0  ...  0.467706  0.180804  0.125280\n",
       "5          0.0100       128.0    30.0  ...  0.538976  0.220982  0.131991\n",
       "6          0.0100       256.0     5.0  ...  0.211581  0.125000  0.105145\n",
       "7          0.0100       256.0    10.0  ...  0.423163  0.165179  0.116331\n",
       "8          0.0100       256.0    15.0  ...  0.547884  0.209821  0.116331\n",
       "9          0.0100       256.0    20.0  ...  0.677060  0.243304  0.138702\n",
       "10         0.0100       256.0    25.0  ...  0.608018  0.218750  0.125280\n",
       "11         0.0100       256.0    30.0  ...  0.612472  0.225446  0.129754\n",
       "12         0.0010       128.0     5.0  ...  0.458797  0.162946  0.111857\n",
       "13         0.0010       128.0    10.0  ...  0.594655  0.218750  0.116331\n",
       "14         0.0010       128.0    15.0  ...  0.663697  0.274554  0.158837\n",
       "15         0.0010       128.0    20.0  ...  0.538976  0.285714  0.183445\n",
       "16         0.0010       128.0    25.0  ...  0.267261  0.196429  0.158837\n",
       "17         0.0010       128.0    30.0  ...  0.592428  0.368304  0.230425\n",
       "18         0.0001       128.0     5.0  ...  0.220490  0.109375  0.105145\n",
       "19         0.0001       128.0    10.0  ...  0.273942  0.109375  0.105145\n",
       "20         0.0001       128.0    15.0  ...  0.376392  0.116071  0.105145\n",
       "21         0.0001       128.0    20.0  ...  0.164811  0.111607  0.105145\n",
       "22         0.0001       128.0    25.0  ...  0.256125  0.118304  0.105145\n",
       "23         0.0001       128.0    30.0  ...  0.260579  0.111607  0.105145\n",
       "\n",
       "[24 rows x 10 columns]"
      ]
     },
     "execution_count": 49,
     "metadata": {
      "tags": []
     },
     "output_type": "execute_result"
    }
   ],
   "source": [
    "results.to_csv(\"/content/drive/My Drive/Colab Notebooks/dp-word2v-Bi-RNN-results.csv\",index=None)\n",
    "results"
   ]
  },
  {
   "cell_type": "markdown",
   "metadata": {
    "colab_type": "text",
    "id": "5GnwFZCcoP5b"
   },
   "source": [
    "**Plot for BLEU score(2-grams) vs epochs with parameters as lr=0.01, batch_size=128**"
   ]
  },
  {
   "cell_type": "code",
   "execution_count": 50,
   "metadata": {
    "colab": {
     "base_uri": "https://localhost:8080/",
     "height": 71
    },
    "colab_type": "code",
    "id": "AHVZHnr6qmm1",
    "outputId": "d5603407-fac3-4853-c218-5087b98fd969"
   },
   "outputs": [
    {
     "name": "stderr",
     "output_type": "stream",
     "text": [
      "/usr/local/lib/python3.6/dist-packages/statsmodels/tools/_testing.py:19: FutureWarning: pandas.util.testing is deprecated. Use the functions in the public API at pandas.testing instead.\n",
      "  import pandas.util.testing as tm\n"
     ]
    }
   ],
   "source": [
    "import matplotlib.pyplot as plt\n",
    "import seaborn as sns"
   ]
  },
  {
   "cell_type": "code",
   "execution_count": 51,
   "metadata": {
    "colab": {
     "base_uri": "https://localhost:8080/",
     "height": 350
    },
    "colab_type": "code",
    "id": "-daDK2Bfl6HL",
    "outputId": "b961cd2c-8de6-4c1e-c24f-2af6f9b5698f"
   },
   "outputs": [
    {
     "data": {
      "image/png": "[encoded data removed]",
      "text/plain": [
       "<Figure size 720x360 with 1 Axes>"
      ]
     },
     "metadata": {
      "needs_background": "light",
      "tags": []
     },
     "output_type": "display_data"
    }
   ],
   "source": [
    "plt.figure(figsize=(10,5))\n",
    "sns.lineplot(x='epochs', y='blue-2',  \n",
    "             data=results[(results['learning_rate']==0.01) & (results['batch_size']==128)], palette = \"Dark2\")\n",
    "plt.title('BLEU score Vs Epochs')\n",
    "plt.xlabel('Epochs')\n",
    "plt.ylabel('BLEU score (2-grams)')\n",
    "plt.xticks(range(0,31,5))\n",
    "plt.yticks([0.1*x for x in range(0,11)])\n",
    "plt.savefig(\"/content/drive/My Drive/Colab Notebooks/dp-word2v-Bi-RNN-p1.png\")\n",
    "plt.show()"
   ]
  },
  {
   "cell_type": "markdown",
   "metadata": {},
   "source": [
    "- Increase in BLEU score with increase in epochs"
   ]
  },
  {
   "cell_type": "markdown",
   "metadata": {
    "colab_type": "text",
    "id": "nNyjJISStBLO"
   },
   "source": [
    "**Plot for BLEU score(2-grams) vs Batch size with parameters lr=0.01 and epochs=30**"
   ]
  },
  {
   "cell_type": "code",
   "execution_count": 52,
   "metadata": {
    "colab": {
     "base_uri": "https://localhost:8080/",
     "height": 350
    },
    "colab_type": "code",
    "id": "Wf1ydcios_2j",
    "outputId": "d0023f63-8a91-43ef-c263-e23ff7714f1f"
   },
   "outputs": [
    {
     "data": {
      "image/png": "[encoded data removed]",
      "text/plain": [
       "<Figure size 720x360 with 1 Axes>"
      ]
     },
     "metadata": {
      "needs_background": "light",
      "tags": []
     },
     "output_type": "display_data"
    }
   ],
   "source": [
    "plt.figure(figsize=(10,5))\n",
    "sns.lineplot(x='batch_size', y='blue-2',  \n",
    "             data=results[(results['learning_rate']==0.01) & (results['epochs']==30)], palette = \"Dark2\")\n",
    "plt.title('BLEU score Vs Batch size')\n",
    "plt.xlabel('Batch size')\n",
    "plt.ylabel('BLEU score (2-grams)')\n",
    "plt.xticks(range(0,257,128))\n",
    "plt.yticks([0.1*x for x in range(0,11)])\n",
    "plt.savefig(\"/content/drive/My Drive/Colab Notebooks/dp-word2v-Bi-RNN-p2.png\")\n",
    "plt.show()"
   ]
  },
  {
   "cell_type": "markdown",
   "metadata": {},
   "source": [
    "- increase in BLEU score with increase in batch size"
   ]
  }
 ],
 "metadata": {
  "accelerator": "TPU",
  "colab": {
   "collapsed_sections": [],
   "name": "W2V Encoding, Bi-directional RNN, Data pre-process model.ipynb",
   "provenance": []
  },
  "kernelspec": {
   "display_name": "Python 3",
   "language": "python",
   "name": "python3"
  },
  "language_info": {
   "codemirror_mode": {
    "name": "ipython",
    "version": 3
   },
   "file_extension": ".py",
   "mimetype": "text/x-python",
   "name": "python",
   "nbconvert_exporter": "python",
   "pygments_lexer": "ipython3",
   "version": "3.6.5"
  }
 },
 "nbformat": 4,
 "nbformat_minor": 1
}

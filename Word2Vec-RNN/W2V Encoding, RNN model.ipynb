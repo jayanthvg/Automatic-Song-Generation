{
 "cells": [
  {
   "cell_type": "markdown",
   "metadata": {
    "colab_type": "text",
    "id": "eSe5R3Xr7FBS"
   },
   "source": [
    "# ***W2V Encoding, RNN model***"
   ]
  },
  {
   "cell_type": "markdown",
   "metadata": {
    "colab_type": "text",
    "id": "pw314RVS5-o1"
   },
   "source": [
    "**Contents**\n",
    "\n",
    "1.   Mounting Drive\n",
    "2.   Importing Libraries\n",
    "3.   Loading Dataset\n",
    "4.   Tokenization\n",
    "5.   Creating features and labels for model building\n",
    "6.   Creating Embedding matrix (word2vec)\n",
    "7.   Splitting dataset as Train, Validation sets\n",
    "8.   Model Building\n",
    "9.   Generating new songs\n",
    "10.  BLEU scores for each model\n",
    "11.  Plots for BLEU scores\n",
    "\n"
   ]
  },
  {
   "cell_type": "markdown",
   "metadata": {
    "colab_type": "text",
    "id": "nb45YCxjchHp"
   },
   "source": [
    "**Mounting Drive**"
   ]
  },
  {
   "cell_type": "code",
   "execution_count": 1,
   "metadata": {
    "colab": {
     "base_uri": "https://localhost:8080/",
     "height": 122
    },
    "colab_type": "code",
    "id": "Ea_0VDdVciZh",
    "outputId": "ea4c2e69-3b12-42bb-82a7-0ed1cd2f5117"
   },
   "outputs": [
    {
     "name": "stdout",
     "output_type": "stream",
     "text": [
      "Go to this URL in a browser: https://accounts.google.com/o/oauth2/auth?client_id=947318989803-6bn6qk8qdgf4n4g3pfee6491hc0brc4i.apps.googleusercontent.com&redirect_uri=urn%3aietf%3awg%3aoauth%3a2.0%3aoob&scope=email%20https%3a%2f%2fwww.googleapis.com%2fauth%2fdocs.test%20https%3a%2f%2fwww.googleapis.com%2fauth%2fdrive%20https%3a%2f%2fwww.googleapis.com%2fauth%2fdrive.photos.readonly%20https%3a%2f%2fwww.googleapis.com%2fauth%2fpeopleapi.readonly&response_type=code\n",
      "\n",
      "Enter your authorization code:\n",
      "··········\n",
      "Mounted at /content/drive\n"
     ]
    }
   ],
   "source": [
    "from google.colab import drive\n",
    "drive.mount('/content/drive')"
   ]
  },
  {
   "cell_type": "markdown",
   "metadata": {
    "colab_type": "text",
    "id": "CzVq1_Ewby3B"
   },
   "source": [
    "**Importing Libraries**"
   ]
  },
  {
   "cell_type": "code",
   "execution_count": 2,
   "metadata": {
    "colab": {},
    "colab_type": "code",
    "id": "N6ngcMw2bU2a"
   },
   "outputs": [],
   "source": [
    "import numpy as np\n",
    "import pandas as pd\n",
    "from time import time\n",
    "import time\n",
    "import random\n",
    "from statistics import median\n",
    "from sklearn.model_selection import train_test_split\n",
    "import keras\n",
    "from keras.preprocessing.text import Tokenizer\n",
    "from keras.models import Sequential\n",
    "from keras.layers import LSTM, SimpleRNN, Bidirectional, Dense, Dropout, Masking, Embedding\n",
    "from keras.optimizers import Adam\n",
    "from keras.callbacks import ModelCheckpoint, Callback\n",
    "from keras.models import load_model\n",
    "from nltk.translate.bleu_score import corpus_bleu"
   ]
  },
  {
   "cell_type": "markdown",
   "metadata": {
    "colab_type": "text",
    "id": "qe3GmHVcusav"
   },
   "source": [
    "**Loading Ed-Sheeran songs dataset**"
   ]
  },
  {
   "cell_type": "code",
   "execution_count": 3,
   "metadata": {
    "colab": {
     "base_uri": "https://localhost:8080/",
     "height": 204
    },
    "colab_type": "code",
    "id": "P9zgKGIIcLVx",
    "outputId": "a4a0ee36-9196-41b6-f450-eb68bd7e3f1b"
   },
   "outputs": [
    {
     "data": {
      "text/html": [
       "<div>\n",
       "<style scoped>\n",
       "    .dataframe tbody tr th:only-of-type {\n",
       "        vertical-align: middle;\n",
       "    }\n",
       "\n",
       "    .dataframe tbody tr th {\n",
       "        vertical-align: top;\n",
       "    }\n",
       "\n",
       "    .dataframe thead th {\n",
       "        text-align: right;\n",
       "    }\n",
       "</style>\n",
       "<table border=\"1\" class=\"dataframe\">\n",
       "  <thead>\n",
       "    <tr style=\"text-align: right;\">\n",
       "      <th></th>\n",
       "      <th>Lyrics</th>\n",
       "    </tr>\n",
       "  </thead>\n",
       "  <tbody>\n",
       "    <tr>\n",
       "      <th>0</th>\n",
       "      <td>Hey, hey, hey, hey, Hey, hey, hey, hey, Hey, ...</td>\n",
       "    </tr>\n",
       "    <tr>\n",
       "      <th>1</th>\n",
       "      <td>The club isn't the best place to find a lover...</td>\n",
       "    </tr>\n",
       "    <tr>\n",
       "      <th>2</th>\n",
       "      <td>I found a love for me, Darling, just dive rig...</td>\n",
       "    </tr>\n",
       "    <tr>\n",
       "      <th>3</th>\n",
       "      <td>Loving can hurt, Loving can hurt sometimes, B...</td>\n",
       "    </tr>\n",
       "    <tr>\n",
       "      <th>4</th>\n",
       "      <td>When your legs don't work like they used to b...</td>\n",
       "    </tr>\n",
       "  </tbody>\n",
       "</table>\n",
       "</div>"
      ],
      "text/plain": [
       "                                              Lyrics\n",
       "0   Hey, hey, hey, hey, Hey, hey, hey, hey, Hey, ...\n",
       "1   The club isn't the best place to find a lover...\n",
       "2   I found a love for me, Darling, just dive rig...\n",
       "3   Loving can hurt, Loving can hurt sometimes, B...\n",
       "4   When your legs don't work like they used to b..."
      ]
     },
     "execution_count": 3,
     "metadata": {
      "tags": []
     },
     "output_type": "execute_result"
    }
   ],
   "source": [
    "data = pd.read_csv('/content/drive/My Drive/Colab Notebooks/ed_sheeran.csv',header=None,names=['Title','Link','Lyrics'])\n",
    "\n",
    "#Removing rows which have empty lyrics\n",
    "data = data[data['Lyrics'].notna()].reset_index(drop=True)\n",
    "\n",
    "#Removing Duplicate rows and unneccessary columns\n",
    "data = pd.DataFrame(data['Lyrics'].unique(),columns=['Lyrics'])\n",
    "\n",
    "data.head(5)"
   ]
  },
  {
   "cell_type": "code",
   "execution_count": 4,
   "metadata": {
    "colab": {},
    "colab_type": "code",
    "id": "PE-FUB3Ic-L6"
   },
   "outputs": [],
   "source": [
    "#Creating list of all songs\n",
    "lyrics = list(data['Lyrics'].apply(str))"
   ]
  },
  {
   "cell_type": "markdown",
   "metadata": {
    "colab_type": "text",
    "id": "-nUWT3FLvK7r"
   },
   "source": [
    "**Median length of song**"
   ]
  },
  {
   "cell_type": "code",
   "execution_count": 5,
   "metadata": {
    "colab": {
     "base_uri": "https://localhost:8080/",
     "height": 34
    },
    "colab_type": "code",
    "id": "sChNnotwScJa",
    "outputId": "a298b04e-9692-4c4e-d57b-63cdd20ab907"
   },
   "outputs": [
    {
     "data": {
      "text/plain": [
       "300"
      ]
     },
     "execution_count": 5,
     "metadata": {
      "tags": []
     },
     "output_type": "execute_result"
    }
   ],
   "source": [
    "lyric_length = round(median([len(lyrics[x].split()) for x in range(len(lyrics))])/100)*100\n",
    "lyric_length"
   ]
  },
  {
   "cell_type": "markdown",
   "metadata": {
    "colab_type": "text",
    "id": "TCcFQvuEwGgU"
   },
   "source": [
    "**Character level tokenization of songs**"
   ]
  },
  {
   "cell_type": "code",
   "execution_count": 6,
   "metadata": {
    "colab": {},
    "colab_type": "code",
    "id": "R3zAxSdmeX1q"
   },
   "outputs": [],
   "source": [
    "tokenizer = Tokenizer(lower = False, split=' ',filters='')\n",
    "tokenizer.fit_on_texts(lyrics)"
   ]
  },
  {
   "cell_type": "code",
   "execution_count": 7,
   "metadata": {
    "colab": {},
    "colab_type": "code",
    "id": "-DWLI4mJe_C6"
   },
   "outputs": [],
   "source": [
    "#Converting each song into list of tokens\n",
    "sequences = tokenizer.texts_to_sequences(lyrics)"
   ]
  },
  {
   "cell_type": "code",
   "execution_count": 8,
   "metadata": {
    "colab": {
     "base_uri": "https://localhost:8080/",
     "height": 52
    },
    "colab_type": "code",
    "id": "PNd2W2lFwuzx",
    "outputId": "5e38274e-2a0e-404c-fa0f-bfa7f80df49e"
   },
   "outputs": [
    {
     "data": {
      "application/vnd.google.colaboratory.intrinsic+json": {
       "type": "string"
      },
      "text/plain": [
       "' The club isn\\'t the best place to find a lover, So the bar is where I go, Me and my friends at the table doing shots, Drinking fast, and then we talk slow And you come over and start up a conversation with just me, And trust me, I\\'ll give it a chance now, Take my hand, stop, Put \"Van the Man\" on the'"
      ]
     },
     "execution_count": 8,
     "metadata": {
      "tags": []
     },
     "output_type": "execute_result"
    }
   ],
   "source": [
    "lyrics[1][:300]"
   ]
  },
  {
   "cell_type": "code",
   "execution_count": 9,
   "metadata": {
    "colab": {
     "base_uri": "https://localhost:8080/",
     "height": 54
    },
    "colab_type": "code",
    "id": "FIJAKdxuhO4x",
    "outputId": "bd251ff0-485f-4eab-e580-b2a44bc75c33"
   },
   "outputs": [
    {
     "name": "stdout",
     "output_type": "stream",
     "text": [
      "[79, 881, 882, 2, 668, 267, 5, 168, 7, 460, 41, 2, 755, 32, 112, 1, 145, 1237, 10, 6, 207, 70, 2, 1238, 461, 1657, 883, 669, 10, 96, 31, 290, 1239, 4, 3, 72, 134, 10, 323, 49, 7, 1658, 20, 29, 19, 4, 884, 19, 25, 68, 11, 7, 756, 48, 197, 6, 215, 1240, 885, 2386, 2, 2387, 14, 2, 1241, 4, 96, 31, 323, 5, 1014, 4, 56, 13, 498, 30, 420, 3, 26, 1, 69, 12, 34, 151, 18, 43, 1242, 28, 1243, 30, 19, 117, 14, 48, 354, 6, 462, 1, 421, 17, 1015, 21, 240, 8, 1659, 1660, 384, 47, 290, 113, 596, 1244, 14, 6, 1245, 10, 198, 15, 422, 14, 1661, 117, 14, 48, 354, 6, 462, 1246, 72, 14, 48, 354, 6, 463, 13, 9, 18, 20, 2, 324, 16, 27, 60, 757, 10, 758, 30, 7, 759, 142, 499, 6, 91, 32, 325, 326, 13, 9, 18, 20, 12, 181, 760, 189, 3, 83, 9, 6, 500, 4, 56, 6, 597, 761, 547, 30, 27, 268, 139, 423, 194, 355, 182, 119, 13, 9, 18, 20, 12, 181, 762, 119, 13, 9, 18, 20, 12, 181, 762, 119, 13, 9, 18, 20, 12, 181, 762, 119, 13, 9, 18, 20, 12, 181, 268, 139, 423, 194, 355, 464, 13, 9, 18, 20, 2, 324, 16, 3, 305, 886, 9, 31, 55, 2, 1016, 1247, 277, 216, 50, 14, 114, 548, 2388, 22, 3, 10, 8, 37, 2389, 41, 107, 2390, 2391, 49, 12, 2392, 10, 1, 327, 49, 7, 2393, 60, 290, 28, 1017, 10, 1017, 143, 2, 424, 10, 2, 2394, 4, 94, 12, 670, 32, 461, 2395, 4, 153, 10, 77, 9, 7, 2396, 96, 249, 9, 2, 86, 1248, 63, 2, 2397, 74, 2, 1662]\n"
     ]
    }
   ],
   "source": [
    "print(sequences[1][:300])"
   ]
  },
  {
   "cell_type": "code",
   "execution_count": 10,
   "metadata": {
    "colab": {
     "base_uri": "https://localhost:8080/",
     "height": 34
    },
    "colab_type": "code",
    "id": "A1Zcm2sBhtM-",
    "outputId": "efc665e3-901d-4b7c-e439-71152c9cb7c3"
   },
   "outputs": [
    {
     "data": {
      "text/plain": [
       "4632"
      ]
     },
     "execution_count": 10,
     "metadata": {
      "tags": []
     },
     "output_type": "execute_result"
    }
   ],
   "source": [
    "#Dictionary of unique tokens\n",
    "idx_word = tokenizer.index_word\n",
    "len(idx_word)"
   ]
  },
  {
   "cell_type": "markdown",
   "metadata": {
    "colab_type": "text",
    "id": "rYwv39KtjrY-"
   },
   "source": [
    "**Creating Features and Labels for Model building**"
   ]
  },
  {
   "cell_type": "code",
   "execution_count": 11,
   "metadata": {
    "colab": {},
    "colab_type": "code",
    "id": "V6cDZ8cOjRUv"
   },
   "outputs": [],
   "source": [
    "features = []\n",
    "labels = []\n",
    "\n",
    "training_length = 50\n",
    "\n",
    "# Iterate through teach tokenized song\n",
    "for seq in sequences:\n",
    "\n",
    "    # Create multiple training examples from each sequence\n",
    "    for i in range(training_length, len(seq)):\n",
    "        \n",
    "        # Extract the features and label\n",
    "        extract = seq[i - training_length:i + 1]\n",
    "\n",
    "        # Set the features and label\n",
    "        features.append(extract[:-1])\n",
    "        labels.append(extract[-1])\n",
    "        \n",
    "features = np.array(features)"
   ]
  },
  {
   "cell_type": "code",
   "execution_count": 12,
   "metadata": {
    "colab": {
     "base_uri": "https://localhost:8080/",
     "height": 136
    },
    "colab_type": "code",
    "id": "KDmURr-0knIv",
    "outputId": "442358e8-97ee-4e49-9f10-37bf335d2d18"
   },
   "outputs": [
    {
     "data": {
      "text/plain": [
       "array([[ 289,  188,  188, ...,  201, 2375,   22],\n",
       "       [ 188,  188,  188, ..., 2375,   22,   21],\n",
       "       [ 188,  188,  289, ...,   22,   21,  667],\n",
       "       ...,\n",
       "       [   9,  154,   32, ...,   15,   98,  242],\n",
       "       [ 154,   32,   34, ...,   98,  242,   79],\n",
       "       [  32,   34,    4, ...,  242,   79, 2370]])"
      ]
     },
     "execution_count": 12,
     "metadata": {
      "tags": []
     },
     "output_type": "execute_result"
    }
   ],
   "source": [
    "features"
   ]
  },
  {
   "cell_type": "code",
   "execution_count": 13,
   "metadata": {
    "colab": {
     "base_uri": "https://localhost:8080/",
     "height": 34
    },
    "colab_type": "code",
    "id": "9Vq9jU2XkwiO",
    "outputId": "adb1f900-251f-4f8c-edac-999be337837a"
   },
   "outputs": [
    {
     "data": {
      "text/plain": [
       "(31867, 4633)"
      ]
     },
     "execution_count": 13,
     "metadata": {
      "tags": []
     },
     "output_type": "execute_result"
    }
   ],
   "source": [
    "# Unique words in vocabulary\n",
    "num_words = len(idx_word)+1\n",
    "\n",
    "# Empty array to hold labels\n",
    "label_array = np.zeros((len(features),num_words))\n",
    "\n",
    "# One-hot encoding for labels\n",
    "for example_index, word_index in enumerate(labels):\n",
    "    label_array[example_index, word_index]=1\n",
    "\n",
    "label_array.shape"
   ]
  },
  {
   "cell_type": "markdown",
   "metadata": {
    "colab_type": "text",
    "id": "zMrLMuAIalpZ"
   },
   "source": [
    "**Embedding Matrix**"
   ]
  },
  {
   "cell_type": "code",
   "execution_count": 14,
   "metadata": {
    "colab": {},
    "colab_type": "code",
    "id": "ztwseDKaaonw"
   },
   "outputs": [],
   "source": [
    "# Initialising the dictionary \n",
    "w2v_embeddings={}\n",
    "# Opening the complete file\n",
    "file=open(\"/content/drive/My Drive/Colab Notebooks/enwiki_20180420_100d.txt\")\n",
    "# Looping through every line in the file and updating the word into the dictionary\n",
    "for line in file:\n",
    "    # Since the file is space separated, we will split it and the first item is the word\n",
    "    tokens= line.split(\" \")\n",
    "    word = tokens[0]\n",
    "    # All the items from second to the end of the line are embeddings \n",
    "    vec = tokens[1:]\n",
    "    # Updating the glove embeddings and converting to correct data type\n",
    "    w2v_embeddings[word]=np.asarray(vec, dtype='float32')\n",
    "#Adding zerovec, this will be come to use later\n",
    "w2v_embeddings[\"zerovec\"] = np.zeros(100)\n",
    "file.close()"
   ]
  },
  {
   "cell_type": "code",
   "execution_count": 15,
   "metadata": {
    "colab": {
     "base_uri": "https://localhost:8080/",
     "height": 272
    },
    "colab_type": "code",
    "id": "h94AtTB6aoyi",
    "outputId": "0e6ae600-2ac9-49d0-bc87-533f194c61ff"
   },
   "outputs": [
    {
     "data": {
      "text/plain": [
       "array([-0.5392,  0.6581,  0.1873, -0.377 , -0.2093,  0.5639,  0.5874,\n",
       "       -0.5608, -0.0843,  0.087 ,  0.4183,  0.1611,  0.8312, -0.2553,\n",
       "        0.1997,  0.1788,  0.3463, -0.3514,  0.2126, -0.3039,  0.4119,\n",
       "        0.4452, -0.3175,  0.2872, -0.3185, -0.0542,  0.2387, -0.0416,\n",
       "        0.4242,  0.1515,  0.3031, -0.1427,  0.0529,  0.3593,  0.1947,\n",
       "        0.1145, -0.0547, -0.0492,  0.3303,  0.0286,  0.7404,  0.3242,\n",
       "       -0.7234,  0.3137, -0.9041, -0.1265, -0.024 ,  0.4161, -0.5419,\n",
       "       -0.7813, -0.3793, -0.4226,  0.0089,  0.304 , -0.2691,  0.3956,\n",
       "        0.1595,  0.5351, -0.27  , -0.2483,  0.263 ,  0.1065, -0.3241,\n",
       "        0.0955,  0.6927, -0.3099, -0.1259, -0.2606,  0.1047, -0.3659,\n",
       "        0.1906,  0.1555, -0.4701,  0.1379, -0.1907, -0.1609, -0.1784,\n",
       "       -0.3865, -0.5276,  0.463 ,  0.1257, -0.0372,  0.0177, -0.1889,\n",
       "        0.1784,  0.6499,  0.3664,  0.1514,  0.5435, -0.6227, -0.3577,\n",
       "       -0.1453, -0.2505, -0.1718, -0.4144, -0.562 , -0.6918,  0.5318,\n",
       "       -0.2968,  0.0485], dtype=float32)"
      ]
     },
     "execution_count": 15,
     "metadata": {
      "tags": []
     },
     "output_type": "execute_result"
    }
   ],
   "source": [
    "w2v_embeddings['spanish']"
   ]
  },
  {
   "cell_type": "code",
   "execution_count": 16,
   "metadata": {
    "colab": {
     "base_uri": "https://localhost:8080/",
     "height": 34
    },
    "colab_type": "code",
    "id": "rKE5aF-nao6m",
    "outputId": "59770ae3-0de8-47e4-f1c5-df0c863923c2"
   },
   "outputs": [
    {
     "name": "stdout",
     "output_type": "stream",
     "text": [
      "(4633, 100)\n"
     ]
    }
   ],
   "source": [
    "# Initialising the matrix with zeroes\n",
    "embedding_matrix = np.zeros((num_words, 100))\n",
    "\n",
    "# Looping through the vocabulary dictionary\n",
    "for word, i in tokenizer.word_index.items():\n",
    "    # update the matrix\n",
    "    embedding_vector = w2v_embeddings.get(word)\n",
    "    if embedding_vector is not None:\n",
    "        embedding_matrix[i] = embedding_vector\n",
    "\n",
    "print(embedding_matrix.shape)"
   ]
  },
  {
   "cell_type": "markdown",
   "metadata": {
    "colab_type": "text",
    "id": "_RwpdBctyztk"
   },
   "source": [
    "**Splitting dataset into Train and Validation datasets**"
   ]
  },
  {
   "cell_type": "code",
   "execution_count": 17,
   "metadata": {
    "colab": {},
    "colab_type": "code",
    "id": "z0mxILdvCS-0"
   },
   "outputs": [],
   "source": [
    "X_train, X_test, y_train, y_test = train_test_split(features, label_array, test_size=0.2, random_state=0)"
   ]
  },
  {
   "cell_type": "code",
   "execution_count": 18,
   "metadata": {
    "colab": {},
    "colab_type": "code",
    "id": "GzP-dT7LCTJI"
   },
   "outputs": [],
   "source": [
    "#Function for creating network structure, training the model\n",
    "def model_build (lr_value,bs_value,results):\n",
    "\n",
    "    model = Sequential()\n",
    "    # Embedding layer\n",
    "    model.add(\n",
    "        Embedding(input_dim=num_words,\n",
    "              input_length = training_length,\n",
    "              output_dim=100,\n",
    "              weights=[embedding_matrix],\n",
    "              trainable=True))\n",
    "\n",
    "    # Masking layer for pre-trained embeddings\n",
    "    model.add(Masking(mask_value=0.0))\n",
    "\n",
    "    # Recurrent layer\n",
    "    model.add(SimpleRNN(64, return_sequences=False, \n",
    "               dropout=0.1, recurrent_dropout=0.1))\n",
    "\n",
    "    # Fully connected layer\n",
    "    model.add(Dense(64, activation='relu'))\n",
    "\n",
    "    # Dropout for regularization\n",
    "    model.add(Dropout(0.1))\n",
    "\n",
    "    # Output layer\n",
    "    model.add(Dense(num_words, activation='softmax'))\n",
    "\n",
    "    # Compile the model\n",
    "    model.compile(\n",
    "        optimizer=Adam(lr=lr_value), loss='categorical_crossentropy', metrics=['accuracy'])\n",
    "    \n",
    "    #Setting path for storing weights for exery 5 epochs\n",
    "    filepath=\"/content/drive/My Drive/Colab Notebooks/word2v-RNN-weights-{}-{}\".format(lr_value,bs_value)\n",
    "    filepath=filepath+\"-{epoch:02d}.hdf5\"\n",
    "    checkpoint = ModelCheckpoint(filepath, verbose=1, period=5, save_best_only=False)\n",
    "    \n",
    "    #Calling function for saving epoch times\n",
    "    time_callback = TimeHistory()\n",
    "\n",
    "    print(\"\\n----------BUILDING MODEL with lr-{} and bs-{}----------\\n\".format(lr_value,bs_value))\n",
    "    \n",
    "    #Building the model\n",
    "    model.fit(X_train, y_train,\n",
    "              batch_size=bs_value,\n",
    "              epochs=30,\n",
    "              verbose=0,\n",
    "              validation_data=(X_test, y_test),\n",
    "              callbacks=[checkpoint, time_callback])\n",
    "    \n",
    "    #time for epochs\n",
    "    times = time_callback.times\n",
    "    times = Cumulative(times)\n",
    "    times = [round(times[x]/60,2) for x in range(len(times)) if (x+1)%5==0]\n",
    "    for t,k in zip([5,10,15,20,25,30],[0,1,2,3,4,5]):\n",
    "        results.loc[len(results)] = [lr_value,bs_value,t,times[k]]"
   ]
  },
  {
   "cell_type": "code",
   "execution_count": 19,
   "metadata": {
    "colab": {},
    "colab_type": "code",
    "id": "f2JJ099JKtvB"
   },
   "outputs": [],
   "source": [
    "#Class for storing time for epochs\n",
    "class TimeHistory(keras.callbacks.Callback):\n",
    "    def on_train_begin(self, logs={}):\n",
    "        self.times = []\n",
    "\n",
    "    def on_epoch_begin(self, batch, logs={}):\n",
    "        self.epoch_time_start = time.time()\n",
    "\n",
    "    def on_epoch_end(self, batch, logs={}):\n",
    "        self.times.append(time.time() - self.epoch_time_start)"
   ]
  },
  {
   "cell_type": "code",
   "execution_count": 20,
   "metadata": {
    "colab": {},
    "colab_type": "code",
    "id": "D_MR0lIKK3gO"
   },
   "outputs": [],
   "source": [
    "#Function for converting list to cumulative sum of list\n",
    "def Cumulative(lists):  \n",
    "    cu_list = []\n",
    "    length = len(lists)  \n",
    "    cu_list = [sum(lists[0:x:1]) for x in range(0, length+1)]  \n",
    "    return cu_list[1:]"
   ]
  },
  {
   "cell_type": "code",
   "execution_count": 21,
   "metadata": {
    "colab": {
     "base_uri": "https://localhost:8080/",
     "height": 1000
    },
    "colab_type": "code",
    "id": "b69t3Ez7OG7Z",
    "outputId": "dac3a9ab-8ca9-48a8-860b-1bd9c233fe68"
   },
   "outputs": [
    {
     "name": "stdout",
     "output_type": "stream",
     "text": [
      "WARNING:tensorflow:`period` argument is deprecated. Please use `save_freq` to specify the frequency in number of batches seen.\n",
      "\n",
      "----------BUILDING MODEL with lr-0.01 and bs-128----------\n",
      "\n",
      "\n",
      "Epoch 00005: saving model to /content/drive/My Drive/Colab Notebooks/word2v-RNN-weights-0.01-128-05.hdf5\n",
      "\n",
      "Epoch 00010: saving model to /content/drive/My Drive/Colab Notebooks/word2v-RNN-weights-0.01-128-10.hdf5\n",
      "\n",
      "Epoch 00015: saving model to /content/drive/My Drive/Colab Notebooks/word2v-RNN-weights-0.01-128-15.hdf5\n",
      "\n",
      "Epoch 00020: saving model to /content/drive/My Drive/Colab Notebooks/word2v-RNN-weights-0.01-128-20.hdf5\n",
      "\n",
      "Epoch 00025: saving model to /content/drive/My Drive/Colab Notebooks/word2v-RNN-weights-0.01-128-25.hdf5\n",
      "\n",
      "Epoch 00030: saving model to /content/drive/My Drive/Colab Notebooks/word2v-RNN-weights-0.01-128-30.hdf5\n",
      "WARNING:tensorflow:`period` argument is deprecated. Please use `save_freq` to specify the frequency in number of batches seen.\n",
      "\n",
      "----------BUILDING MODEL with lr-0.01 and bs-256----------\n",
      "\n",
      "\n",
      "Epoch 00005: saving model to /content/drive/My Drive/Colab Notebooks/word2v-RNN-weights-0.01-256-05.hdf5\n",
      "\n",
      "Epoch 00010: saving model to /content/drive/My Drive/Colab Notebooks/word2v-RNN-weights-0.01-256-10.hdf5\n",
      "\n",
      "Epoch 00015: saving model to /content/drive/My Drive/Colab Notebooks/word2v-RNN-weights-0.01-256-15.hdf5\n",
      "\n",
      "Epoch 00020: saving model to /content/drive/My Drive/Colab Notebooks/word2v-RNN-weights-0.01-256-20.hdf5\n",
      "\n",
      "Epoch 00025: saving model to /content/drive/My Drive/Colab Notebooks/word2v-RNN-weights-0.01-256-25.hdf5\n",
      "\n",
      "Epoch 00030: saving model to /content/drive/My Drive/Colab Notebooks/word2v-RNN-weights-0.01-256-30.hdf5\n",
      "WARNING:tensorflow:`period` argument is deprecated. Please use `save_freq` to specify the frequency in number of batches seen.\n",
      "\n",
      "----------BUILDING MODEL with lr-0.001 and bs-128----------\n",
      "\n",
      "\n",
      "Epoch 00005: saving model to /content/drive/My Drive/Colab Notebooks/word2v-RNN-weights-0.001-128-05.hdf5\n",
      "\n",
      "Epoch 00010: saving model to /content/drive/My Drive/Colab Notebooks/word2v-RNN-weights-0.001-128-10.hdf5\n",
      "\n",
      "Epoch 00015: saving model to /content/drive/My Drive/Colab Notebooks/word2v-RNN-weights-0.001-128-15.hdf5\n",
      "\n",
      "Epoch 00020: saving model to /content/drive/My Drive/Colab Notebooks/word2v-RNN-weights-0.001-128-20.hdf5\n",
      "\n",
      "Epoch 00025: saving model to /content/drive/My Drive/Colab Notebooks/word2v-RNN-weights-0.001-128-25.hdf5\n",
      "\n",
      "Epoch 00030: saving model to /content/drive/My Drive/Colab Notebooks/word2v-RNN-weights-0.001-128-30.hdf5\n",
      "WARNING:tensorflow:`period` argument is deprecated. Please use `save_freq` to specify the frequency in number of batches seen.\n",
      "\n",
      "----------BUILDING MODEL with lr-0.0001 and bs-128----------\n",
      "\n",
      "\n",
      "Epoch 00005: saving model to /content/drive/My Drive/Colab Notebooks/word2v-RNN-weights-0.0001-128-05.hdf5\n",
      "\n",
      "Epoch 00010: saving model to /content/drive/My Drive/Colab Notebooks/word2v-RNN-weights-0.0001-128-10.hdf5\n",
      "\n",
      "Epoch 00015: saving model to /content/drive/My Drive/Colab Notebooks/word2v-RNN-weights-0.0001-128-15.hdf5\n",
      "\n",
      "Epoch 00020: saving model to /content/drive/My Drive/Colab Notebooks/word2v-RNN-weights-0.0001-128-20.hdf5\n",
      "\n",
      "Epoch 00025: saving model to /content/drive/My Drive/Colab Notebooks/word2v-RNN-weights-0.0001-128-25.hdf5\n",
      "\n",
      "Epoch 00030: saving model to /content/drive/My Drive/Colab Notebooks/word2v-RNN-weights-0.0001-128-30.hdf5\n"
     ]
    }
   ],
   "source": [
    "#Storing the model results in 'results' dataframe\n",
    "results = pd.DataFrame(columns = [\"learning_rate\",\"batch_size\",\"epochs\",\"time\"])\n",
    "\n",
    "#Various hyper parameter combinations for learning rate and batch_size\n",
    "for a,b in zip([0.01,0.01,0.001,0.0001],[128,256,128,128]):\n",
    "    model_build(a,b,results)\n",
    "\n",
    "#Saving the file_name of intermediate model weights files\n",
    "results['file_name']=results.apply(lambda row : \"word2v-RNN-weights-{}-{}-{:02d}.hdf5\".format(row.learning_rate, int(row.batch_size), int(row.epochs)), axis=1)"
   ]
  },
  {
   "cell_type": "code",
   "execution_count": 22,
   "metadata": {
    "colab": {
     "base_uri": "https://localhost:8080/",
     "height": 793
    },
    "colab_type": "code",
    "id": "LQUA0PoUOmbC",
    "outputId": "09f023ea-2de6-443b-98a2-be0194d8b756"
   },
   "outputs": [
    {
     "data": {
      "text/html": [
       "<div>\n",
       "<style scoped>\n",
       "    .dataframe tbody tr th:only-of-type {\n",
       "        vertical-align: middle;\n",
       "    }\n",
       "\n",
       "    .dataframe tbody tr th {\n",
       "        vertical-align: top;\n",
       "    }\n",
       "\n",
       "    .dataframe thead th {\n",
       "        text-align: right;\n",
       "    }\n",
       "</style>\n",
       "<table border=\"1\" class=\"dataframe\">\n",
       "  <thead>\n",
       "    <tr style=\"text-align: right;\">\n",
       "      <th></th>\n",
       "      <th>learning_rate</th>\n",
       "      <th>batch_size</th>\n",
       "      <th>epochs</th>\n",
       "      <th>time</th>\n",
       "      <th>file_name</th>\n",
       "    </tr>\n",
       "  </thead>\n",
       "  <tbody>\n",
       "    <tr>\n",
       "      <th>0</th>\n",
       "      <td>0.0100</td>\n",
       "      <td>128.0</td>\n",
       "      <td>5.0</td>\n",
       "      <td>2.17</td>\n",
       "      <td>word2v-RNN-weights-0.01-128-05.hdf5</td>\n",
       "    </tr>\n",
       "    <tr>\n",
       "      <th>1</th>\n",
       "      <td>0.0100</td>\n",
       "      <td>128.0</td>\n",
       "      <td>10.0</td>\n",
       "      <td>4.26</td>\n",
       "      <td>word2v-RNN-weights-0.01-128-10.hdf5</td>\n",
       "    </tr>\n",
       "    <tr>\n",
       "      <th>2</th>\n",
       "      <td>0.0100</td>\n",
       "      <td>128.0</td>\n",
       "      <td>15.0</td>\n",
       "      <td>6.36</td>\n",
       "      <td>word2v-RNN-weights-0.01-128-15.hdf5</td>\n",
       "    </tr>\n",
       "    <tr>\n",
       "      <th>3</th>\n",
       "      <td>0.0100</td>\n",
       "      <td>128.0</td>\n",
       "      <td>20.0</td>\n",
       "      <td>8.43</td>\n",
       "      <td>word2v-RNN-weights-0.01-128-20.hdf5</td>\n",
       "    </tr>\n",
       "    <tr>\n",
       "      <th>4</th>\n",
       "      <td>0.0100</td>\n",
       "      <td>128.0</td>\n",
       "      <td>25.0</td>\n",
       "      <td>10.50</td>\n",
       "      <td>word2v-RNN-weights-0.01-128-25.hdf5</td>\n",
       "    </tr>\n",
       "    <tr>\n",
       "      <th>5</th>\n",
       "      <td>0.0100</td>\n",
       "      <td>128.0</td>\n",
       "      <td>30.0</td>\n",
       "      <td>12.62</td>\n",
       "      <td>word2v-RNN-weights-0.01-128-30.hdf5</td>\n",
       "    </tr>\n",
       "    <tr>\n",
       "      <th>6</th>\n",
       "      <td>0.0100</td>\n",
       "      <td>256.0</td>\n",
       "      <td>5.0</td>\n",
       "      <td>1.16</td>\n",
       "      <td>word2v-RNN-weights-0.01-256-05.hdf5</td>\n",
       "    </tr>\n",
       "    <tr>\n",
       "      <th>7</th>\n",
       "      <td>0.0100</td>\n",
       "      <td>256.0</td>\n",
       "      <td>10.0</td>\n",
       "      <td>2.27</td>\n",
       "      <td>word2v-RNN-weights-0.01-256-10.hdf5</td>\n",
       "    </tr>\n",
       "    <tr>\n",
       "      <th>8</th>\n",
       "      <td>0.0100</td>\n",
       "      <td>256.0</td>\n",
       "      <td>15.0</td>\n",
       "      <td>3.38</td>\n",
       "      <td>word2v-RNN-weights-0.01-256-15.hdf5</td>\n",
       "    </tr>\n",
       "    <tr>\n",
       "      <th>9</th>\n",
       "      <td>0.0100</td>\n",
       "      <td>256.0</td>\n",
       "      <td>20.0</td>\n",
       "      <td>4.50</td>\n",
       "      <td>word2v-RNN-weights-0.01-256-20.hdf5</td>\n",
       "    </tr>\n",
       "    <tr>\n",
       "      <th>10</th>\n",
       "      <td>0.0100</td>\n",
       "      <td>256.0</td>\n",
       "      <td>25.0</td>\n",
       "      <td>5.61</td>\n",
       "      <td>word2v-RNN-weights-0.01-256-25.hdf5</td>\n",
       "    </tr>\n",
       "    <tr>\n",
       "      <th>11</th>\n",
       "      <td>0.0100</td>\n",
       "      <td>256.0</td>\n",
       "      <td>30.0</td>\n",
       "      <td>6.73</td>\n",
       "      <td>word2v-RNN-weights-0.01-256-30.hdf5</td>\n",
       "    </tr>\n",
       "    <tr>\n",
       "      <th>12</th>\n",
       "      <td>0.0010</td>\n",
       "      <td>128.0</td>\n",
       "      <td>5.0</td>\n",
       "      <td>2.19</td>\n",
       "      <td>word2v-RNN-weights-0.001-128-05.hdf5</td>\n",
       "    </tr>\n",
       "    <tr>\n",
       "      <th>13</th>\n",
       "      <td>0.0010</td>\n",
       "      <td>128.0</td>\n",
       "      <td>10.0</td>\n",
       "      <td>4.32</td>\n",
       "      <td>word2v-RNN-weights-0.001-128-10.hdf5</td>\n",
       "    </tr>\n",
       "    <tr>\n",
       "      <th>14</th>\n",
       "      <td>0.0010</td>\n",
       "      <td>128.0</td>\n",
       "      <td>15.0</td>\n",
       "      <td>6.43</td>\n",
       "      <td>word2v-RNN-weights-0.001-128-15.hdf5</td>\n",
       "    </tr>\n",
       "    <tr>\n",
       "      <th>15</th>\n",
       "      <td>0.0010</td>\n",
       "      <td>128.0</td>\n",
       "      <td>20.0</td>\n",
       "      <td>8.57</td>\n",
       "      <td>word2v-RNN-weights-0.001-128-20.hdf5</td>\n",
       "    </tr>\n",
       "    <tr>\n",
       "      <th>16</th>\n",
       "      <td>0.0010</td>\n",
       "      <td>128.0</td>\n",
       "      <td>25.0</td>\n",
       "      <td>10.69</td>\n",
       "      <td>word2v-RNN-weights-0.001-128-25.hdf5</td>\n",
       "    </tr>\n",
       "    <tr>\n",
       "      <th>17</th>\n",
       "      <td>0.0010</td>\n",
       "      <td>128.0</td>\n",
       "      <td>30.0</td>\n",
       "      <td>12.81</td>\n",
       "      <td>word2v-RNN-weights-0.001-128-30.hdf5</td>\n",
       "    </tr>\n",
       "    <tr>\n",
       "      <th>18</th>\n",
       "      <td>0.0001</td>\n",
       "      <td>128.0</td>\n",
       "      <td>5.0</td>\n",
       "      <td>2.18</td>\n",
       "      <td>word2v-RNN-weights-0.0001-128-05.hdf5</td>\n",
       "    </tr>\n",
       "    <tr>\n",
       "      <th>19</th>\n",
       "      <td>0.0001</td>\n",
       "      <td>128.0</td>\n",
       "      <td>10.0</td>\n",
       "      <td>4.32</td>\n",
       "      <td>word2v-RNN-weights-0.0001-128-10.hdf5</td>\n",
       "    </tr>\n",
       "    <tr>\n",
       "      <th>20</th>\n",
       "      <td>0.0001</td>\n",
       "      <td>128.0</td>\n",
       "      <td>15.0</td>\n",
       "      <td>6.47</td>\n",
       "      <td>word2v-RNN-weights-0.0001-128-15.hdf5</td>\n",
       "    </tr>\n",
       "    <tr>\n",
       "      <th>21</th>\n",
       "      <td>0.0001</td>\n",
       "      <td>128.0</td>\n",
       "      <td>20.0</td>\n",
       "      <td>8.61</td>\n",
       "      <td>word2v-RNN-weights-0.0001-128-20.hdf5</td>\n",
       "    </tr>\n",
       "    <tr>\n",
       "      <th>22</th>\n",
       "      <td>0.0001</td>\n",
       "      <td>128.0</td>\n",
       "      <td>25.0</td>\n",
       "      <td>10.75</td>\n",
       "      <td>word2v-RNN-weights-0.0001-128-25.hdf5</td>\n",
       "    </tr>\n",
       "    <tr>\n",
       "      <th>23</th>\n",
       "      <td>0.0001</td>\n",
       "      <td>128.0</td>\n",
       "      <td>30.0</td>\n",
       "      <td>12.86</td>\n",
       "      <td>word2v-RNN-weights-0.0001-128-30.hdf5</td>\n",
       "    </tr>\n",
       "  </tbody>\n",
       "</table>\n",
       "</div>"
      ],
      "text/plain": [
       "    learning_rate  batch_size  ...   time                              file_name\n",
       "0          0.0100       128.0  ...   2.17    word2v-RNN-weights-0.01-128-05.hdf5\n",
       "1          0.0100       128.0  ...   4.26    word2v-RNN-weights-0.01-128-10.hdf5\n",
       "2          0.0100       128.0  ...   6.36    word2v-RNN-weights-0.01-128-15.hdf5\n",
       "3          0.0100       128.0  ...   8.43    word2v-RNN-weights-0.01-128-20.hdf5\n",
       "4          0.0100       128.0  ...  10.50    word2v-RNN-weights-0.01-128-25.hdf5\n",
       "5          0.0100       128.0  ...  12.62    word2v-RNN-weights-0.01-128-30.hdf5\n",
       "6          0.0100       256.0  ...   1.16    word2v-RNN-weights-0.01-256-05.hdf5\n",
       "7          0.0100       256.0  ...   2.27    word2v-RNN-weights-0.01-256-10.hdf5\n",
       "8          0.0100       256.0  ...   3.38    word2v-RNN-weights-0.01-256-15.hdf5\n",
       "9          0.0100       256.0  ...   4.50    word2v-RNN-weights-0.01-256-20.hdf5\n",
       "10         0.0100       256.0  ...   5.61    word2v-RNN-weights-0.01-256-25.hdf5\n",
       "11         0.0100       256.0  ...   6.73    word2v-RNN-weights-0.01-256-30.hdf5\n",
       "12         0.0010       128.0  ...   2.19   word2v-RNN-weights-0.001-128-05.hdf5\n",
       "13         0.0010       128.0  ...   4.32   word2v-RNN-weights-0.001-128-10.hdf5\n",
       "14         0.0010       128.0  ...   6.43   word2v-RNN-weights-0.001-128-15.hdf5\n",
       "15         0.0010       128.0  ...   8.57   word2v-RNN-weights-0.001-128-20.hdf5\n",
       "16         0.0010       128.0  ...  10.69   word2v-RNN-weights-0.001-128-25.hdf5\n",
       "17         0.0010       128.0  ...  12.81   word2v-RNN-weights-0.001-128-30.hdf5\n",
       "18         0.0001       128.0  ...   2.18  word2v-RNN-weights-0.0001-128-05.hdf5\n",
       "19         0.0001       128.0  ...   4.32  word2v-RNN-weights-0.0001-128-10.hdf5\n",
       "20         0.0001       128.0  ...   6.47  word2v-RNN-weights-0.0001-128-15.hdf5\n",
       "21         0.0001       128.0  ...   8.61  word2v-RNN-weights-0.0001-128-20.hdf5\n",
       "22         0.0001       128.0  ...  10.75  word2v-RNN-weights-0.0001-128-25.hdf5\n",
       "23         0.0001       128.0  ...  12.86  word2v-RNN-weights-0.0001-128-30.hdf5\n",
       "\n",
       "[24 rows x 5 columns]"
      ]
     },
     "execution_count": 22,
     "metadata": {
      "tags": []
     },
     "output_type": "execute_result"
    }
   ],
   "source": [
    "results"
   ]
  },
  {
   "cell_type": "markdown",
   "metadata": {
    "colab_type": "text",
    "id": "h3HwdoXE1f9l"
   },
   "source": [
    "**Generating a song for all the models created for various hyper parameters**"
   ]
  },
  {
   "cell_type": "code",
   "execution_count": 23,
   "metadata": {
    "colab": {},
    "colab_type": "code",
    "id": "7qk1kGKTPrx7"
   },
   "outputs": [],
   "source": [
    "#Function to generate new song using new model\n",
    "def generate(model):\n",
    "    combined_lyrics = ' '.join(lyrics)\n",
    "    random.seed(1)\n",
    "    start_index=random.randint(0,len(combined_lyrics.split())-training_length-1)\n",
    "    sent=combined_lyrics.split()[start_index:start_index+training_length]\n",
    "    generated = ' '.join(sent)\n",
    "    for i in range(lyric_length):\n",
    "        x_sample=generated.split()[i:i+training_length]\n",
    "        x=np.zeros((1,training_length))\n",
    "        for j in range(training_length):\n",
    "            x[0,j]=list(idx_word.values()).index(x_sample[j])+1\n",
    "        probs=model.predict(x)\n",
    "        probs=np.reshape(probs,probs.shape[1])\n",
    "        np.random.seed(0)\n",
    "        #Picking a word based on probability distribution\n",
    "        ix=np.random.choice(range(num_words),p=probs.ravel())\n",
    "        generated= generated + ' ' + idx_word[ix]\n",
    "    return(generated)"
   ]
  },
  {
   "cell_type": "code",
   "execution_count": 24,
   "metadata": {
    "colab": {},
    "colab_type": "code",
    "id": "kOuvAL8APsBy"
   },
   "outputs": [],
   "source": [
    "#Creating a new column in results dataframe with the generated song\n",
    "results['generated'] = results.apply(lambda row : generate(load_model('/content/drive/My Drive/Colab Notebooks/' + row.file_name)), axis=1)"
   ]
  },
  {
   "cell_type": "code",
   "execution_count": 25,
   "metadata": {
    "colab": {
     "base_uri": "https://localhost:8080/",
     "height": 137
    },
    "colab_type": "code",
    "id": "V372dml0RTtj",
    "outputId": "8f6b5ef1-024d-41fb-880a-e4794fcfeec7"
   },
   "outputs": [
    {
     "data": {
      "application/vnd.google.colaboratory.intrinsic+json": {
       "type": "string"
      },
      "text/plain": [
       "\"dance, Can you feel it?, All that I can hear is music from the back, Can you feel it?, I found you hiding here so won't you take my hand, darling?, Before the beat kicks in again Can you feel it?, Can you feel it? Sing!, I need you, darling, baby, baby, baby, baby, baby, baby, baby, baby, baby, baby, baby, baby, baby, baby, baby, baby, baby, baby, baby, baby, baby, baby, baby, baby, baby, baby, baby, baby, baby, baby, baby, baby, baby, baby, baby, but come through we leave me won't won't won't won't won't won't won't won't won't won't won't won't won't won't won't won't won't won't won't won't won't won't won't won't won't won't won't won't won't won't won't won't won't won't won't won't won't won't won't won't won't won't won't won't won't won't should know, That how long just one eyes still told me up that by did this who are wouldn't wouldn't wouldn't wouldn't wouldn't wouldn't wouldn't wouldn't wouldn't wouldn't wouldn't wouldn't wouldn't wouldn't wouldn't wouldn't wouldn't wouldn't wouldn't wouldn't wouldn't wouldn't wouldn't wouldn't wouldn't wouldn't wouldn't wouldn't wouldn't wouldn't wouldn't wouldn't wouldn't wouldn't wouldn't wouldn't wouldn't wouldn't wouldn't wouldn't wouldn't wouldn't far wipe my life, life, life, life, kiss But But But But But But But But But But But But But But But But But But But But But But But But But But But But But But But But But But But But But But But But But But But don't But me if Tell Tell Tell Tell Tell Tell Tell Tell Tell Tell Tell Tell Tell Tell Tell Tell Tell Tell Tell Tell Tell Tell Tell Tell Tell Tell Tell Tell Tell Tell Tell Tell Tell Tell Tell Tell Tell Tell Tell Tell Tell Tell Tell Tell Tell Tell Tell Tell Tell got me up, up, up, up, up, up, up, up, up, up, up, up, up, up, up, up, up, up, up, up, up, up, up, up, up, up, up, up, up, up, up, up, up, up, up, up, up, up, up, up, up, up, up, up, up, up, up,\""
      ]
     },
     "execution_count": 25,
     "metadata": {
      "tags": []
     },
     "output_type": "execute_result"
    }
   ],
   "source": [
    "results['generated'][1]"
   ]
  },
  {
   "cell_type": "markdown",
   "metadata": {
    "colab_type": "text",
    "id": "eICUgeEB2sFy"
   },
   "source": [
    "**BLEU score using Validation data as ground truth for 1,2,3,4 grams**"
   ]
  },
  {
   "cell_type": "code",
   "execution_count": 26,
   "metadata": {
    "colab": {},
    "colab_type": "code",
    "id": "80y35NlNU8GY"
   },
   "outputs": [],
   "source": [
    "#Creating list of reference sequences\n",
    "reference=[]\n",
    "for a in range(X_test.shape[0]):\n",
    "    ref=[]\n",
    "    for b in range(X_test.shape[1]):\n",
    "        ref.append(idx_word[X_test[a][b]])\n",
    "    reference.append(ref)"
   ]
  },
  {
   "cell_type": "code",
   "execution_count": 27,
   "metadata": {
    "colab": {
     "base_uri": "https://localhost:8080/",
     "height": 867
    },
    "colab_type": "code",
    "id": "3xzLGafJX_He",
    "outputId": "d07c9c37-ba61-4541-c1cc-80a24a198140"
   },
   "outputs": [
    {
     "data": {
      "text/plain": [
       "['to',\n",
       " 'do,',\n",
       " \"I'll\",\n",
       " 'be',\n",
       " 'taking',\n",
       " 'my',\n",
       " 'time,',\n",
       " 'Spending',\n",
       " 'my',\n",
       " 'life,',\n",
       " 'Falling',\n",
       " 'deeper',\n",
       " 'in',\n",
       " 'love',\n",
       " 'with',\n",
       " 'you,',\n",
       " 'So',\n",
       " 'tell',\n",
       " 'me',\n",
       " 'that',\n",
       " 'you',\n",
       " 'love',\n",
       " 'me',\n",
       " 'too',\n",
       " 'Yeah,',\n",
       " 'we',\n",
       " 'were',\n",
       " 'sitting',\n",
       " 'in',\n",
       " 'a',\n",
       " 'parked',\n",
       " 'car,',\n",
       " 'Stealing',\n",
       " 'kisses',\n",
       " 'in',\n",
       " 'a',\n",
       " 'front',\n",
       " 'yard,',\n",
       " 'We',\n",
       " 'got',\n",
       " 'questions',\n",
       " 'we',\n",
       " 'should',\n",
       " 'not',\n",
       " 'ask',\n",
       " 'How',\n",
       " 'would',\n",
       " 'you',\n",
       " 'feel,',\n",
       " 'If']"
      ]
     },
     "execution_count": 27,
     "metadata": {
      "tags": []
     },
     "output_type": "execute_result"
    }
   ],
   "source": [
    "reference[0]"
   ]
  },
  {
   "cell_type": "code",
   "execution_count": 28,
   "metadata": {
    "colab": {},
    "colab_type": "code",
    "id": "xjDDXgWDjm_R"
   },
   "outputs": [],
   "source": [
    "#Function to find BLEU score\n",
    "def bleu_score(generated,gram):\n",
    "    references = [reference]\n",
    "    candidates = [generated.split()]\n",
    "    t = [0,0,0,0]\n",
    "    t[gram-1]=1\n",
    "    score = corpus_bleu(references, candidates, weights=tuple(t))\n",
    "    return score"
   ]
  },
  {
   "cell_type": "code",
   "execution_count": 29,
   "metadata": {
    "colab": {},
    "colab_type": "code",
    "id": "RMw4JjB6jOrQ"
   },
   "outputs": [],
   "source": [
    "#Creating new columns for BLUE score for 1,2,3,4 grams\n",
    "results['blue-1']=results['generated'].apply(lambda x: bleu_score(x,1))\n",
    "results['blue-2']=results['generated'].apply(lambda x: bleu_score(x,2))\n",
    "results['blue-3']=results['generated'].apply(lambda x: bleu_score(x,3))\n",
    "results['blue-4']=results['generated'].apply(lambda x: bleu_score(x,4))"
   ]
  },
  {
   "cell_type": "code",
   "execution_count": 30,
   "metadata": {
    "colab": {
     "base_uri": "https://localhost:8080/",
     "height": 793
    },
    "colab_type": "code",
    "id": "WXqVTnpHlvsW",
    "outputId": "3223c006-6030-4885-b4e8-97b69d5ea940"
   },
   "outputs": [
    {
     "data": {
      "text/html": [
       "<div>\n",
       "<style scoped>\n",
       "    .dataframe tbody tr th:only-of-type {\n",
       "        vertical-align: middle;\n",
       "    }\n",
       "\n",
       "    .dataframe tbody tr th {\n",
       "        vertical-align: top;\n",
       "    }\n",
       "\n",
       "    .dataframe thead th {\n",
       "        text-align: right;\n",
       "    }\n",
       "</style>\n",
       "<table border=\"1\" class=\"dataframe\">\n",
       "  <thead>\n",
       "    <tr style=\"text-align: right;\">\n",
       "      <th></th>\n",
       "      <th>learning_rate</th>\n",
       "      <th>batch_size</th>\n",
       "      <th>epochs</th>\n",
       "      <th>time</th>\n",
       "      <th>file_name</th>\n",
       "      <th>generated</th>\n",
       "      <th>blue-1</th>\n",
       "      <th>blue-2</th>\n",
       "      <th>blue-3</th>\n",
       "      <th>blue-4</th>\n",
       "    </tr>\n",
       "  </thead>\n",
       "  <tbody>\n",
       "    <tr>\n",
       "      <th>0</th>\n",
       "      <td>0.0100</td>\n",
       "      <td>128.0</td>\n",
       "      <td>5.0</td>\n",
       "      <td>2.17</td>\n",
       "      <td>word2v-RNN-weights-0.01-128-05.hdf5</td>\n",
       "      <td>dance, Can you feel it?, All that I can hear i...</td>\n",
       "      <td>0.371429</td>\n",
       "      <td>0.157593</td>\n",
       "      <td>0.140805</td>\n",
       "      <td>0.135447</td>\n",
       "    </tr>\n",
       "    <tr>\n",
       "      <th>1</th>\n",
       "      <td>0.0100</td>\n",
       "      <td>128.0</td>\n",
       "      <td>10.0</td>\n",
       "      <td>4.26</td>\n",
       "      <td>word2v-RNN-weights-0.01-128-10.hdf5</td>\n",
       "      <td>dance, Can you feel it?, All that I can hear i...</td>\n",
       "      <td>0.311429</td>\n",
       "      <td>0.189112</td>\n",
       "      <td>0.140805</td>\n",
       "      <td>0.135447</td>\n",
       "    </tr>\n",
       "    <tr>\n",
       "      <th>2</th>\n",
       "      <td>0.0100</td>\n",
       "      <td>128.0</td>\n",
       "      <td>15.0</td>\n",
       "      <td>6.36</td>\n",
       "      <td>word2v-RNN-weights-0.01-128-15.hdf5</td>\n",
       "      <td>dance, Can you feel it?, All that I can hear i...</td>\n",
       "      <td>0.271429</td>\n",
       "      <td>0.174785</td>\n",
       "      <td>0.140805</td>\n",
       "      <td>0.135447</td>\n",
       "    </tr>\n",
       "    <tr>\n",
       "      <th>3</th>\n",
       "      <td>0.0100</td>\n",
       "      <td>128.0</td>\n",
       "      <td>20.0</td>\n",
       "      <td>8.43</td>\n",
       "      <td>word2v-RNN-weights-0.01-128-20.hdf5</td>\n",
       "      <td>dance, Can you feel it?, All that I can hear i...</td>\n",
       "      <td>0.314286</td>\n",
       "      <td>0.189112</td>\n",
       "      <td>0.163793</td>\n",
       "      <td>0.152738</td>\n",
       "    </tr>\n",
       "    <tr>\n",
       "      <th>4</th>\n",
       "      <td>0.0100</td>\n",
       "      <td>128.0</td>\n",
       "      <td>25.0</td>\n",
       "      <td>10.50</td>\n",
       "      <td>word2v-RNN-weights-0.01-128-25.hdf5</td>\n",
       "      <td>dance, Can you feel it?, All that I can hear i...</td>\n",
       "      <td>0.288571</td>\n",
       "      <td>0.166189</td>\n",
       "      <td>0.137931</td>\n",
       "      <td>0.135447</td>\n",
       "    </tr>\n",
       "    <tr>\n",
       "      <th>5</th>\n",
       "      <td>0.0100</td>\n",
       "      <td>128.0</td>\n",
       "      <td>30.0</td>\n",
       "      <td>12.62</td>\n",
       "      <td>word2v-RNN-weights-0.01-128-30.hdf5</td>\n",
       "      <td>dance, Can you feel it?, All that I can hear i...</td>\n",
       "      <td>0.200000</td>\n",
       "      <td>0.140401</td>\n",
       "      <td>0.137931</td>\n",
       "      <td>0.135447</td>\n",
       "    </tr>\n",
       "    <tr>\n",
       "      <th>6</th>\n",
       "      <td>0.0100</td>\n",
       "      <td>256.0</td>\n",
       "      <td>5.0</td>\n",
       "      <td>1.16</td>\n",
       "      <td>word2v-RNN-weights-0.01-256-05.hdf5</td>\n",
       "      <td>dance, Can you feel it?, All that I can hear i...</td>\n",
       "      <td>0.242857</td>\n",
       "      <td>0.148997</td>\n",
       "      <td>0.137931</td>\n",
       "      <td>0.135447</td>\n",
       "    </tr>\n",
       "    <tr>\n",
       "      <th>7</th>\n",
       "      <td>0.0100</td>\n",
       "      <td>256.0</td>\n",
       "      <td>10.0</td>\n",
       "      <td>2.27</td>\n",
       "      <td>word2v-RNN-weights-0.01-256-10.hdf5</td>\n",
       "      <td>dance, Can you feel it?, All that I can hear i...</td>\n",
       "      <td>0.171429</td>\n",
       "      <td>0.148997</td>\n",
       "      <td>0.137931</td>\n",
       "      <td>0.135447</td>\n",
       "    </tr>\n",
       "    <tr>\n",
       "      <th>8</th>\n",
       "      <td>0.0100</td>\n",
       "      <td>256.0</td>\n",
       "      <td>15.0</td>\n",
       "      <td>3.38</td>\n",
       "      <td>word2v-RNN-weights-0.01-256-15.hdf5</td>\n",
       "      <td>dance, Can you feel it?, All that I can hear i...</td>\n",
       "      <td>0.328571</td>\n",
       "      <td>0.160458</td>\n",
       "      <td>0.137931</td>\n",
       "      <td>0.135447</td>\n",
       "    </tr>\n",
       "    <tr>\n",
       "      <th>9</th>\n",
       "      <td>0.0100</td>\n",
       "      <td>256.0</td>\n",
       "      <td>20.0</td>\n",
       "      <td>4.50</td>\n",
       "      <td>word2v-RNN-weights-0.01-256-20.hdf5</td>\n",
       "      <td>dance, Can you feel it?, All that I can hear i...</td>\n",
       "      <td>0.282857</td>\n",
       "      <td>0.160458</td>\n",
       "      <td>0.137931</td>\n",
       "      <td>0.135447</td>\n",
       "    </tr>\n",
       "    <tr>\n",
       "      <th>10</th>\n",
       "      <td>0.0100</td>\n",
       "      <td>256.0</td>\n",
       "      <td>25.0</td>\n",
       "      <td>5.61</td>\n",
       "      <td>word2v-RNN-weights-0.01-256-25.hdf5</td>\n",
       "      <td>dance, Can you feel it?, All that I can hear i...</td>\n",
       "      <td>0.262857</td>\n",
       "      <td>0.166189</td>\n",
       "      <td>0.137931</td>\n",
       "      <td>0.135447</td>\n",
       "    </tr>\n",
       "    <tr>\n",
       "      <th>11</th>\n",
       "      <td>0.0100</td>\n",
       "      <td>256.0</td>\n",
       "      <td>30.0</td>\n",
       "      <td>6.73</td>\n",
       "      <td>word2v-RNN-weights-0.01-256-30.hdf5</td>\n",
       "      <td>dance, Can you feel it?, All that I can hear i...</td>\n",
       "      <td>0.311429</td>\n",
       "      <td>0.214900</td>\n",
       "      <td>0.149425</td>\n",
       "      <td>0.135447</td>\n",
       "    </tr>\n",
       "    <tr>\n",
       "      <th>12</th>\n",
       "      <td>0.0010</td>\n",
       "      <td>128.0</td>\n",
       "      <td>5.0</td>\n",
       "      <td>2.19</td>\n",
       "      <td>word2v-RNN-weights-0.001-128-05.hdf5</td>\n",
       "      <td>dance, Can you feel it?, All that I can hear i...</td>\n",
       "      <td>0.174286</td>\n",
       "      <td>0.140401</td>\n",
       "      <td>0.137931</td>\n",
       "      <td>0.135447</td>\n",
       "    </tr>\n",
       "    <tr>\n",
       "      <th>13</th>\n",
       "      <td>0.0010</td>\n",
       "      <td>128.0</td>\n",
       "      <td>10.0</td>\n",
       "      <td>4.32</td>\n",
       "      <td>word2v-RNN-weights-0.001-128-10.hdf5</td>\n",
       "      <td>dance, Can you feel it?, All that I can hear i...</td>\n",
       "      <td>0.288571</td>\n",
       "      <td>0.186246</td>\n",
       "      <td>0.137931</td>\n",
       "      <td>0.135447</td>\n",
       "    </tr>\n",
       "    <tr>\n",
       "      <th>14</th>\n",
       "      <td>0.0010</td>\n",
       "      <td>128.0</td>\n",
       "      <td>15.0</td>\n",
       "      <td>6.43</td>\n",
       "      <td>word2v-RNN-weights-0.001-128-15.hdf5</td>\n",
       "      <td>dance, Can you feel it?, All that I can hear i...</td>\n",
       "      <td>0.180000</td>\n",
       "      <td>0.143266</td>\n",
       "      <td>0.137931</td>\n",
       "      <td>0.135447</td>\n",
       "    </tr>\n",
       "    <tr>\n",
       "      <th>15</th>\n",
       "      <td>0.0010</td>\n",
       "      <td>128.0</td>\n",
       "      <td>20.0</td>\n",
       "      <td>8.57</td>\n",
       "      <td>word2v-RNN-weights-0.001-128-20.hdf5</td>\n",
       "      <td>dance, Can you feel it?, All that I can hear i...</td>\n",
       "      <td>0.368571</td>\n",
       "      <td>0.226361</td>\n",
       "      <td>0.160920</td>\n",
       "      <td>0.144092</td>\n",
       "    </tr>\n",
       "    <tr>\n",
       "      <th>16</th>\n",
       "      <td>0.0010</td>\n",
       "      <td>128.0</td>\n",
       "      <td>25.0</td>\n",
       "      <td>10.69</td>\n",
       "      <td>word2v-RNN-weights-0.001-128-25.hdf5</td>\n",
       "      <td>dance, Can you feel it?, All that I can hear i...</td>\n",
       "      <td>0.342857</td>\n",
       "      <td>0.223496</td>\n",
       "      <td>0.169540</td>\n",
       "      <td>0.146974</td>\n",
       "    </tr>\n",
       "    <tr>\n",
       "      <th>17</th>\n",
       "      <td>0.0010</td>\n",
       "      <td>128.0</td>\n",
       "      <td>30.0</td>\n",
       "      <td>12.81</td>\n",
       "      <td>word2v-RNN-weights-0.001-128-30.hdf5</td>\n",
       "      <td>dance, Can you feel it?, All that I can hear i...</td>\n",
       "      <td>0.208571</td>\n",
       "      <td>0.146132</td>\n",
       "      <td>0.137931</td>\n",
       "      <td>0.135447</td>\n",
       "    </tr>\n",
       "    <tr>\n",
       "      <th>18</th>\n",
       "      <td>0.0001</td>\n",
       "      <td>128.0</td>\n",
       "      <td>5.0</td>\n",
       "      <td>2.18</td>\n",
       "      <td>word2v-RNN-weights-0.0001-128-05.hdf5</td>\n",
       "      <td>dance, Can you feel it?, All that I can hear i...</td>\n",
       "      <td>0.197143</td>\n",
       "      <td>0.146132</td>\n",
       "      <td>0.137931</td>\n",
       "      <td>0.135447</td>\n",
       "    </tr>\n",
       "    <tr>\n",
       "      <th>19</th>\n",
       "      <td>0.0001</td>\n",
       "      <td>128.0</td>\n",
       "      <td>10.0</td>\n",
       "      <td>4.32</td>\n",
       "      <td>word2v-RNN-weights-0.0001-128-10.hdf5</td>\n",
       "      <td>dance, Can you feel it?, All that I can hear i...</td>\n",
       "      <td>0.380000</td>\n",
       "      <td>0.163324</td>\n",
       "      <td>0.140805</td>\n",
       "      <td>0.135447</td>\n",
       "    </tr>\n",
       "    <tr>\n",
       "      <th>20</th>\n",
       "      <td>0.0001</td>\n",
       "      <td>128.0</td>\n",
       "      <td>15.0</td>\n",
       "      <td>6.47</td>\n",
       "      <td>word2v-RNN-weights-0.0001-128-15.hdf5</td>\n",
       "      <td>dance, Can you feel it?, All that I can hear i...</td>\n",
       "      <td>0.248571</td>\n",
       "      <td>0.143266</td>\n",
       "      <td>0.137931</td>\n",
       "      <td>0.135447</td>\n",
       "    </tr>\n",
       "    <tr>\n",
       "      <th>21</th>\n",
       "      <td>0.0001</td>\n",
       "      <td>128.0</td>\n",
       "      <td>20.0</td>\n",
       "      <td>8.61</td>\n",
       "      <td>word2v-RNN-weights-0.0001-128-20.hdf5</td>\n",
       "      <td>dance, Can you feel it?, All that I can hear i...</td>\n",
       "      <td>0.265714</td>\n",
       "      <td>0.151862</td>\n",
       "      <td>0.137931</td>\n",
       "      <td>0.135447</td>\n",
       "    </tr>\n",
       "    <tr>\n",
       "      <th>22</th>\n",
       "      <td>0.0001</td>\n",
       "      <td>128.0</td>\n",
       "      <td>25.0</td>\n",
       "      <td>10.75</td>\n",
       "      <td>word2v-RNN-weights-0.0001-128-25.hdf5</td>\n",
       "      <td>dance, Can you feel it?, All that I can hear i...</td>\n",
       "      <td>0.328571</td>\n",
       "      <td>0.148997</td>\n",
       "      <td>0.137931</td>\n",
       "      <td>0.135447</td>\n",
       "    </tr>\n",
       "    <tr>\n",
       "      <th>23</th>\n",
       "      <td>0.0001</td>\n",
       "      <td>128.0</td>\n",
       "      <td>30.0</td>\n",
       "      <td>12.86</td>\n",
       "      <td>word2v-RNN-weights-0.0001-128-30.hdf5</td>\n",
       "      <td>dance, Can you feel it?, All that I can hear i...</td>\n",
       "      <td>0.237143</td>\n",
       "      <td>0.151862</td>\n",
       "      <td>0.137931</td>\n",
       "      <td>0.135447</td>\n",
       "    </tr>\n",
       "  </tbody>\n",
       "</table>\n",
       "</div>"
      ],
      "text/plain": [
       "    learning_rate  batch_size  epochs  ...    blue-2    blue-3    blue-4\n",
       "0          0.0100       128.0     5.0  ...  0.157593  0.140805  0.135447\n",
       "1          0.0100       128.0    10.0  ...  0.189112  0.140805  0.135447\n",
       "2          0.0100       128.0    15.0  ...  0.174785  0.140805  0.135447\n",
       "3          0.0100       128.0    20.0  ...  0.189112  0.163793  0.152738\n",
       "4          0.0100       128.0    25.0  ...  0.166189  0.137931  0.135447\n",
       "5          0.0100       128.0    30.0  ...  0.140401  0.137931  0.135447\n",
       "6          0.0100       256.0     5.0  ...  0.148997  0.137931  0.135447\n",
       "7          0.0100       256.0    10.0  ...  0.148997  0.137931  0.135447\n",
       "8          0.0100       256.0    15.0  ...  0.160458  0.137931  0.135447\n",
       "9          0.0100       256.0    20.0  ...  0.160458  0.137931  0.135447\n",
       "10         0.0100       256.0    25.0  ...  0.166189  0.137931  0.135447\n",
       "11         0.0100       256.0    30.0  ...  0.214900  0.149425  0.135447\n",
       "12         0.0010       128.0     5.0  ...  0.140401  0.137931  0.135447\n",
       "13         0.0010       128.0    10.0  ...  0.186246  0.137931  0.135447\n",
       "14         0.0010       128.0    15.0  ...  0.143266  0.137931  0.135447\n",
       "15         0.0010       128.0    20.0  ...  0.226361  0.160920  0.144092\n",
       "16         0.0010       128.0    25.0  ...  0.223496  0.169540  0.146974\n",
       "17         0.0010       128.0    30.0  ...  0.146132  0.137931  0.135447\n",
       "18         0.0001       128.0     5.0  ...  0.146132  0.137931  0.135447\n",
       "19         0.0001       128.0    10.0  ...  0.163324  0.140805  0.135447\n",
       "20         0.0001       128.0    15.0  ...  0.143266  0.137931  0.135447\n",
       "21         0.0001       128.0    20.0  ...  0.151862  0.137931  0.135447\n",
       "22         0.0001       128.0    25.0  ...  0.148997  0.137931  0.135447\n",
       "23         0.0001       128.0    30.0  ...  0.151862  0.137931  0.135447\n",
       "\n",
       "[24 rows x 10 columns]"
      ]
     },
     "execution_count": 30,
     "metadata": {
      "tags": []
     },
     "output_type": "execute_result"
    }
   ],
   "source": [
    "results.to_csv(\"/content/drive/My Drive/Colab Notebooks/word2v-RNN-results.csv\",index=None)\n",
    "results"
   ]
  },
  {
   "cell_type": "markdown",
   "metadata": {
    "colab_type": "text",
    "id": "5GnwFZCcoP5b"
   },
   "source": [
    "**Plot for BLEU score(2-grams) vs epochs with parameters as lr=0.01, batch_size=128**"
   ]
  },
  {
   "cell_type": "code",
   "execution_count": 31,
   "metadata": {
    "colab": {
     "base_uri": "https://localhost:8080/",
     "height": 71
    },
    "colab_type": "code",
    "id": "AHVZHnr6qmm1",
    "outputId": "0f3392c8-907a-4ac5-d616-c369414553b7"
   },
   "outputs": [
    {
     "name": "stderr",
     "output_type": "stream",
     "text": [
      "/usr/local/lib/python3.6/dist-packages/statsmodels/tools/_testing.py:19: FutureWarning: pandas.util.testing is deprecated. Use the functions in the public API at pandas.testing instead.\n",
      "  import pandas.util.testing as tm\n"
     ]
    }
   ],
   "source": [
    "import matplotlib.pyplot as plt\n",
    "import seaborn as sns"
   ]
  },
  {
   "cell_type": "code",
   "execution_count": 32,
   "metadata": {
    "colab": {
     "base_uri": "https://localhost:8080/",
     "height": 350
    },
    "colab_type": "code",
    "id": "-daDK2Bfl6HL",
    "outputId": "d3cf3fe9-b100-4cf5-83fa-c9a1f49df019"
   },
   "outputs": [
    {
     "data": {
      "image/png": "[encoded data removed]",
      "text/plain": [
       "<Figure size 720x360 with 1 Axes>"
      ]
     },
     "metadata": {
      "needs_background": "light",
      "tags": []
     },
     "output_type": "display_data"
    }
   ],
   "source": [
    "plt.figure(figsize=(10,5))\n",
    "sns.lineplot(x='epochs', y='blue-2',  \n",
    "             data=results[(results['learning_rate']==0.01) & (results['batch_size']==128)], palette = \"Dark2\")\n",
    "plt.title('BLEU score Vs Epochs')\n",
    "plt.xlabel('Epochs')\n",
    "plt.ylabel('BLEU score (2-grams)')\n",
    "plt.xticks(range(0,31,5))\n",
    "plt.yticks([0.1*x for x in range(0,11)])\n",
    "plt.savefig(\"/content/drive/My Drive/Colab Notebooks/word2v-RNN-p1.png\")\n",
    "plt.show()"
   ]
  },
  {
   "cell_type": "markdown",
   "metadata": {},
   "source": [
    "- constant BLEU score"
   ]
  },
  {
   "cell_type": "markdown",
   "metadata": {
    "colab_type": "text",
    "id": "nNyjJISStBLO"
   },
   "source": [
    "**Plot for BLEU score(2-grams) vs Batch size with parameters lr=0.01 and epochs=30**"
   ]
  },
  {
   "cell_type": "code",
   "execution_count": 33,
   "metadata": {
    "colab": {
     "base_uri": "https://localhost:8080/",
     "height": 350
    },
    "colab_type": "code",
    "id": "Wf1ydcios_2j",
    "outputId": "f78870d2-51e9-4718-d787-8fd2699b66ec"
   },
   "outputs": [
    {
     "data": {
      "image/png": "[encoded data removed]",
      "text/plain": [
       "<Figure size 720x360 with 1 Axes>"
      ]
     },
     "metadata": {
      "needs_background": "light",
      "tags": []
     },
     "output_type": "display_data"
    }
   ],
   "source": [
    "plt.figure(figsize=(10,5))\n",
    "sns.lineplot(x='batch_size', y='blue-2',  \n",
    "             data=results[(results['learning_rate']==0.01) & (results['epochs']==30)], palette = \"Dark2\")\n",
    "plt.title('BLEU score Vs Batch size')\n",
    "plt.xlabel('Batch size')\n",
    "plt.ylabel('BLEU score (2-grams)')\n",
    "plt.xticks(range(0,257,128))\n",
    "plt.yticks([0.1*x for x in range(0,11)])\n",
    "plt.savefig(\"/content/drive/My Drive/Colab Notebooks/word2v-RNN-p2.png\")\n",
    "plt.show()"
   ]
  },
  {
   "cell_type": "markdown",
   "metadata": {},
   "source": [
    "- Increase in BLEU score with increase in batch size"
   ]
  }
 ],
 "metadata": {
  "accelerator": "GPU",
  "colab": {
   "collapsed_sections": [],
   "name": "W2V_Encoding,_RNN_model.ipynb",
   "provenance": []
  },
  "kernelspec": {
   "display_name": "Python 3",
   "language": "python",
   "name": "python3"
  },
  "language_info": {
   "codemirror_mode": {
    "name": "ipython",
    "version": 3
   },
   "file_extension": ".py",
   "mimetype": "text/x-python",
   "name": "python",
   "nbconvert_exporter": "python",
   "pygments_lexer": "ipython3",
   "version": "3.6.5"
  }
 },
 "nbformat": 4,
 "nbformat_minor": 1
}

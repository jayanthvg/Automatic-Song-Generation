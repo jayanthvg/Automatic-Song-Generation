{
 "cells": [
  {
   "cell_type": "markdown",
   "metadata": {
    "colab_type": "text",
    "id": "eSe5R3Xr7FBS"
   },
   "source": [
    "# ***Character-wise Encoding, Multi-Layer RNN model***"
   ]
  },
  {
   "cell_type": "markdown",
   "metadata": {
    "colab_type": "text",
    "id": "pw314RVS5-o1"
   },
   "source": [
    "**Contents**\n",
    "\n",
    "1.   Mounting Drive\n",
    "2.   Importing Libraries\n",
    "3.   Loading Dataset\n",
    "4.   Tokenization\n",
    "5.   Creating features and labels for model building\n",
    "6.   One-hot encoding of characters\n",
    "7.   Splitting dataset as Train, Validation sets\n",
    "8.   Model Building\n",
    "9.   Generating new songs\n",
    "10.  BLEU scores for each model\n",
    "11.  Plots for BLEU scores\n",
    "\n"
   ]
  },
  {
   "cell_type": "markdown",
   "metadata": {
    "colab_type": "text",
    "id": "nb45YCxjchHp"
   },
   "source": [
    "**Mounting Drive**"
   ]
  },
  {
   "cell_type": "code",
   "execution_count": 1,
   "metadata": {
    "colab": {
     "base_uri": "https://localhost:8080/",
     "height": 122
    },
    "colab_type": "code",
    "id": "Ea_0VDdVciZh",
    "outputId": "f7bd875b-c879-4b25-e152-4f75ed26589e"
   },
   "outputs": [
    {
     "name": "stdout",
     "output_type": "stream",
     "text": [
      "Go to this URL in a browser: https://accounts.google.com/o/oauth2/auth?client_id=947318989803-6bn6qk8qdgf4n4g3pfee6491hc0brc4i.apps.googleusercontent.com&redirect_uri=urn%3aietf%3awg%3aoauth%3a2.0%3aoob&scope=email%20https%3a%2f%2fwww.googleapis.com%2fauth%2fdocs.test%20https%3a%2f%2fwww.googleapis.com%2fauth%2fdrive%20https%3a%2f%2fwww.googleapis.com%2fauth%2fdrive.photos.readonly%20https%3a%2f%2fwww.googleapis.com%2fauth%2fpeopleapi.readonly&response_type=code\n",
      "\n",
      "Enter your authorization code:\n",
      "··········\n",
      "Mounted at /content/drive\n"
     ]
    }
   ],
   "source": [
    "from google.colab import drive\n",
    "drive.mount('/content/drive')"
   ]
  },
  {
   "cell_type": "markdown",
   "metadata": {
    "colab_type": "text",
    "id": "CzVq1_Ewby3B"
   },
   "source": [
    "**Importing Libraries**"
   ]
  },
  {
   "cell_type": "code",
   "execution_count": 2,
   "metadata": {
    "colab": {},
    "colab_type": "code",
    "id": "N6ngcMw2bU2a"
   },
   "outputs": [],
   "source": [
    "import numpy as np\n",
    "import pandas as pd\n",
    "from time import time\n",
    "import time\n",
    "import random\n",
    "from statistics import median\n",
    "from sklearn.model_selection import train_test_split\n",
    "import keras\n",
    "from keras.preprocessing.text import Tokenizer\n",
    "from keras.models import Sequential\n",
    "from keras.layers import LSTM, SimpleRNN, Bidirectional, Dense, Dropout, Masking, Embedding\n",
    "from keras.optimizers import Adam\n",
    "from keras.callbacks import ModelCheckpoint, Callback\n",
    "from keras.models import load_model\n",
    "from nltk.translate.bleu_score import corpus_bleu"
   ]
  },
  {
   "cell_type": "markdown",
   "metadata": {
    "colab_type": "text",
    "id": "qe3GmHVcusav"
   },
   "source": [
    "**Loading Ed-Sheeran songs dataset**"
   ]
  },
  {
   "cell_type": "code",
   "execution_count": 3,
   "metadata": {
    "colab": {
     "base_uri": "https://localhost:8080/",
     "height": 204
    },
    "colab_type": "code",
    "id": "P9zgKGIIcLVx",
    "outputId": "a0d1c554-aa43-46b5-9c31-4d9747da3ecb"
   },
   "outputs": [
    {
     "data": {
      "text/html": [
       "<div>\n",
       "<style scoped>\n",
       "    .dataframe tbody tr th:only-of-type {\n",
       "        vertical-align: middle;\n",
       "    }\n",
       "\n",
       "    .dataframe tbody tr th {\n",
       "        vertical-align: top;\n",
       "    }\n",
       "\n",
       "    .dataframe thead th {\n",
       "        text-align: right;\n",
       "    }\n",
       "</style>\n",
       "<table border=\"1\" class=\"dataframe\">\n",
       "  <thead>\n",
       "    <tr style=\"text-align: right;\">\n",
       "      <th></th>\n",
       "      <th>Lyrics</th>\n",
       "    </tr>\n",
       "  </thead>\n",
       "  <tbody>\n",
       "    <tr>\n",
       "      <th>0</th>\n",
       "      <td>Hey, hey, hey, hey, Hey, hey, hey, hey, Hey, ...</td>\n",
       "    </tr>\n",
       "    <tr>\n",
       "      <th>1</th>\n",
       "      <td>The club isn't the best place to find a lover...</td>\n",
       "    </tr>\n",
       "    <tr>\n",
       "      <th>2</th>\n",
       "      <td>I found a love for me, Darling, just dive rig...</td>\n",
       "    </tr>\n",
       "    <tr>\n",
       "      <th>3</th>\n",
       "      <td>Loving can hurt, Loving can hurt sometimes, B...</td>\n",
       "    </tr>\n",
       "    <tr>\n",
       "      <th>4</th>\n",
       "      <td>When your legs don't work like they used to b...</td>\n",
       "    </tr>\n",
       "  </tbody>\n",
       "</table>\n",
       "</div>"
      ],
      "text/plain": [
       "                                              Lyrics\n",
       "0   Hey, hey, hey, hey, Hey, hey, hey, hey, Hey, ...\n",
       "1   The club isn't the best place to find a lover...\n",
       "2   I found a love for me, Darling, just dive rig...\n",
       "3   Loving can hurt, Loving can hurt sometimes, B...\n",
       "4   When your legs don't work like they used to b..."
      ]
     },
     "execution_count": 3,
     "metadata": {
      "tags": []
     },
     "output_type": "execute_result"
    }
   ],
   "source": [
    "data = pd.read_csv('/content/drive/My Drive/Colab Notebooks/ed_sheeran.csv',header=None,names=['Title','Link','Lyrics'])\n",
    "\n",
    "#Removing rows which have empty lyrics\n",
    "data = data[data['Lyrics'].notna()].reset_index(drop=True)\n",
    "\n",
    "#Removing Duplicate rows and unneccessary columns\n",
    "data = pd.DataFrame(data['Lyrics'].unique(),columns=['Lyrics'])\n",
    "\n",
    "data.head(5)"
   ]
  },
  {
   "cell_type": "code",
   "execution_count": 4,
   "metadata": {
    "colab": {},
    "colab_type": "code",
    "id": "PE-FUB3Ic-L6"
   },
   "outputs": [],
   "source": [
    "#Creating list of all songs\n",
    "lyrics = list(data['Lyrics'].apply(str))"
   ]
  },
  {
   "cell_type": "markdown",
   "metadata": {
    "colab_type": "text",
    "id": "-nUWT3FLvK7r"
   },
   "source": [
    "**Median length of song**"
   ]
  },
  {
   "cell_type": "code",
   "execution_count": 5,
   "metadata": {
    "colab": {
     "base_uri": "https://localhost:8080/",
     "height": 34
    },
    "colab_type": "code",
    "id": "sChNnotwScJa",
    "outputId": "f8185a1a-0579-4c49-dc74-dcc99ddd0b16"
   },
   "outputs": [
    {
     "data": {
      "text/plain": [
       "1500"
      ]
     },
     "execution_count": 5,
     "metadata": {
      "tags": []
     },
     "output_type": "execute_result"
    }
   ],
   "source": [
    "lyric_length = round(median([len(lyrics[x]) for x in range(len(lyrics))])/100)*100\n",
    "lyric_length"
   ]
  },
  {
   "cell_type": "markdown",
   "metadata": {
    "colab_type": "text",
    "id": "TCcFQvuEwGgU"
   },
   "source": [
    "**Character level tokenization of songs**"
   ]
  },
  {
   "cell_type": "code",
   "execution_count": 6,
   "metadata": {
    "colab": {},
    "colab_type": "code",
    "id": "R3zAxSdmeX1q"
   },
   "outputs": [],
   "source": [
    "tokenizer = Tokenizer(lower = False, char_level=True)\n",
    "tokenizer.fit_on_texts(lyrics)"
   ]
  },
  {
   "cell_type": "code",
   "execution_count": 7,
   "metadata": {
    "colab": {},
    "colab_type": "code",
    "id": "-DWLI4mJe_C6"
   },
   "outputs": [],
   "source": [
    "#Converting each song into list of tokens\n",
    "sequences = tokenizer.texts_to_sequences(lyrics)"
   ]
  },
  {
   "cell_type": "code",
   "execution_count": 8,
   "metadata": {
    "colab": {
     "base_uri": "https://localhost:8080/",
     "height": 52
    },
    "colab_type": "code",
    "id": "PNd2W2lFwuzx",
    "outputId": "4d5ace61-452f-41ab-d831-e6b2f630963e"
   },
   "outputs": [
    {
     "data": {
      "application/vnd.google.colaboratory.intrinsic+json": {
       "type": "string"
      },
      "text/plain": [
       "' The club isn\\'t the best place to find a lover, So the bar is where I go, Me and my friends at the table doing shots, Drinking fast, and then we talk slow And you come over and start up a conversation with just me, And trust me, I\\'ll give it a chance now, Take my hand, stop, Put \"Van the Man\" on the'"
      ]
     },
     "execution_count": 8,
     "metadata": {
      "tags": []
     },
     "output_type": "execute_result"
    }
   ],
   "source": [
    "lyrics[1][:300]"
   ]
  },
  {
   "cell_type": "code",
   "execution_count": 9,
   "metadata": {
    "colab": {
     "base_uri": "https://localhost:8080/",
     "height": 54
    },
    "colab_type": "code",
    "id": "FIJAKdxuhO4x",
    "outputId": "b7d41ceb-8d3d-4bc3-cfde-d20db59a8230"
   },
   "outputs": [
    {
     "name": "stdout",
     "output_type": "stream",
     "text": [
      "[1, 28, 9, 2, 1, 23, 8, 14, 22, 1, 7, 10, 5, 21, 4, 1, 4, 9, 2, 1, 22, 2, 10, 4, 1, 26, 8, 6, 23, 2, 1, 4, 3, 1, 20, 7, 5, 13, 1, 6, 1, 8, 3, 25, 2, 12, 11, 1, 31, 3, 1, 4, 9, 2, 1, 22, 6, 12, 1, 7, 10, 1, 17, 9, 2, 12, 2, 1, 19, 1, 18, 3, 11, 1, 35, 2, 1, 6, 5, 13, 1, 16, 15, 1, 20, 12, 7, 2, 5, 13, 10, 1, 6, 4, 1, 4, 9, 2, 1, 4, 6, 22, 8, 2, 1, 13, 3, 7, 5, 18, 1, 10, 9, 3, 4, 10, 11, 1, 43, 12, 7, 5, 24, 7, 5, 18, 1, 20, 6, 10, 4, 11, 1, 6, 5, 13, 1, 4, 9, 2, 5, 1, 17, 2, 1, 4, 6, 8, 24, 1, 10, 8, 3, 17, 1, 27, 5, 13, 1, 15, 3, 14, 1, 23, 3, 16, 2, 1, 3, 25, 2, 12, 1, 6, 5, 13, 1, 10, 4, 6, 12, 4, 1, 14, 26, 1, 6, 1, 23, 3, 5, 25, 2, 12, 10, 6, 4, 7, 3, 5, 1, 17, 7, 4, 9, 1, 37, 14, 10, 4, 1, 16, 2, 11, 1, 27, 5, 13, 1, 4, 12, 14, 10, 4, 1, 16, 2, 11, 1, 19, 21, 8, 8, 1, 18, 7, 25, 2, 1, 7, 4, 1, 6, 1, 23, 9, 6, 5, 23, 2, 1, 5, 3, 17, 11, 1, 28, 6, 24, 2, 1, 16, 15, 1, 9, 6, 5, 13, 11, 1, 10, 4, 3, 26, 11, 1, 52, 14, 4, 1, 51, 60, 6, 5, 1, 4, 9, 2, 1, 35, 6, 5, 51, 1, 3, 5, 1, 4, 9, 2]\n"
     ]
    }
   ],
   "source": [
    "print(sequences[1][:300])"
   ]
  },
  {
   "cell_type": "code",
   "execution_count": 10,
   "metadata": {
    "colab": {},
    "colab_type": "code",
    "id": "A1Zcm2sBhtM-"
   },
   "outputs": [],
   "source": [
    "#Dictionary of unique tokens\n",
    "idx_char = tokenizer.index_word"
   ]
  },
  {
   "cell_type": "markdown",
   "metadata": {
    "colab_type": "text",
    "id": "rYwv39KtjrY-"
   },
   "source": [
    "**Creating Features and Labels for Model building**"
   ]
  },
  {
   "cell_type": "code",
   "execution_count": 11,
   "metadata": {
    "colab": {},
    "colab_type": "code",
    "id": "V6cDZ8cOjRUv"
   },
   "outputs": [],
   "source": [
    "features = []\n",
    "labels = []\n",
    "\n",
    "training_length = 50\n",
    "\n",
    "# Iterate through teach tokenized song\n",
    "for seq in sequences:\n",
    "\n",
    "    # Create multiple training examples from each sequence\n",
    "    for i in range(training_length, len(seq)):\n",
    "        \n",
    "        # Extract the features and label\n",
    "        extract = seq[i - training_length:i + 1]\n",
    "\n",
    "        # Set the features and label\n",
    "        features.append(extract[:-1])\n",
    "        labels.append(extract[-1])\n",
    "        \n",
    "features = np.array(features)"
   ]
  },
  {
   "cell_type": "code",
   "execution_count": 12,
   "metadata": {
    "colab": {
     "base_uri": "https://localhost:8080/",
     "height": 136
    },
    "colab_type": "code",
    "id": "KDmURr-0knIv",
    "outputId": "09b145fc-be2b-4c1c-84fa-f7e75d1abdc6"
   },
   "outputs": [
    {
     "data": {
      "text/plain": [
       "array([[ 1, 39,  2, ...,  2, 15, 11],\n",
       "       [39,  2, 15, ..., 15, 11,  1],\n",
       "       [ 2, 15, 11, ..., 11,  1,  9],\n",
       "       ...,\n",
       "       [ 4,  3,  1, ..., 12,  3, 14],\n",
       "       [ 3,  1,  8, ...,  3, 14, 22],\n",
       "       [ 1,  8, 14, ..., 14, 22,  8]])"
      ]
     },
     "execution_count": 12,
     "metadata": {
      "tags": []
     },
     "output_type": "execute_result"
    }
   ],
   "source": [
    "features"
   ]
  },
  {
   "cell_type": "code",
   "execution_count": 13,
   "metadata": {
    "colab": {
     "base_uri": "https://localhost:8080/",
     "height": 34
    },
    "colab_type": "code",
    "id": "9Vq9jU2XkwiO",
    "outputId": "1dbcd7bc-b18e-4158-f8f2-a0a023e7978d"
   },
   "outputs": [
    {
     "data": {
      "text/plain": [
       "(180084, 77)"
      ]
     },
     "execution_count": 13,
     "metadata": {
      "tags": []
     },
     "output_type": "execute_result"
    }
   ],
   "source": [
    "# Unique characters in vocabulary\n",
    "num_chars = len(idx_char)+1\n",
    "\n",
    "# Empty array to hold labels\n",
    "label_array = np.zeros((len(features),num_chars))\n",
    "\n",
    "# One-hot encoding for labels\n",
    "for example_index, word_index in enumerate(labels):\n",
    "    label_array[example_index, word_index]=1\n",
    "\n",
    "label_array.shape"
   ]
  },
  {
   "cell_type": "markdown",
   "metadata": {
    "colab_type": "text",
    "id": "_RwpdBctyztk"
   },
   "source": [
    "**Splitting dataset into Train and Validation datasets**"
   ]
  },
  {
   "cell_type": "code",
   "execution_count": 14,
   "metadata": {
    "colab": {},
    "colab_type": "code",
    "id": "z0mxILdvCS-0"
   },
   "outputs": [],
   "source": [
    "X_train, X_test, y_train, y_test = train_test_split(features, label_array, test_size=0.2, random_state=0)"
   ]
  },
  {
   "cell_type": "code",
   "execution_count": 15,
   "metadata": {
    "colab": {},
    "colab_type": "code",
    "id": "GzP-dT7LCTJI"
   },
   "outputs": [],
   "source": [
    "#Function for creating network structure, training the model\n",
    "def model_build (lr_value,bs_value,results):\n",
    "\n",
    "    model = Sequential()\n",
    "    # Embedding layer\n",
    "    model.add(\n",
    "        Embedding(input_dim=num_chars,\n",
    "              input_length = training_length,\n",
    "              output_dim=num_chars,\n",
    "              weights=None,\n",
    "              trainable=False))\n",
    "\n",
    "    # Masking layer for pre-trained embeddings\n",
    "    model.add(Masking(mask_value=0.0))\n",
    "\n",
    "    # Recurrent layer\n",
    "    model.add(SimpleRNN(64, return_sequences=True, \n",
    "               dropout=0.1, recurrent_dropout=0.1))\n",
    "    \n",
    "    # Recurrent layer 2\n",
    "    model.add(SimpleRNN(64, return_sequences=True, \n",
    "               dropout=0.1, recurrent_dropout=0.1))\n",
    "    \n",
    "    # Recurrent layer 3\n",
    "    model.add(SimpleRNN(64, return_sequences=False, \n",
    "               dropout=0.1, recurrent_dropout=0.1))\n",
    "\n",
    "    # Fully connected layer\n",
    "    model.add(Dense(64, activation='relu'))\n",
    "\n",
    "    # Dropout for regularization\n",
    "    model.add(Dropout(0.1))\n",
    "\n",
    "    # Output layer\n",
    "    model.add(Dense(num_chars, activation='softmax'))\n",
    "\n",
    "    # Compile the model\n",
    "    model.compile(\n",
    "        optimizer=Adam(lr=lr_value), loss='categorical_crossentropy', metrics=['accuracy'])\n",
    "    \n",
    "    #Setting path for storing weights for exery 5 epochs\n",
    "    filepath=\"/content/drive/My Drive/Colab Notebooks/char-Multi-RNN-weights-{}-{}\".format(lr_value,bs_value)\n",
    "    filepath=filepath+\"-{epoch:02d}.hdf5\"\n",
    "    checkpoint = ModelCheckpoint(filepath, verbose=1, period=5, save_best_only=False)\n",
    "    \n",
    "    #Calling function for saving epoch times\n",
    "    time_callback = TimeHistory()\n",
    "\n",
    "    print(\"\\n----------BUILDING MODEL with lr-{} and bs-{}----------\\n\".format(lr_value,bs_value))\n",
    "    \n",
    "    #Building the model\n",
    "    model.fit(X_train, y_train,\n",
    "              batch_size=bs_value,\n",
    "              epochs=30,\n",
    "              verbose=0,\n",
    "              validation_data=(X_test, y_test),\n",
    "              callbacks=[checkpoint, time_callback])\n",
    "    \n",
    "    #time for epochs\n",
    "    times = time_callback.times\n",
    "    times = Cumulative(times)\n",
    "    times = [round(times[x]/60,2) for x in range(len(times)) if (x+1)%5==0]\n",
    "    for t,k in zip([5,10,15,20,25,30],[0,1,2,3,4,5]):\n",
    "        results.loc[len(results)] = [lr_value,bs_value,t,times[k]]"
   ]
  },
  {
   "cell_type": "code",
   "execution_count": 16,
   "metadata": {
    "colab": {},
    "colab_type": "code",
    "id": "f2JJ099JKtvB"
   },
   "outputs": [],
   "source": [
    "#Class for storing time for epochs\n",
    "class TimeHistory(keras.callbacks.Callback):\n",
    "    def on_train_begin(self, logs={}):\n",
    "        self.times = []\n",
    "\n",
    "    def on_epoch_begin(self, batch, logs={}):\n",
    "        self.epoch_time_start = time.time()\n",
    "\n",
    "    def on_epoch_end(self, batch, logs={}):\n",
    "        self.times.append(time.time() - self.epoch_time_start)"
   ]
  },
  {
   "cell_type": "code",
   "execution_count": 17,
   "metadata": {
    "colab": {},
    "colab_type": "code",
    "id": "D_MR0lIKK3gO"
   },
   "outputs": [],
   "source": [
    "#Function for converting list to cumulative sum of list\n",
    "def Cumulative(lists):  \n",
    "    cu_list = []\n",
    "    length = len(lists)  \n",
    "    cu_list = [sum(lists[0:x:1]) for x in range(0, length+1)]  \n",
    "    return cu_list[1:]"
   ]
  },
  {
   "cell_type": "code",
   "execution_count": 18,
   "metadata": {
    "colab": {
     "base_uri": "https://localhost:8080/",
     "height": 1000
    },
    "colab_type": "code",
    "id": "b69t3Ez7OG7Z",
    "outputId": "afc514a4-63ec-4f5e-9ba5-f6df770d9392"
   },
   "outputs": [
    {
     "name": "stdout",
     "output_type": "stream",
     "text": [
      "WARNING:tensorflow:`period` argument is deprecated. Please use `save_freq` to specify the frequency in number of batches seen.\n",
      "\n",
      "----------BUILDING MODEL with lr-0.01 and bs-128----------\n",
      "\n",
      "\n",
      "Epoch 00005: saving model to /content/drive/My Drive/Colab Notebooks/char-Multi-RNN-weights-0.01-128-05.hdf5\n",
      "\n",
      "Epoch 00010: saving model to /content/drive/My Drive/Colab Notebooks/char-Multi-RNN-weights-0.01-128-10.hdf5\n",
      "\n",
      "Epoch 00015: saving model to /content/drive/My Drive/Colab Notebooks/char-Multi-RNN-weights-0.01-128-15.hdf5\n",
      "\n",
      "Epoch 00020: saving model to /content/drive/My Drive/Colab Notebooks/char-Multi-RNN-weights-0.01-128-20.hdf5\n",
      "\n",
      "Epoch 00025: saving model to /content/drive/My Drive/Colab Notebooks/char-Multi-RNN-weights-0.01-128-25.hdf5\n",
      "\n",
      "Epoch 00030: saving model to /content/drive/My Drive/Colab Notebooks/char-Multi-RNN-weights-0.01-128-30.hdf5\n",
      "WARNING:tensorflow:`period` argument is deprecated. Please use `save_freq` to specify the frequency in number of batches seen.\n",
      "\n",
      "----------BUILDING MODEL with lr-0.01 and bs-256----------\n",
      "\n",
      "\n",
      "Epoch 00005: saving model to /content/drive/My Drive/Colab Notebooks/char-Multi-RNN-weights-0.01-256-05.hdf5\n",
      "\n",
      "Epoch 00010: saving model to /content/drive/My Drive/Colab Notebooks/char-Multi-RNN-weights-0.01-256-10.hdf5\n",
      "\n",
      "Epoch 00015: saving model to /content/drive/My Drive/Colab Notebooks/char-Multi-RNN-weights-0.01-256-15.hdf5\n",
      "\n",
      "Epoch 00020: saving model to /content/drive/My Drive/Colab Notebooks/char-Multi-RNN-weights-0.01-256-20.hdf5\n",
      "\n",
      "Epoch 00025: saving model to /content/drive/My Drive/Colab Notebooks/char-Multi-RNN-weights-0.01-256-25.hdf5\n",
      "\n",
      "Epoch 00030: saving model to /content/drive/My Drive/Colab Notebooks/char-Multi-RNN-weights-0.01-256-30.hdf5\n",
      "WARNING:tensorflow:`period` argument is deprecated. Please use `save_freq` to specify the frequency in number of batches seen.\n",
      "\n",
      "----------BUILDING MODEL with lr-0.001 and bs-128----------\n",
      "\n",
      "\n",
      "Epoch 00005: saving model to /content/drive/My Drive/Colab Notebooks/char-Multi-RNN-weights-0.001-128-05.hdf5\n",
      "\n",
      "Epoch 00010: saving model to /content/drive/My Drive/Colab Notebooks/char-Multi-RNN-weights-0.001-128-10.hdf5\n",
      "\n",
      "Epoch 00015: saving model to /content/drive/My Drive/Colab Notebooks/char-Multi-RNN-weights-0.001-128-15.hdf5\n",
      "\n",
      "Epoch 00020: saving model to /content/drive/My Drive/Colab Notebooks/char-Multi-RNN-weights-0.001-128-20.hdf5\n",
      "\n",
      "Epoch 00025: saving model to /content/drive/My Drive/Colab Notebooks/char-Multi-RNN-weights-0.001-128-25.hdf5\n",
      "\n",
      "Epoch 00030: saving model to /content/drive/My Drive/Colab Notebooks/char-Multi-RNN-weights-0.001-128-30.hdf5\n",
      "WARNING:tensorflow:`period` argument is deprecated. Please use `save_freq` to specify the frequency in number of batches seen.\n",
      "\n",
      "----------BUILDING MODEL with lr-0.0001 and bs-128----------\n",
      "\n",
      "\n",
      "Epoch 00005: saving model to /content/drive/My Drive/Colab Notebooks/char-Multi-RNN-weights-0.0001-128-05.hdf5\n",
      "\n",
      "Epoch 00010: saving model to /content/drive/My Drive/Colab Notebooks/char-Multi-RNN-weights-0.0001-128-10.hdf5\n",
      "\n",
      "Epoch 00015: saving model to /content/drive/My Drive/Colab Notebooks/char-Multi-RNN-weights-0.0001-128-15.hdf5\n",
      "\n",
      "Epoch 00020: saving model to /content/drive/My Drive/Colab Notebooks/char-Multi-RNN-weights-0.0001-128-20.hdf5\n",
      "\n",
      "Epoch 00025: saving model to /content/drive/My Drive/Colab Notebooks/char-Multi-RNN-weights-0.0001-128-25.hdf5\n",
      "\n",
      "Epoch 00030: saving model to /content/drive/My Drive/Colab Notebooks/char-Multi-RNN-weights-0.0001-128-30.hdf5\n"
     ]
    }
   ],
   "source": [
    "#Storing the model results in 'results' dataframe\n",
    "results = pd.DataFrame(columns = [\"learning_rate\",\"batch_size\",\"epochs\",\"time\"])\n",
    "\n",
    "#Various hyper parameter combinations for learning rate and batch_size\n",
    "for a,b in zip([0.01,0.01,0.001,0.0001],[128,256,128,128]):\n",
    "    model_build(a,b,results)\n",
    "\n",
    "#Saving the file_name of intermediate model weights files\n",
    "results['file_name']=results.apply(lambda row : \"char-Multi-RNN-weights-{}-{}-{:02d}.hdf5\".format(row.learning_rate, int(row.batch_size), int(row.epochs)), axis=1)"
   ]
  },
  {
   "cell_type": "code",
   "execution_count": 19,
   "metadata": {
    "colab": {
     "base_uri": "https://localhost:8080/",
     "height": 793
    },
    "colab_type": "code",
    "id": "LQUA0PoUOmbC",
    "outputId": "3a326856-19db-4121-ec79-3d0c4f85cc36"
   },
   "outputs": [
    {
     "data": {
      "text/html": [
       "<div>\n",
       "<style scoped>\n",
       "    .dataframe tbody tr th:only-of-type {\n",
       "        vertical-align: middle;\n",
       "    }\n",
       "\n",
       "    .dataframe tbody tr th {\n",
       "        vertical-align: top;\n",
       "    }\n",
       "\n",
       "    .dataframe thead th {\n",
       "        text-align: right;\n",
       "    }\n",
       "</style>\n",
       "<table border=\"1\" class=\"dataframe\">\n",
       "  <thead>\n",
       "    <tr style=\"text-align: right;\">\n",
       "      <th></th>\n",
       "      <th>learning_rate</th>\n",
       "      <th>batch_size</th>\n",
       "      <th>epochs</th>\n",
       "      <th>time</th>\n",
       "      <th>file_name</th>\n",
       "    </tr>\n",
       "  </thead>\n",
       "  <tbody>\n",
       "    <tr>\n",
       "      <th>0</th>\n",
       "      <td>0.0100</td>\n",
       "      <td>128.0</td>\n",
       "      <td>5.0</td>\n",
       "      <td>20.43</td>\n",
       "      <td>char-Multi-RNN-weights-0.01-128-05.hdf5</td>\n",
       "    </tr>\n",
       "    <tr>\n",
       "      <th>1</th>\n",
       "      <td>0.0100</td>\n",
       "      <td>128.0</td>\n",
       "      <td>10.0</td>\n",
       "      <td>40.83</td>\n",
       "      <td>char-Multi-RNN-weights-0.01-128-10.hdf5</td>\n",
       "    </tr>\n",
       "    <tr>\n",
       "      <th>2</th>\n",
       "      <td>0.0100</td>\n",
       "      <td>128.0</td>\n",
       "      <td>15.0</td>\n",
       "      <td>61.53</td>\n",
       "      <td>char-Multi-RNN-weights-0.01-128-15.hdf5</td>\n",
       "    </tr>\n",
       "    <tr>\n",
       "      <th>3</th>\n",
       "      <td>0.0100</td>\n",
       "      <td>128.0</td>\n",
       "      <td>20.0</td>\n",
       "      <td>82.40</td>\n",
       "      <td>char-Multi-RNN-weights-0.01-128-20.hdf5</td>\n",
       "    </tr>\n",
       "    <tr>\n",
       "      <th>4</th>\n",
       "      <td>0.0100</td>\n",
       "      <td>128.0</td>\n",
       "      <td>25.0</td>\n",
       "      <td>103.10</td>\n",
       "      <td>char-Multi-RNN-weights-0.01-128-25.hdf5</td>\n",
       "    </tr>\n",
       "    <tr>\n",
       "      <th>5</th>\n",
       "      <td>0.0100</td>\n",
       "      <td>128.0</td>\n",
       "      <td>30.0</td>\n",
       "      <td>123.05</td>\n",
       "      <td>char-Multi-RNN-weights-0.01-128-30.hdf5</td>\n",
       "    </tr>\n",
       "    <tr>\n",
       "      <th>6</th>\n",
       "      <td>0.0100</td>\n",
       "      <td>256.0</td>\n",
       "      <td>5.0</td>\n",
       "      <td>10.09</td>\n",
       "      <td>char-Multi-RNN-weights-0.01-256-05.hdf5</td>\n",
       "    </tr>\n",
       "    <tr>\n",
       "      <th>7</th>\n",
       "      <td>0.0100</td>\n",
       "      <td>256.0</td>\n",
       "      <td>10.0</td>\n",
       "      <td>20.23</td>\n",
       "      <td>char-Multi-RNN-weights-0.01-256-10.hdf5</td>\n",
       "    </tr>\n",
       "    <tr>\n",
       "      <th>8</th>\n",
       "      <td>0.0100</td>\n",
       "      <td>256.0</td>\n",
       "      <td>15.0</td>\n",
       "      <td>30.13</td>\n",
       "      <td>char-Multi-RNN-weights-0.01-256-15.hdf5</td>\n",
       "    </tr>\n",
       "    <tr>\n",
       "      <th>9</th>\n",
       "      <td>0.0100</td>\n",
       "      <td>256.0</td>\n",
       "      <td>20.0</td>\n",
       "      <td>39.82</td>\n",
       "      <td>char-Multi-RNN-weights-0.01-256-20.hdf5</td>\n",
       "    </tr>\n",
       "    <tr>\n",
       "      <th>10</th>\n",
       "      <td>0.0100</td>\n",
       "      <td>256.0</td>\n",
       "      <td>25.0</td>\n",
       "      <td>49.47</td>\n",
       "      <td>char-Multi-RNN-weights-0.01-256-25.hdf5</td>\n",
       "    </tr>\n",
       "    <tr>\n",
       "      <th>11</th>\n",
       "      <td>0.0100</td>\n",
       "      <td>256.0</td>\n",
       "      <td>30.0</td>\n",
       "      <td>59.08</td>\n",
       "      <td>char-Multi-RNN-weights-0.01-256-30.hdf5</td>\n",
       "    </tr>\n",
       "    <tr>\n",
       "      <th>12</th>\n",
       "      <td>0.0010</td>\n",
       "      <td>128.0</td>\n",
       "      <td>5.0</td>\n",
       "      <td>19.16</td>\n",
       "      <td>char-Multi-RNN-weights-0.001-128-05.hdf5</td>\n",
       "    </tr>\n",
       "    <tr>\n",
       "      <th>13</th>\n",
       "      <td>0.0010</td>\n",
       "      <td>128.0</td>\n",
       "      <td>10.0</td>\n",
       "      <td>38.46</td>\n",
       "      <td>char-Multi-RNN-weights-0.001-128-10.hdf5</td>\n",
       "    </tr>\n",
       "    <tr>\n",
       "      <th>14</th>\n",
       "      <td>0.0010</td>\n",
       "      <td>128.0</td>\n",
       "      <td>15.0</td>\n",
       "      <td>59.27</td>\n",
       "      <td>char-Multi-RNN-weights-0.001-128-15.hdf5</td>\n",
       "    </tr>\n",
       "    <tr>\n",
       "      <th>15</th>\n",
       "      <td>0.0010</td>\n",
       "      <td>128.0</td>\n",
       "      <td>20.0</td>\n",
       "      <td>79.93</td>\n",
       "      <td>char-Multi-RNN-weights-0.001-128-20.hdf5</td>\n",
       "    </tr>\n",
       "    <tr>\n",
       "      <th>16</th>\n",
       "      <td>0.0010</td>\n",
       "      <td>128.0</td>\n",
       "      <td>25.0</td>\n",
       "      <td>99.61</td>\n",
       "      <td>char-Multi-RNN-weights-0.001-128-25.hdf5</td>\n",
       "    </tr>\n",
       "    <tr>\n",
       "      <th>17</th>\n",
       "      <td>0.0010</td>\n",
       "      <td>128.0</td>\n",
       "      <td>30.0</td>\n",
       "      <td>121.04</td>\n",
       "      <td>char-Multi-RNN-weights-0.001-128-30.hdf5</td>\n",
       "    </tr>\n",
       "    <tr>\n",
       "      <th>18</th>\n",
       "      <td>0.0001</td>\n",
       "      <td>128.0</td>\n",
       "      <td>5.0</td>\n",
       "      <td>21.52</td>\n",
       "      <td>char-Multi-RNN-weights-0.0001-128-05.hdf5</td>\n",
       "    </tr>\n",
       "    <tr>\n",
       "      <th>19</th>\n",
       "      <td>0.0001</td>\n",
       "      <td>128.0</td>\n",
       "      <td>10.0</td>\n",
       "      <td>41.71</td>\n",
       "      <td>char-Multi-RNN-weights-0.0001-128-10.hdf5</td>\n",
       "    </tr>\n",
       "    <tr>\n",
       "      <th>20</th>\n",
       "      <td>0.0001</td>\n",
       "      <td>128.0</td>\n",
       "      <td>15.0</td>\n",
       "      <td>60.93</td>\n",
       "      <td>char-Multi-RNN-weights-0.0001-128-15.hdf5</td>\n",
       "    </tr>\n",
       "    <tr>\n",
       "      <th>21</th>\n",
       "      <td>0.0001</td>\n",
       "      <td>128.0</td>\n",
       "      <td>20.0</td>\n",
       "      <td>80.99</td>\n",
       "      <td>char-Multi-RNN-weights-0.0001-128-20.hdf5</td>\n",
       "    </tr>\n",
       "    <tr>\n",
       "      <th>22</th>\n",
       "      <td>0.0001</td>\n",
       "      <td>128.0</td>\n",
       "      <td>25.0</td>\n",
       "      <td>101.55</td>\n",
       "      <td>char-Multi-RNN-weights-0.0001-128-25.hdf5</td>\n",
       "    </tr>\n",
       "    <tr>\n",
       "      <th>23</th>\n",
       "      <td>0.0001</td>\n",
       "      <td>128.0</td>\n",
       "      <td>30.0</td>\n",
       "      <td>120.99</td>\n",
       "      <td>char-Multi-RNN-weights-0.0001-128-30.hdf5</td>\n",
       "    </tr>\n",
       "  </tbody>\n",
       "</table>\n",
       "</div>"
      ],
      "text/plain": [
       "    learning_rate  ...                                  file_name\n",
       "0          0.0100  ...    char-Multi-RNN-weights-0.01-128-05.hdf5\n",
       "1          0.0100  ...    char-Multi-RNN-weights-0.01-128-10.hdf5\n",
       "2          0.0100  ...    char-Multi-RNN-weights-0.01-128-15.hdf5\n",
       "3          0.0100  ...    char-Multi-RNN-weights-0.01-128-20.hdf5\n",
       "4          0.0100  ...    char-Multi-RNN-weights-0.01-128-25.hdf5\n",
       "5          0.0100  ...    char-Multi-RNN-weights-0.01-128-30.hdf5\n",
       "6          0.0100  ...    char-Multi-RNN-weights-0.01-256-05.hdf5\n",
       "7          0.0100  ...    char-Multi-RNN-weights-0.01-256-10.hdf5\n",
       "8          0.0100  ...    char-Multi-RNN-weights-0.01-256-15.hdf5\n",
       "9          0.0100  ...    char-Multi-RNN-weights-0.01-256-20.hdf5\n",
       "10         0.0100  ...    char-Multi-RNN-weights-0.01-256-25.hdf5\n",
       "11         0.0100  ...    char-Multi-RNN-weights-0.01-256-30.hdf5\n",
       "12         0.0010  ...   char-Multi-RNN-weights-0.001-128-05.hdf5\n",
       "13         0.0010  ...   char-Multi-RNN-weights-0.001-128-10.hdf5\n",
       "14         0.0010  ...   char-Multi-RNN-weights-0.001-128-15.hdf5\n",
       "15         0.0010  ...   char-Multi-RNN-weights-0.001-128-20.hdf5\n",
       "16         0.0010  ...   char-Multi-RNN-weights-0.001-128-25.hdf5\n",
       "17         0.0010  ...   char-Multi-RNN-weights-0.001-128-30.hdf5\n",
       "18         0.0001  ...  char-Multi-RNN-weights-0.0001-128-05.hdf5\n",
       "19         0.0001  ...  char-Multi-RNN-weights-0.0001-128-10.hdf5\n",
       "20         0.0001  ...  char-Multi-RNN-weights-0.0001-128-15.hdf5\n",
       "21         0.0001  ...  char-Multi-RNN-weights-0.0001-128-20.hdf5\n",
       "22         0.0001  ...  char-Multi-RNN-weights-0.0001-128-25.hdf5\n",
       "23         0.0001  ...  char-Multi-RNN-weights-0.0001-128-30.hdf5\n",
       "\n",
       "[24 rows x 5 columns]"
      ]
     },
     "execution_count": 19,
     "metadata": {
      "tags": []
     },
     "output_type": "execute_result"
    }
   ],
   "source": [
    "results"
   ]
  },
  {
   "cell_type": "markdown",
   "metadata": {
    "colab_type": "text",
    "id": "h3HwdoXE1f9l"
   },
   "source": [
    "**Generating a song for all the models created for various hyper parameters**"
   ]
  },
  {
   "cell_type": "code",
   "execution_count": 20,
   "metadata": {
    "colab": {},
    "colab_type": "code",
    "id": "7qk1kGKTPrx7"
   },
   "outputs": [],
   "source": [
    "#Function to generate new song using new model\n",
    "def generate(model):\n",
    "    generated=''\n",
    "    combined_lyrics = ' '.join(lyrics)\n",
    "    random.seed(1)\n",
    "    start_index=random.randint(0,len(combined_lyrics)-training_length-1)\n",
    "    sent=combined_lyrics[start_index:start_index+training_length]\n",
    "    generated+=sent\n",
    "    for i in range(lyric_length):\n",
    "        x_sample=generated[i:i+training_length]\n",
    "        x=np.zeros((1,training_length))\n",
    "        for j in range(training_length):\n",
    "            x[0,j]=list(idx_char.values()).index(x_sample[j])+1\n",
    "        probs=model.predict(x)\n",
    "        probs=np.reshape(probs,probs.shape[1])\n",
    "        np.random.seed(0)\n",
    "        #Picking a character based on probability distribution\n",
    "        ix=np.random.choice(range(num_chars),p=probs.ravel())\n",
    "        generated+=idx_char[ix]\n",
    "    return(generated)"
   ]
  },
  {
   "cell_type": "code",
   "execution_count": 21,
   "metadata": {
    "colab": {},
    "colab_type": "code",
    "id": "kOuvAL8APsBy"
   },
   "outputs": [],
   "source": [
    "#Creating a new column in results dataframe with the generated song\n",
    "results['generated'] = results.apply(lambda row : generate(load_model('/content/drive/My Drive/Colab Notebooks/' + row.file_name)), axis=1)"
   ]
  },
  {
   "cell_type": "code",
   "execution_count": 22,
   "metadata": {
    "colab": {
     "base_uri": "https://localhost:8080/",
     "height": 188
    },
    "colab_type": "code",
    "id": "V372dml0RTtj",
    "outputId": "74d30589-72e0-4ad5-fd8c-9b016a7f8a6d"
   },
   "outputs": [
    {
     "data": {
      "application/vnd.google.colaboratory.intrinsic+json": {
       "type": "string"
      },
      "text/plain": [
       "\" these things I've done, I will love you better noiiiiiiiiiiiiiiiiiiiiiiiiiiiiiiiiiiiiiiiiiiiiiiiiiiiiiiiiiiiiiiiiiiiiiiiiiiiiiiiiiiiiiiiiiiiiiiiiiiiiiiiiiiiiiiiiiiiiiiiiiiiiiiiiiiiiiiiiiiiiiiiiiiiiiiiiiiiiiiiiiiiiiiiiiiiiiiiiiiiiiiiiiiiiiiiiiiiiiiiiiiiiiiiiiiiiiiiiiiiiiiiiiiiiiiiiiiiiiiiiiiiiiiiiiiiiiiiiiiiiiiiiiiiiiiiiiiiiiiiiiiiiiiiiiiiiiiiiiiiiiiiiiiiiiiiiiiiiiiiiiiiiiiiiiiiiiiiiiiiiiiiiiiiiiiiiiiiiiiiiiiiiiiiiiiiiiiiiiiiiiiiiiiiiiiiiiiiiiiiiiiiiiiiiiiiiiiiiiiiiiiiiiiiiiiiiiiiiiiiiiiiiiiiiiiiiiiiiiiiiiiiiiiiiiiiiiiiiiiiiiiiiiiiiiiiiiiiiiiiiiiiiiiiiiiiiiiiiiiiiiiiiiiiiiiiiiiiiiiiiiiiiiiiiiiiiiiiiiiiiiiiiiiiiiiiiiiiiiiiiiiiiiiiiiiiiiiiiiiiiiiiiiiiiiiiiiiiiiiiiiiiiiiiiiiiiiiiiiiiiiiiiiiiiiiiiiiiiiiiiiiiiiiiiiiiiiiiiiiiiiiiiiiiiiiiiiiiiiiiiiiiiiiiiiiiiiiiiiiiiiiiiiiiiiiiiiiiiiiiiiiiiiiiiiiiiiiiiiiiiiiiiiiiiiiiiiiiiiiiiiiiiiiiiiiiiiiiiiiiiiiiiiiiiiiiiiiiiiiiiiiiiiiiiiiiiiiiiiiiiiiiiiiiiiiiiiiiiiiiiiiiiiiiiiiiiiiiiiiiiiiiiiiiiiiiiiiiiiiiiiiiiiiiiiiiiiiiiiiiiiiiiiiiiiiiiiiiiiiiiiiiiiiiiiiiiiiiiiiiiiiiiiiiiiiiiiiiiiiiiiiiiiiiiiiiiiiiiiiiiiiiiiiiiiiiiiiiiiiiiiiiiiiiiiiiiiiiiiiiiiiiiiiiiiiiiiiiiiiiiiiiiiiiiiiiiiiiiiiiiiiiiiiiiiiiiiiiiiiiiiiiiiiiiiiiiiiiiiiiiiiiiiiiiiiiiiiiiiiiiiiiiiiiiiiiiiiiiiiiiiiiiiiiiiiiiiiiiiiiiiiiiiiiiiiiiiiiiiiiiiiiiiiiiiiiiiiiiiiiiiiiiiiiiiiiiiiiiiiiiiiiiiiiiiiiiiiiiiiiiiiiiiiiiiiiiiiiiiiiiiiiiiiiiiiiiiiiiiiiiiiiiiiiiiiiiiiiiiiiiiiiiiiiiiiiiiiiiiiiiiiiiiiiiiiiiiiiiiiiiiiiiiiiiiiiiiiiiiiiiiiiiiiiiiiiiiiiiiiiiiiiiiiiiiiiiiiiiiiiiiiiiiiiiiiiiiiiiiiiiiiiiiiiiiiiiiiiiiiiiiiiiiiiiiiiiiiiiiiiiiiiiiiiiiiiiiiiiiiii\""
      ]
     },
     "execution_count": 22,
     "metadata": {
      "tags": []
     },
     "output_type": "execute_result"
    }
   ],
   "source": [
    "results['generated'][1]"
   ]
  },
  {
   "cell_type": "markdown",
   "metadata": {
    "colab_type": "text",
    "id": "eICUgeEB2sFy"
   },
   "source": [
    "**BLEU score using Validation data as ground truth for 1,2,3,4 grams**"
   ]
  },
  {
   "cell_type": "code",
   "execution_count": 23,
   "metadata": {
    "colab": {},
    "colab_type": "code",
    "id": "80y35NlNU8GY"
   },
   "outputs": [],
   "source": [
    "#Creating list of reference sequences\n",
    "reference=[]\n",
    "for a in range(X_test.shape[0]):\n",
    "    ref=''\n",
    "    for b in range(X_test.shape[1]):\n",
    "        ref=ref+idx_char[X_test[a][b]]\n",
    "    reference.append(ref.split())"
   ]
  },
  {
   "cell_type": "code",
   "execution_count": 24,
   "metadata": {
    "colab": {
     "base_uri": "https://localhost:8080/",
     "height": 187
    },
    "colab_type": "code",
    "id": "3xzLGafJX_He",
    "outputId": "4a80b73a-50e9-439f-aa68-4a4049af9655"
   },
   "outputs": [
    {
     "data": {
      "text/plain": [
       "['nt',\n",
       " 'to',\n",
       " 'UNI,',\n",
       " \"I've\",\n",
       " 'been',\n",
       " 'sofa',\n",
       " 'surfing',\n",
       " 'with',\n",
       " 'a',\n",
       " 'rucksack,']"
      ]
     },
     "execution_count": 24,
     "metadata": {
      "tags": []
     },
     "output_type": "execute_result"
    }
   ],
   "source": [
    "reference[0]"
   ]
  },
  {
   "cell_type": "code",
   "execution_count": 25,
   "metadata": {
    "colab": {},
    "colab_type": "code",
    "id": "xjDDXgWDjm_R"
   },
   "outputs": [],
   "source": [
    "#Function to find BLEU score\n",
    "def bleu_score(generated,gram):\n",
    "    references = [reference]\n",
    "    candidates = [generated.split()]\n",
    "    t = [0,0,0,0]\n",
    "    t[gram-1]=1\n",
    "    score = corpus_bleu(references, candidates, weights=tuple(t))\n",
    "    return score"
   ]
  },
  {
   "cell_type": "code",
   "execution_count": 26,
   "metadata": {
    "colab": {},
    "colab_type": "code",
    "id": "RMw4JjB6jOrQ"
   },
   "outputs": [],
   "source": [
    "#Creating new columns for BLUE score for 1,2,3,4 grams\n",
    "results['blue-1']=results['generated'].apply(lambda x: bleu_score(x,1))\n",
    "results['blue-2']=results['generated'].apply(lambda x: bleu_score(x,2))\n",
    "results['blue-3']=results['generated'].apply(lambda x: bleu_score(x,3))\n",
    "results['blue-4']=results['generated'].apply(lambda x: bleu_score(x,4))"
   ]
  },
  {
   "cell_type": "code",
   "execution_count": 27,
   "metadata": {
    "colab": {
     "base_uri": "https://localhost:8080/",
     "height": 793
    },
    "colab_type": "code",
    "id": "WXqVTnpHlvsW",
    "outputId": "e28236a7-3005-4273-ad9d-581e564a7b7c"
   },
   "outputs": [
    {
     "data": {
      "text/html": [
       "<div>\n",
       "<style scoped>\n",
       "    .dataframe tbody tr th:only-of-type {\n",
       "        vertical-align: middle;\n",
       "    }\n",
       "\n",
       "    .dataframe tbody tr th {\n",
       "        vertical-align: top;\n",
       "    }\n",
       "\n",
       "    .dataframe thead th {\n",
       "        text-align: right;\n",
       "    }\n",
       "</style>\n",
       "<table border=\"1\" class=\"dataframe\">\n",
       "  <thead>\n",
       "    <tr style=\"text-align: right;\">\n",
       "      <th></th>\n",
       "      <th>learning_rate</th>\n",
       "      <th>batch_size</th>\n",
       "      <th>epochs</th>\n",
       "      <th>time</th>\n",
       "      <th>file_name</th>\n",
       "      <th>generated</th>\n",
       "      <th>blue-1</th>\n",
       "      <th>blue-2</th>\n",
       "      <th>blue-3</th>\n",
       "      <th>blue-4</th>\n",
       "    </tr>\n",
       "  </thead>\n",
       "  <tbody>\n",
       "    <tr>\n",
       "      <th>0</th>\n",
       "      <td>0.0100</td>\n",
       "      <td>128.0</td>\n",
       "      <td>5.0</td>\n",
       "      <td>20.43</td>\n",
       "      <td>char-Multi-RNN-weights-0.01-128-05.hdf5</td>\n",
       "      <td>these things I've done, I will love you bette...</td>\n",
       "      <td>0.900000</td>\n",
       "      <td>0.888889</td>\n",
       "      <td>0.750000</td>\n",
       "      <td>0.571429</td>\n",
       "    </tr>\n",
       "    <tr>\n",
       "      <th>1</th>\n",
       "      <td>0.0100</td>\n",
       "      <td>128.0</td>\n",
       "      <td>10.0</td>\n",
       "      <td>40.83</td>\n",
       "      <td>char-Multi-RNN-weights-0.01-128-10.hdf5</td>\n",
       "      <td>these things I've done, I will love you bette...</td>\n",
       "      <td>0.900000</td>\n",
       "      <td>0.888889</td>\n",
       "      <td>0.750000</td>\n",
       "      <td>0.571429</td>\n",
       "    </tr>\n",
       "    <tr>\n",
       "      <th>2</th>\n",
       "      <td>0.0100</td>\n",
       "      <td>128.0</td>\n",
       "      <td>15.0</td>\n",
       "      <td>61.53</td>\n",
       "      <td>char-Multi-RNN-weights-0.01-128-15.hdf5</td>\n",
       "      <td>these things I've done, I will love you bette...</td>\n",
       "      <td>0.900000</td>\n",
       "      <td>0.888889</td>\n",
       "      <td>0.750000</td>\n",
       "      <td>0.571429</td>\n",
       "    </tr>\n",
       "    <tr>\n",
       "      <th>3</th>\n",
       "      <td>0.0100</td>\n",
       "      <td>128.0</td>\n",
       "      <td>20.0</td>\n",
       "      <td>82.40</td>\n",
       "      <td>char-Multi-RNN-weights-0.01-128-20.hdf5</td>\n",
       "      <td>these things I've done, I will love you bette...</td>\n",
       "      <td>0.900000</td>\n",
       "      <td>0.888889</td>\n",
       "      <td>0.750000</td>\n",
       "      <td>0.571429</td>\n",
       "    </tr>\n",
       "    <tr>\n",
       "      <th>4</th>\n",
       "      <td>0.0100</td>\n",
       "      <td>128.0</td>\n",
       "      <td>25.0</td>\n",
       "      <td>103.10</td>\n",
       "      <td>char-Multi-RNN-weights-0.01-128-25.hdf5</td>\n",
       "      <td>these things I've done, I will love you bette...</td>\n",
       "      <td>0.900000</td>\n",
       "      <td>0.888889</td>\n",
       "      <td>0.750000</td>\n",
       "      <td>0.571429</td>\n",
       "    </tr>\n",
       "    <tr>\n",
       "      <th>5</th>\n",
       "      <td>0.0100</td>\n",
       "      <td>128.0</td>\n",
       "      <td>30.0</td>\n",
       "      <td>123.05</td>\n",
       "      <td>char-Multi-RNN-weights-0.01-128-30.hdf5</td>\n",
       "      <td>these things I've done, I will love you bette...</td>\n",
       "      <td>0.900000</td>\n",
       "      <td>0.888889</td>\n",
       "      <td>0.750000</td>\n",
       "      <td>0.571429</td>\n",
       "    </tr>\n",
       "    <tr>\n",
       "      <th>6</th>\n",
       "      <td>0.0100</td>\n",
       "      <td>256.0</td>\n",
       "      <td>5.0</td>\n",
       "      <td>10.09</td>\n",
       "      <td>char-Multi-RNN-weights-0.01-256-05.hdf5</td>\n",
       "      <td>these things I've done, I will love you bette...</td>\n",
       "      <td>0.900000</td>\n",
       "      <td>0.888889</td>\n",
       "      <td>0.750000</td>\n",
       "      <td>0.571429</td>\n",
       "    </tr>\n",
       "    <tr>\n",
       "      <th>7</th>\n",
       "      <td>0.0100</td>\n",
       "      <td>256.0</td>\n",
       "      <td>10.0</td>\n",
       "      <td>20.23</td>\n",
       "      <td>char-Multi-RNN-weights-0.01-256-10.hdf5</td>\n",
       "      <td>these things I've done, I will love you bette...</td>\n",
       "      <td>0.900000</td>\n",
       "      <td>0.888889</td>\n",
       "      <td>0.750000</td>\n",
       "      <td>0.571429</td>\n",
       "    </tr>\n",
       "    <tr>\n",
       "      <th>8</th>\n",
       "      <td>0.0100</td>\n",
       "      <td>256.0</td>\n",
       "      <td>15.0</td>\n",
       "      <td>30.13</td>\n",
       "      <td>char-Multi-RNN-weights-0.01-256-15.hdf5</td>\n",
       "      <td>these things I've done, I will love you bette...</td>\n",
       "      <td>0.900000</td>\n",
       "      <td>0.888889</td>\n",
       "      <td>0.750000</td>\n",
       "      <td>0.571429</td>\n",
       "    </tr>\n",
       "    <tr>\n",
       "      <th>9</th>\n",
       "      <td>0.0100</td>\n",
       "      <td>256.0</td>\n",
       "      <td>20.0</td>\n",
       "      <td>39.82</td>\n",
       "      <td>char-Multi-RNN-weights-0.01-256-20.hdf5</td>\n",
       "      <td>these things I've done, I will love you bette...</td>\n",
       "      <td>0.900000</td>\n",
       "      <td>0.888889</td>\n",
       "      <td>0.750000</td>\n",
       "      <td>0.571429</td>\n",
       "    </tr>\n",
       "    <tr>\n",
       "      <th>10</th>\n",
       "      <td>0.0100</td>\n",
       "      <td>256.0</td>\n",
       "      <td>25.0</td>\n",
       "      <td>49.47</td>\n",
       "      <td>char-Multi-RNN-weights-0.01-256-25.hdf5</td>\n",
       "      <td>these things I've done, I will love you bette...</td>\n",
       "      <td>0.900000</td>\n",
       "      <td>0.888889</td>\n",
       "      <td>0.750000</td>\n",
       "      <td>0.571429</td>\n",
       "    </tr>\n",
       "    <tr>\n",
       "      <th>11</th>\n",
       "      <td>0.0100</td>\n",
       "      <td>256.0</td>\n",
       "      <td>30.0</td>\n",
       "      <td>59.08</td>\n",
       "      <td>char-Multi-RNN-weights-0.01-256-30.hdf5</td>\n",
       "      <td>these things I've done, I will love you bette...</td>\n",
       "      <td>0.900000</td>\n",
       "      <td>0.888889</td>\n",
       "      <td>0.750000</td>\n",
       "      <td>0.571429</td>\n",
       "    </tr>\n",
       "    <tr>\n",
       "      <th>12</th>\n",
       "      <td>0.0010</td>\n",
       "      <td>128.0</td>\n",
       "      <td>5.0</td>\n",
       "      <td>19.16</td>\n",
       "      <td>char-Multi-RNN-weights-0.001-128-05.hdf5</td>\n",
       "      <td>these things I've done, I will love you bette...</td>\n",
       "      <td>0.059574</td>\n",
       "      <td>0.042735</td>\n",
       "      <td>0.030043</td>\n",
       "      <td>0.021552</td>\n",
       "    </tr>\n",
       "    <tr>\n",
       "      <th>13</th>\n",
       "      <td>0.0010</td>\n",
       "      <td>128.0</td>\n",
       "      <td>10.0</td>\n",
       "      <td>38.46</td>\n",
       "      <td>char-Multi-RNN-weights-0.001-128-10.hdf5</td>\n",
       "      <td>these things I've done, I will love you bette...</td>\n",
       "      <td>0.061489</td>\n",
       "      <td>0.042208</td>\n",
       "      <td>0.022801</td>\n",
       "      <td>0.016340</td>\n",
       "    </tr>\n",
       "    <tr>\n",
       "      <th>14</th>\n",
       "      <td>0.0010</td>\n",
       "      <td>128.0</td>\n",
       "      <td>15.0</td>\n",
       "      <td>59.27</td>\n",
       "      <td>char-Multi-RNN-weights-0.001-128-15.hdf5</td>\n",
       "      <td>these things I've done, I will love you bette...</td>\n",
       "      <td>0.043062</td>\n",
       "      <td>0.026379</td>\n",
       "      <td>0.016827</td>\n",
       "      <td>0.012048</td>\n",
       "    </tr>\n",
       "    <tr>\n",
       "      <th>15</th>\n",
       "      <td>0.0010</td>\n",
       "      <td>128.0</td>\n",
       "      <td>20.0</td>\n",
       "      <td>79.93</td>\n",
       "      <td>char-Multi-RNN-weights-0.001-128-20.hdf5</td>\n",
       "      <td>these things I've done, I will love you bette...</td>\n",
       "      <td>0.052632</td>\n",
       "      <td>0.035191</td>\n",
       "      <td>0.020588</td>\n",
       "      <td>0.014749</td>\n",
       "    </tr>\n",
       "    <tr>\n",
       "      <th>16</th>\n",
       "      <td>0.0010</td>\n",
       "      <td>128.0</td>\n",
       "      <td>25.0</td>\n",
       "      <td>99.61</td>\n",
       "      <td>char-Multi-RNN-weights-0.001-128-25.hdf5</td>\n",
       "      <td>these things I've done, I will love you bette...</td>\n",
       "      <td>0.094891</td>\n",
       "      <td>0.073529</td>\n",
       "      <td>0.051852</td>\n",
       "      <td>0.037313</td>\n",
       "    </tr>\n",
       "    <tr>\n",
       "      <th>17</th>\n",
       "      <td>0.0010</td>\n",
       "      <td>128.0</td>\n",
       "      <td>30.0</td>\n",
       "      <td>121.04</td>\n",
       "      <td>char-Multi-RNN-weights-0.001-128-30.hdf5</td>\n",
       "      <td>these things I've done, I will love you bette...</td>\n",
       "      <td>0.050239</td>\n",
       "      <td>0.028777</td>\n",
       "      <td>0.016827</td>\n",
       "      <td>0.012048</td>\n",
       "    </tr>\n",
       "    <tr>\n",
       "      <th>18</th>\n",
       "      <td>0.0001</td>\n",
       "      <td>128.0</td>\n",
       "      <td>5.0</td>\n",
       "      <td>21.52</td>\n",
       "      <td>char-Multi-RNN-weights-0.0001-128-05.hdf5</td>\n",
       "      <td>these things I've done, I will love you bette...</td>\n",
       "      <td>0.051813</td>\n",
       "      <td>0.041667</td>\n",
       "      <td>0.031414</td>\n",
       "      <td>0.021053</td>\n",
       "    </tr>\n",
       "    <tr>\n",
       "      <th>19</th>\n",
       "      <td>0.0001</td>\n",
       "      <td>128.0</td>\n",
       "      <td>10.0</td>\n",
       "      <td>41.71</td>\n",
       "      <td>char-Multi-RNN-weights-0.0001-128-10.hdf5</td>\n",
       "      <td>these things I've done, I will love you bette...</td>\n",
       "      <td>0.034749</td>\n",
       "      <td>0.031008</td>\n",
       "      <td>0.023346</td>\n",
       "      <td>0.015625</td>\n",
       "    </tr>\n",
       "    <tr>\n",
       "      <th>20</th>\n",
       "      <td>0.0001</td>\n",
       "      <td>128.0</td>\n",
       "      <td>15.0</td>\n",
       "      <td>60.93</td>\n",
       "      <td>char-Multi-RNN-weights-0.0001-128-15.hdf5</td>\n",
       "      <td>these things I've done, I will love you bette...</td>\n",
       "      <td>0.033766</td>\n",
       "      <td>0.023438</td>\n",
       "      <td>0.015666</td>\n",
       "      <td>0.010471</td>\n",
       "    </tr>\n",
       "    <tr>\n",
       "      <th>21</th>\n",
       "      <td>0.0001</td>\n",
       "      <td>128.0</td>\n",
       "      <td>20.0</td>\n",
       "      <td>80.99</td>\n",
       "      <td>char-Multi-RNN-weights-0.0001-128-20.hdf5</td>\n",
       "      <td>these things I've done, I will love you bette...</td>\n",
       "      <td>0.038911</td>\n",
       "      <td>0.031250</td>\n",
       "      <td>0.023529</td>\n",
       "      <td>0.015748</td>\n",
       "    </tr>\n",
       "    <tr>\n",
       "      <th>22</th>\n",
       "      <td>0.0001</td>\n",
       "      <td>128.0</td>\n",
       "      <td>25.0</td>\n",
       "      <td>101.55</td>\n",
       "      <td>char-Multi-RNN-weights-0.0001-128-25.hdf5</td>\n",
       "      <td>these things I've done, I will love you bette...</td>\n",
       "      <td>0.049808</td>\n",
       "      <td>0.034615</td>\n",
       "      <td>0.023166</td>\n",
       "      <td>0.015504</td>\n",
       "    </tr>\n",
       "    <tr>\n",
       "      <th>23</th>\n",
       "      <td>0.0001</td>\n",
       "      <td>128.0</td>\n",
       "      <td>30.0</td>\n",
       "      <td>120.99</td>\n",
       "      <td>char-Multi-RNN-weights-0.0001-128-30.hdf5</td>\n",
       "      <td>these things I've done, I will love you bette...</td>\n",
       "      <td>0.061611</td>\n",
       "      <td>0.052381</td>\n",
       "      <td>0.033493</td>\n",
       "      <td>0.024038</td>\n",
       "    </tr>\n",
       "  </tbody>\n",
       "</table>\n",
       "</div>"
      ],
      "text/plain": [
       "    learning_rate  batch_size  epochs  ...    blue-2    blue-3    blue-4\n",
       "0          0.0100       128.0     5.0  ...  0.888889  0.750000  0.571429\n",
       "1          0.0100       128.0    10.0  ...  0.888889  0.750000  0.571429\n",
       "2          0.0100       128.0    15.0  ...  0.888889  0.750000  0.571429\n",
       "3          0.0100       128.0    20.0  ...  0.888889  0.750000  0.571429\n",
       "4          0.0100       128.0    25.0  ...  0.888889  0.750000  0.571429\n",
       "5          0.0100       128.0    30.0  ...  0.888889  0.750000  0.571429\n",
       "6          0.0100       256.0     5.0  ...  0.888889  0.750000  0.571429\n",
       "7          0.0100       256.0    10.0  ...  0.888889  0.750000  0.571429\n",
       "8          0.0100       256.0    15.0  ...  0.888889  0.750000  0.571429\n",
       "9          0.0100       256.0    20.0  ...  0.888889  0.750000  0.571429\n",
       "10         0.0100       256.0    25.0  ...  0.888889  0.750000  0.571429\n",
       "11         0.0100       256.0    30.0  ...  0.888889  0.750000  0.571429\n",
       "12         0.0010       128.0     5.0  ...  0.042735  0.030043  0.021552\n",
       "13         0.0010       128.0    10.0  ...  0.042208  0.022801  0.016340\n",
       "14         0.0010       128.0    15.0  ...  0.026379  0.016827  0.012048\n",
       "15         0.0010       128.0    20.0  ...  0.035191  0.020588  0.014749\n",
       "16         0.0010       128.0    25.0  ...  0.073529  0.051852  0.037313\n",
       "17         0.0010       128.0    30.0  ...  0.028777  0.016827  0.012048\n",
       "18         0.0001       128.0     5.0  ...  0.041667  0.031414  0.021053\n",
       "19         0.0001       128.0    10.0  ...  0.031008  0.023346  0.015625\n",
       "20         0.0001       128.0    15.0  ...  0.023438  0.015666  0.010471\n",
       "21         0.0001       128.0    20.0  ...  0.031250  0.023529  0.015748\n",
       "22         0.0001       128.0    25.0  ...  0.034615  0.023166  0.015504\n",
       "23         0.0001       128.0    30.0  ...  0.052381  0.033493  0.024038\n",
       "\n",
       "[24 rows x 10 columns]"
      ]
     },
     "execution_count": 27,
     "metadata": {
      "tags": []
     },
     "output_type": "execute_result"
    }
   ],
   "source": [
    "results.to_csv(\"/content/drive/My Drive/Colab Notebooks/char-Multi-RNN-results.csv\",index=None)\n",
    "results"
   ]
  },
  {
   "cell_type": "markdown",
   "metadata": {
    "colab_type": "text",
    "id": "5GnwFZCcoP5b"
   },
   "source": [
    "**Plot for BLEU score(2-grams) vs epochs with parameters as lr=0.01, batch_size=128**"
   ]
  },
  {
   "cell_type": "code",
   "execution_count": 28,
   "metadata": {
    "colab": {
     "base_uri": "https://localhost:8080/",
     "height": 71
    },
    "colab_type": "code",
    "id": "AHVZHnr6qmm1",
    "outputId": "b031bd3e-ee36-4d15-c147-52e6b342eeeb"
   },
   "outputs": [
    {
     "name": "stderr",
     "output_type": "stream",
     "text": [
      "/usr/local/lib/python3.6/dist-packages/statsmodels/tools/_testing.py:19: FutureWarning: pandas.util.testing is deprecated. Use the functions in the public API at pandas.testing instead.\n",
      "  import pandas.util.testing as tm\n"
     ]
    }
   ],
   "source": [
    "import matplotlib.pyplot as plt\n",
    "import seaborn as sns"
   ]
  },
  {
   "cell_type": "code",
   "execution_count": 29,
   "metadata": {
    "colab": {
     "base_uri": "https://localhost:8080/",
     "height": 350
    },
    "colab_type": "code",
    "id": "-daDK2Bfl6HL",
    "outputId": "38dacc2d-de0f-4115-d98b-ab56c74661fb"
   },
   "outputs": [
    {
     "data": {
      "image/png": "[encoded data removed]",
      "text/plain": [
       "<Figure size 720x360 with 1 Axes>"
      ]
     },
     "metadata": {
      "needs_background": "light",
      "tags": []
     },
     "output_type": "display_data"
    }
   ],
   "source": [
    "plt.figure(figsize=(10,5))\n",
    "sns.lineplot(x='epochs', y='blue-2',  \n",
    "             data=results[(results['learning_rate']==0.01) & (results['batch_size']==128)], palette = \"Dark2\")\n",
    "plt.title('BLEU score Vs Epochs')\n",
    "plt.xlabel('Epochs')\n",
    "plt.ylabel('BLEU score (2-grams)')\n",
    "plt.xticks(range(0,31,5))\n",
    "plt.yticks([0.1*x for x in range(0,11)])\n",
    "plt.savefig(\"/content/drive/My Drive/Colab Notebooks/char-Multi-RNN-p1.png\")\n",
    "plt.show()"
   ]
  },
  {
   "cell_type": "markdown",
   "metadata": {},
   "source": [
    "- constant BLEU score"
   ]
  },
  {
   "cell_type": "markdown",
   "metadata": {
    "colab_type": "text",
    "id": "nNyjJISStBLO"
   },
   "source": [
    "**Plot for BLEU score(2-grams) vs Batch size with parameters lr=0.01 and epochs=30**"
   ]
  },
  {
   "cell_type": "code",
   "execution_count": 30,
   "metadata": {
    "colab": {
     "base_uri": "https://localhost:8080/",
     "height": 350
    },
    "colab_type": "code",
    "id": "Wf1ydcios_2j",
    "outputId": "970bbcc5-0d6e-461e-9b3c-b31f2fa025db"
   },
   "outputs": [
    {
     "data": {
      "image/png": "[encoded data removed]",
      "text/plain": [
       "<Figure size 720x360 with 1 Axes>"
      ]
     },
     "metadata": {
      "needs_background": "light",
      "tags": []
     },
     "output_type": "display_data"
    }
   ],
   "source": [
    "plt.figure(figsize=(10,5))\n",
    "sns.lineplot(x='batch_size', y='blue-2',  \n",
    "             data=results[(results['learning_rate']==0.01) & (results['epochs']==30)], palette = \"Dark2\")\n",
    "plt.title('BLEU score Vs Batch size')\n",
    "plt.xlabel('Batch size')\n",
    "plt.ylabel('BLEU score (2-grams)')\n",
    "plt.xticks(range(0,257,128))\n",
    "plt.yticks([0.1*x for x in range(0,11)])\n",
    "plt.savefig(\"/content/drive/My Drive/Colab Notebooks/char-Multi-RNN-p2.png\")\n",
    "plt.show()"
   ]
  },
  {
   "cell_type": "markdown",
   "metadata": {},
   "source": [
    "- Constant BLEU score"
   ]
  }
 ],
 "metadata": {
  "accelerator": "GPU",
  "colab": {
   "collapsed_sections": [],
   "name": "Character-wise Encoding, Multi-Layer RNN model.ipynb",
   "provenance": []
  },
  "kernelspec": {
   "display_name": "Python 3",
   "language": "python",
   "name": "python3"
  },
  "language_info": {
   "codemirror_mode": {
    "name": "ipython",
    "version": 3
   },
   "file_extension": ".py",
   "mimetype": "text/x-python",
   "name": "python",
   "nbconvert_exporter": "python",
   "pygments_lexer": "ipython3",
   "version": "3.6.5"
  }
 },
 "nbformat": 4,
 "nbformat_minor": 1
}
